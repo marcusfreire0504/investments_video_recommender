{
 "cells": [
  {
   "cell_type": "markdown",
   "metadata": {},
   "source": [
    "## Modelo 2 - Active learning\n",
    "\n",
    "Aqui, será criado um modelo para etiquetar as demais amostras, que não tiveram label atribuída manualmente (arquivom ./datasets/raw_data_with_labels.xlsx)"
   ]
  },
  {
   "cell_type": "code",
   "execution_count": 2,
   "metadata": {},
   "outputs": [
    {
     "name": "stdout",
     "output_type": "stream",
     "text": [
      "Populating the interactive namespace from numpy and matplotlib\n"
     ]
    }
   ],
   "source": [
    "#importando pacotes\n",
    "import pandas as pd\n",
    "import numpy as np\n",
    "import re\n",
    "import time\n",
    "\n",
    "import bs4\n",
    "import json\n",
    "\n",
    "import glob\n",
    "import tqdm\n",
    "\n",
    "pd.set_option(\"max.columns\", 100)\n",
    "\n",
    "#https://strftime.org\n",
    "%matplotlib inline\n",
    "%pylab inline"
   ]
  },
  {
   "cell_type": "code",
   "execution_count": 3,
   "metadata": {},
   "outputs": [],
   "source": [
    "#lendo dataframes\n",
    "df_limpo = pd.read_pickle('./datasets/df_limpo.pkl')"
   ]
  },
  {
   "cell_type": "code",
   "execution_count": 4,
   "metadata": {},
   "outputs": [
    {
     "data": {
      "text/html": [
       "<div>\n",
       "<style scoped>\n",
       "    .dataframe tbody tr th:only-of-type {\n",
       "        vertical-align: middle;\n",
       "    }\n",
       "\n",
       "    .dataframe tbody tr th {\n",
       "        vertical-align: top;\n",
       "    }\n",
       "\n",
       "    .dataframe thead th {\n",
       "        text-align: right;\n",
       "    }\n",
       "</style>\n",
       "<table border=\"1\" class=\"dataframe\">\n",
       "  <thead>\n",
       "    <tr style=\"text-align: right;\">\n",
       "      <th></th>\n",
       "      <th>data</th>\n",
       "      <th>views</th>\n",
       "      <th>title</th>\n",
       "    </tr>\n",
       "  </thead>\n",
       "  <tbody>\n",
       "    <tr>\n",
       "      <th>0</th>\n",
       "      <td>2019-07-30</td>\n",
       "      <td>635</td>\n",
       "      <td>Finanças é Coisa de Criança!</td>\n",
       "    </tr>\n",
       "    <tr>\n",
       "      <th>1</th>\n",
       "      <td>2019-12-03</td>\n",
       "      <td>37305</td>\n",
       "      <td>Câncer 2020 - Profissional e Finanças 1° semestre</td>\n",
       "    </tr>\n",
       "    <tr>\n",
       "      <th>2</th>\n",
       "      <td>2017-03-30</td>\n",
       "      <td>98</td>\n",
       "      <td>Seja Rica: Conquiste sua Independência Financeira</td>\n",
       "    </tr>\n",
       "    <tr>\n",
       "      <th>3</th>\n",
       "      <td>2019-03-19</td>\n",
       "      <td>41</td>\n",
       "      <td>Independência FINANCEIRA</td>\n",
       "    </tr>\n",
       "    <tr>\n",
       "      <th>5</th>\n",
       "      <td>2020-01-21</td>\n",
       "      <td>389</td>\n",
       "      <td>6 ERROS para NÃO ter a INDEPENDÊNCIA FINANCEIR...</td>\n",
       "    </tr>\n",
       "  </tbody>\n",
       "</table>\n",
       "</div>"
      ],
      "text/plain": [
       "        data  views                                              title\n",
       "0 2019-07-30    635                       Finanças é Coisa de Criança!\n",
       "1 2019-12-03  37305  Câncer 2020 - Profissional e Finanças 1° semestre\n",
       "2 2017-03-30     98  Seja Rica: Conquiste sua Independência Financeira\n",
       "3 2019-03-19     41                           Independência FINANCEIRA\n",
       "5 2020-01-21    389  6 ERROS para NÃO ter a INDEPENDÊNCIA FINANCEIR..."
      ]
     },
     "execution_count": 4,
     "metadata": {},
     "output_type": "execute_result"
    }
   ],
   "source": [
    "df_limpo.head()"
   ]
  },
  {
   "cell_type": "code",
   "execution_count": 5,
   "metadata": {},
   "outputs": [],
   "source": [
    "features = pd.read_pickle('./datasets/features.pkl')"
   ]
  },
  {
   "cell_type": "code",
   "execution_count": 6,
   "metadata": {},
   "outputs": [
    {
     "data": {
      "text/html": [
       "<div>\n",
       "<style scoped>\n",
       "    .dataframe tbody tr th:only-of-type {\n",
       "        vertical-align: middle;\n",
       "    }\n",
       "\n",
       "    .dataframe tbody tr th {\n",
       "        vertical-align: top;\n",
       "    }\n",
       "\n",
       "    .dataframe thead th {\n",
       "        text-align: right;\n",
       "    }\n",
       "</style>\n",
       "<table border=\"1\" class=\"dataframe\">\n",
       "  <thead>\n",
       "    <tr style=\"text-align: right;\">\n",
       "      <th></th>\n",
       "      <th>views</th>\n",
       "      <th>views_por_dia</th>\n",
       "    </tr>\n",
       "  </thead>\n",
       "  <tbody>\n",
       "    <tr>\n",
       "      <th>0</th>\n",
       "      <td>635</td>\n",
       "      <td>2.243816</td>\n",
       "    </tr>\n",
       "    <tr>\n",
       "      <th>1</th>\n",
       "      <td>37305</td>\n",
       "      <td>237.611465</td>\n",
       "    </tr>\n",
       "    <tr>\n",
       "      <th>2</th>\n",
       "      <td>98</td>\n",
       "      <td>0.086344</td>\n",
       "    </tr>\n",
       "    <tr>\n",
       "      <th>3</th>\n",
       "      <td>41</td>\n",
       "      <td>0.098558</td>\n",
       "    </tr>\n",
       "    <tr>\n",
       "      <th>5</th>\n",
       "      <td>389</td>\n",
       "      <td>3.601852</td>\n",
       "    </tr>\n",
       "  </tbody>\n",
       "</table>\n",
       "</div>"
      ],
      "text/plain": [
       "   views  views_por_dia\n",
       "0    635       2.243816\n",
       "1  37305     237.611465\n",
       "2     98       0.086344\n",
       "3     41       0.098558\n",
       "5    389       3.601852"
      ]
     },
     "execution_count": 6,
     "metadata": {},
     "output_type": "execute_result"
    }
   ],
   "source": [
    "features.head()"
   ]
  },
  {
   "cell_type": "code",
   "execution_count": 7,
   "metadata": {},
   "outputs": [],
   "source": [
    "#carregando conjunto completo de dados\n",
    "df = pd.read_excel('./datasets/raw_data_with_labels.xlsx', index_col=0)"
   ]
  },
  {
   "cell_type": "code",
   "execution_count": 8,
   "metadata": {},
   "outputs": [
    {
     "data": {
      "text/plain": [
       "(503, 14)"
      ]
     },
     "execution_count": 8,
     "metadata": {},
     "output_type": "execute_result"
    }
   ],
   "source": [
    "#criando novo dataframe somente com dados etiquetadas\n",
    "df_labeled = df[df.y.notnull()].copy()\n",
    "df_labeled.shape"
   ]
  },
  {
   "cell_type": "code",
   "execution_count": 9,
   "metadata": {},
   "outputs": [],
   "source": [
    "#criando série com as labels\n",
    "y = df_labeled['y'].copy()"
   ]
  },
  {
   "cell_type": "code",
   "execution_count": 10,
   "metadata": {},
   "outputs": [],
   "source": [
    "#importando alguns modelos\n",
    "from sklearn.linear_model import LogisticRegression\n",
    "from sklearn.tree import DecisionTreeClassifier\n",
    "from sklearn.model_selection import train_test_split\n",
    "from sklearn.ensemble import RandomForestClassifier"
   ]
  },
  {
   "cell_type": "code",
   "execution_count": 11,
   "metadata": {},
   "outputs": [],
   "source": [
    "#criando sets de treino e validação, separando os dados em 50% (quantil 0.5)\n",
    "mask_train = df_limpo.data < df_limpo.data.quantile(0.5)\n",
    "mask_val = df_limpo.data >= df_limpo.data.quantile(0.5)\n",
    "\n",
    "Xtrain, Xval = features[mask_train], features[mask_val]\n",
    "ytrain, yval = y[mask_train], y[mask_val]"
   ]
  },
  {
   "cell_type": "code",
   "execution_count": 12,
   "metadata": {},
   "outputs": [
    {
     "data": {
      "text/plain": [
       "((250, 2), (253, 2), (250,), (253,))"
      ]
     },
     "execution_count": 12,
     "metadata": {},
     "output_type": "execute_result"
    }
   ],
   "source": [
    "Xtrain.shape, Xval.shape, ytrain.shape, yval.shape"
   ]
  },
  {
   "cell_type": "code",
   "execution_count": 13,
   "metadata": {},
   "outputs": [],
   "source": [
    "from sklearn.feature_extraction.text import TfidfVectorizer\n",
    "\n",
    "title_train = df_limpo[mask_train]['title'] #coletando títulos do set de treino\n",
    "title_val = df_limpo[mask_val]['title'] #coletando títulos do set de validação\n",
    "\n",
    "title_vec = TfidfVectorizer(min_df = 2) #vetorizador. lembrar que modelos não trabalham com strings\n",
    "#ocorrência mínima do termo em 2 vídeos\n",
    "\n",
    "title_bow_train = title_vec.fit_transform(title_train)\n",
    "title_bow_val = title_vec.transform(title_val) #usamos somente transform para transformar somente baseado nas palavras no dataset passado para ele."
   ]
  },
  {
   "cell_type": "code",
   "execution_count": 14,
   "metadata": {},
   "outputs": [
    {
     "data": {
      "text/plain": [
       "(250, 211)"
      ]
     },
     "execution_count": 14,
     "metadata": {},
     "output_type": "execute_result"
    }
   ],
   "source": [
    "title_bow_train.shape  "
   ]
  },
  {
   "cell_type": "markdown",
   "metadata": {},
   "source": [
    "Mais sobre Tf iDF [aqui](https://scikit-learn.org/stable/modules/feature_extraction.html#text-feature-extraction).\n",
    "O resultado acima indica que foram criadas 211 colunas no title_bow_train. Cada coluna é um vetor para cada palavra do título. O formato será uma matriz esparsa (só armazena valores maiores que zero), do scipy."
   ]
  },
  {
   "cell_type": "code",
   "execution_count": 15,
   "metadata": {},
   "outputs": [
    {
     "data": {
      "text/plain": [
       "<250x211 sparse matrix of type '<class 'numpy.float64'>'\n",
       "\twith 1411 stored elements in Compressed Sparse Row format>"
      ]
     },
     "execution_count": 15,
     "metadata": {},
     "output_type": "execute_result"
    }
   ],
   "source": [
    "title_bow_train"
   ]
  },
  {
   "cell_type": "markdown",
   "metadata": {},
   "source": [
    "A matriz criada para title_bow_train armazenou 1411 valores na mmemória. Se fosse armazenar todos os valores, teríamos:"
   ]
  },
  {
   "cell_type": "code",
   "execution_count": 16,
   "metadata": {},
   "outputs": [
    {
     "data": {
      "text/plain": [
       "52750"
      ]
     },
     "execution_count": 16,
     "metadata": {},
     "output_type": "execute_result"
    }
   ],
   "source": [
    "250 * 211"
   ]
  },
  {
   "cell_type": "markdown",
   "metadata": {},
   "source": [
    "Para juntar as features de texto com as numéricas, deve-se usar a função hstack do scipy.sparse (hstack e vstack permitem lidar com matrizes esparsas com mais eficiência.\n",
    "Vamos juntas as features para poder treinar o novo modelo. Mais sobre scipy sparse [aqui](https://docs.scipy.org/doc/scipy/reference/sparse.html)."
   ]
  },
  {
   "cell_type": "code",
   "execution_count": 17,
   "metadata": {},
   "outputs": [],
   "source": [
    "from scipy.sparse import hstack, vstack"
   ]
  },
  {
   "cell_type": "code",
   "execution_count": 18,
   "metadata": {},
   "outputs": [],
   "source": [
    "Xtrain_wtitle = hstack([Xtrain, title_bow_train]) #aqui, juntamos as features de treino em Xtrain com as geradas para os títulos das features de treino\n",
    "Xval_wtitle = hstack([Xval, title_bow_val]) #ídem para validação"
   ]
  },
  {
   "cell_type": "code",
   "execution_count": 19,
   "metadata": {},
   "outputs": [
    {
     "data": {
      "text/plain": [
       "((250, 213), (253, 213))"
      ]
     },
     "execution_count": 19,
     "metadata": {},
     "output_type": "execute_result"
    }
   ],
   "source": [
    "# o total de colunas será a soma das colunas das features numéricas com as de texto (2 + 211 = 213)\n",
    "Xtrain_wtitle.shape, Xval_wtitle.shape"
   ]
  },
  {
   "cell_type": "code",
   "execution_count": 20,
   "metadata": {},
   "outputs": [
    {
     "name": "stdout",
     "output_type": "stream",
     "text": [
      "Wall time: 1.22 s\n"
     ]
    },
    {
     "data": {
      "text/plain": [
       "RandomForestClassifier(class_weight='balanced', n_estimators=1000, n_jobs=8,\n",
       "                       random_state=0)"
      ]
     },
     "execution_count": 20,
     "metadata": {},
     "output_type": "execute_result"
    }
   ],
   "source": [
    "%%time\n",
    "#treinando modelo\n",
    "# 1000 árvores\n",
    "\n",
    "mdl = RandomForestClassifier(n_estimators = 1000, random_state = 0, class_weight=\"balanced\", n_jobs=8)\n",
    "mdl.fit(Xtrain_wtitle, ytrain)"
   ]
  },
  {
   "cell_type": "code",
   "execution_count": 21,
   "metadata": {},
   "outputs": [],
   "source": [
    "p = mdl.predict_proba(Xval_wtitle)[:, 1]"
   ]
  },
  {
   "cell_type": "code",
   "execution_count": 22,
   "metadata": {},
   "outputs": [],
   "source": [
    "from sklearn.metrics import roc_auc_score, average_precision_score"
   ]
  },
  {
   "cell_type": "markdown",
   "metadata": {},
   "source": [
    "Relembrando valores com árvore de decisão:\n",
    "- average_precision_score = 0.4665\n",
    "- roc_auc_score = 0.8083\n",
    "\n",
    "Abaixo, as mesmas métricas para ramdom forest:"
   ]
  },
  {
   "cell_type": "code",
   "execution_count": 23,
   "metadata": {},
   "outputs": [
    {
     "data": {
      "text/plain": [
       "0.7411156726976864"
      ]
     },
     "execution_count": 23,
     "metadata": {},
     "output_type": "execute_result"
    }
   ],
   "source": [
    "average_precision_score(yval, p)"
   ]
  },
  {
   "cell_type": "code",
   "execution_count": 24,
   "metadata": {},
   "outputs": [
    {
     "data": {
      "text/plain": [
       "0.9096695226438188"
      ]
     },
     "execution_count": 24,
     "metadata": {},
     "output_type": "execute_result"
    }
   ],
   "source": [
    "roc_auc_score(yval, p)"
   ]
  },
  {
   "cell_type": "markdown",
   "metadata": {},
   "source": [
    "queremos um mindf que melhore as métricas. mindf = 1 provou uma perda maior em ap do que a melhora em auc. vamos manter mindf = 2."
   ]
  },
  {
   "cell_type": "code",
   "execution_count": null,
   "metadata": {},
   "outputs": [],
   "source": [
    "mindf = 1 -> ap = 0.6864279965296931, auc = 0.9100979192166464\n",
    "mindf = 2 -> ap = 0.7411156726976864, auc = 0.9096695226438188"
   ]
  },
  {
   "cell_type": "markdown",
   "metadata": {},
   "source": [
    "### Active Learning\n",
    "\n",
    "Em projetos reais, pode ser caro etiquetar muitos dados para treinar o modelo principal. Nesse exemplo, seguindo a mesma suposição do curso, vamos assumir que só há orçamento para etiquetar mais 100 exemplos. Nesse caso, uma boa prática é selecionar:\n",
    "* 70 exemplos que o modelo tenha dificuldade de prever a resposta (~50% o valor da previsão)\n",
    "* 30 exemplos aleatoriametnte  \n",
    "\n",
    "Vamos carregar o dataframe df_unlabeled, com os dados que não foram etiquetados (y = null)."
   ]
  },
  {
   "cell_type": "code",
   "execution_count": 44,
   "metadata": {},
   "outputs": [],
   "source": [
    "df_unlabeled = df[df.y.isnull()].dropna(how='all').copy() #parâmetro how='all' retira linhas com todas as colunas em branco"
   ]
  },
  {
   "cell_type": "code",
   "execution_count": 45,
   "metadata": {},
   "outputs": [
    {
     "data": {
      "text/plain": [
       "(1005, 14)"
      ]
     },
     "execution_count": 45,
     "metadata": {},
     "output_type": "execute_result"
    }
   ],
   "source": [
    "df_unlabeled.shape"
   ]
  },
  {
   "cell_type": "code",
   "execution_count": 46,
   "metadata": {},
   "outputs": [
    {
     "data": {
      "text/html": [
       "<div>\n",
       "<style scoped>\n",
       "    .dataframe tbody tr th:only-of-type {\n",
       "        vertical-align: middle;\n",
       "    }\n",
       "\n",
       "    .dataframe tbody tr th {\n",
       "        vertical-align: top;\n",
       "    }\n",
       "\n",
       "    .dataframe thead th {\n",
       "        text-align: right;\n",
       "    }\n",
       "</style>\n",
       "<table border=\"1\" class=\"dataframe\">\n",
       "  <thead>\n",
       "    <tr style=\"text-align: right;\">\n",
       "      <th></th>\n",
       "      <th>watch-title</th>\n",
       "      <th>y</th>\n",
       "      <th>watch-view-count</th>\n",
       "      <th>watch-time-text</th>\n",
       "      <th>watch7-headline</th>\n",
       "      <th>watch8-sentiment-actions</th>\n",
       "      <th>og:image</th>\n",
       "      <th>og:image:width</th>\n",
       "      <th>og:description</th>\n",
       "      <th>og:video:width</th>\n",
       "      <th>og:video:height</th>\n",
       "      <th>og:video:tag</th>\n",
       "      <th>content_watch-info-tag-list</th>\n",
       "      <th>channel_link_0</th>\n",
       "    </tr>\n",
       "  </thead>\n",
       "  <tbody>\n",
       "    <tr>\n",
       "      <th>1513</th>\n",
       "      <td>5 DICAS PARA COMPRAR MENOS | FINANÇAS DE A a Z...</td>\n",
       "      <td>NaN</td>\n",
       "      <td>23.299 visualizações</td>\n",
       "      <td>Publicado em 31 de out. de 2019</td>\n",
       "      <td>#Compras #Dinheiro #Consumo\\n\\n\\n\\n    5 DICAS...</td>\n",
       "      <td>23.299 visualizações\\n\\n\\n\\n\\n\\n\\n\\n2.863\\n\\nG...</td>\n",
       "      <td>https://i.ytimg.com/vi/zj3KFFwi--Q/maxresdefau...</td>\n",
       "      <td>1280.0</td>\n",
       "      <td>Já parou para pensar como você consome suas co...</td>\n",
       "      <td>1280.0</td>\n",
       "      <td>720.0</td>\n",
       "      <td>finanças com a nath</td>\n",
       "      <td>Educação</td>\n",
       "      <td>/channel/UCmhzmQBdXP9TeRtpQ-iWSPg</td>\n",
       "    </tr>\n",
       "    <tr>\n",
       "      <th>1514</th>\n",
       "      <td>QUANTO RENDE 10 MIL NO TESOURO DIRETO? Investi...</td>\n",
       "      <td>NaN</td>\n",
       "      <td>461.755 visualizações</td>\n",
       "      <td>Publicado em 23 de nov. de 2018</td>\n",
       "      <td>#QUANTO #RENDE #10MIL\\n\\n\\n\\n    QUANTO RENDE ...</td>\n",
       "      <td>461.755 visualizações\\n\\n\\n\\n\\n\\n\\n\\n22.487\\n\\...</td>\n",
       "      <td>https://i.ytimg.com/vi/zjdcXx-og2k/maxresdefau...</td>\n",
       "      <td>1280.0</td>\n",
       "      <td>Novo Curso Bolso Sem Dívidas, com desconto de ...</td>\n",
       "      <td>1280.0</td>\n",
       "      <td>720.0</td>\n",
       "      <td>economia</td>\n",
       "      <td>Educação</td>\n",
       "      <td>/channel/UCkvpo9jvRG73j7iCBTNL-OA</td>\n",
       "    </tr>\n",
       "    <tr>\n",
       "      <th>1515</th>\n",
       "      <td>5 Dicas para investir em Fundos de Investimentos</td>\n",
       "      <td>NaN</td>\n",
       "      <td>147.621 visualizações</td>\n",
       "      <td>Publicado em 13 de set. de 2016</td>\n",
       "      <td>5 Dicas para investir em Fundos de Investimentos</td>\n",
       "      <td>147.621 visualizações\\n\\n\\n\\n\\n\\n\\n\\n5.232\\n\\n...</td>\n",
       "      <td>https://i.ytimg.com/vi/ztTKCYH046A/maxresdefau...</td>\n",
       "      <td>1280.0</td>\n",
       "      <td>Você quer começar a investir no maravilhoso mu...</td>\n",
       "      <td>1280.0</td>\n",
       "      <td>720.0</td>\n",
       "      <td>mercado de capitais</td>\n",
       "      <td>Educação</td>\n",
       "      <td>/channel/UCVxYmVbcXxf-0HTJSlXW7yw</td>\n",
       "    </tr>\n",
       "    <tr>\n",
       "      <th>1516</th>\n",
       "      <td>Planejamento e finanças-Joyce Meyer</td>\n",
       "      <td>NaN</td>\n",
       "      <td>191.611 visualizações</td>\n",
       "      <td>Publicado em 10 de set. de 2018</td>\n",
       "      <td>Planejamento e finanças-Joyce Meyer</td>\n",
       "      <td>191.611 visualizações\\n\\n\\n\\n\\n\\n\\n\\n8.553\\n\\n...</td>\n",
       "      <td>https://i.ytimg.com/vi/zwagh_n_kkk/maxresdefau...</td>\n",
       "      <td>1280.0</td>\n",
       "      <td></td>\n",
       "      <td>1280.0</td>\n",
       "      <td>720.0</td>\n",
       "      <td>Apocalipse</td>\n",
       "      <td>Filmes e desenhos</td>\n",
       "      <td>/channel/UCZQs2_GENrfNLLWRZZPkTzQ</td>\n",
       "    </tr>\n",
       "    <tr>\n",
       "      <th>1517</th>\n",
       "      <td>NaN</td>\n",
       "      <td>NaN</td>\n",
       "      <td>NaN</td>\n",
       "      <td>NaN</td>\n",
       "      <td>NaN</td>\n",
       "      <td>NaN</td>\n",
       "      <td>https://i.ytimg.com/vi/zwtEmh0Sqo0/hqdefault.jpg</td>\n",
       "      <td>480.0</td>\n",
       "      <td>🛑Inscreva-se em nosso canal do Telegram: https...</td>\n",
       "      <td>1280.0</td>\n",
       "      <td>720.0</td>\n",
       "      <td>NaN</td>\n",
       "      <td>NaN</td>\n",
       "      <td>NaN</td>\n",
       "    </tr>\n",
       "  </tbody>\n",
       "</table>\n",
       "</div>"
      ],
      "text/plain": [
       "                                            watch-title   y  \\\n",
       "1513  5 DICAS PARA COMPRAR MENOS | FINANÇAS DE A a Z... NaN   \n",
       "1514  QUANTO RENDE 10 MIL NO TESOURO DIRETO? Investi... NaN   \n",
       "1515   5 Dicas para investir em Fundos de Investimentos NaN   \n",
       "1516                Planejamento e finanças-Joyce Meyer NaN   \n",
       "1517                                                NaN NaN   \n",
       "\n",
       "           watch-view-count                  watch-time-text  \\\n",
       "1513   23.299 visualizações  Publicado em 31 de out. de 2019   \n",
       "1514  461.755 visualizações  Publicado em 23 de nov. de 2018   \n",
       "1515  147.621 visualizações  Publicado em 13 de set. de 2016   \n",
       "1516  191.611 visualizações  Publicado em 10 de set. de 2018   \n",
       "1517                    NaN                              NaN   \n",
       "\n",
       "                                        watch7-headline  \\\n",
       "1513  #Compras #Dinheiro #Consumo\\n\\n\\n\\n    5 DICAS...   \n",
       "1514  #QUANTO #RENDE #10MIL\\n\\n\\n\\n    QUANTO RENDE ...   \n",
       "1515   5 Dicas para investir em Fundos de Investimentos   \n",
       "1516                Planejamento e finanças-Joyce Meyer   \n",
       "1517                                                NaN   \n",
       "\n",
       "                               watch8-sentiment-actions  \\\n",
       "1513  23.299 visualizações\\n\\n\\n\\n\\n\\n\\n\\n2.863\\n\\nG...   \n",
       "1514  461.755 visualizações\\n\\n\\n\\n\\n\\n\\n\\n22.487\\n\\...   \n",
       "1515  147.621 visualizações\\n\\n\\n\\n\\n\\n\\n\\n5.232\\n\\n...   \n",
       "1516  191.611 visualizações\\n\\n\\n\\n\\n\\n\\n\\n8.553\\n\\n...   \n",
       "1517                                                NaN   \n",
       "\n",
       "                                               og:image  og:image:width  \\\n",
       "1513  https://i.ytimg.com/vi/zj3KFFwi--Q/maxresdefau...          1280.0   \n",
       "1514  https://i.ytimg.com/vi/zjdcXx-og2k/maxresdefau...          1280.0   \n",
       "1515  https://i.ytimg.com/vi/ztTKCYH046A/maxresdefau...          1280.0   \n",
       "1516  https://i.ytimg.com/vi/zwagh_n_kkk/maxresdefau...          1280.0   \n",
       "1517   https://i.ytimg.com/vi/zwtEmh0Sqo0/hqdefault.jpg           480.0   \n",
       "\n",
       "                                         og:description  og:video:width  \\\n",
       "1513  Já parou para pensar como você consome suas co...          1280.0   \n",
       "1514  Novo Curso Bolso Sem Dívidas, com desconto de ...          1280.0   \n",
       "1515  Você quer começar a investir no maravilhoso mu...          1280.0   \n",
       "1516                                                             1280.0   \n",
       "1517  🛑Inscreva-se em nosso canal do Telegram: https...          1280.0   \n",
       "\n",
       "      og:video:height         og:video:tag content_watch-info-tag-list  \\\n",
       "1513            720.0  finanças com a nath                    Educação   \n",
       "1514            720.0             economia                    Educação   \n",
       "1515            720.0  mercado de capitais                    Educação   \n",
       "1516            720.0           Apocalipse           Filmes e desenhos   \n",
       "1517            720.0                  NaN                         NaN   \n",
       "\n",
       "                         channel_link_0  \n",
       "1513  /channel/UCmhzmQBdXP9TeRtpQ-iWSPg  \n",
       "1514  /channel/UCkvpo9jvRG73j7iCBTNL-OA  \n",
       "1515  /channel/UCVxYmVbcXxf-0HTJSlXW7yw  \n",
       "1516  /channel/UCZQs2_GENrfNLLWRZZPkTzQ  \n",
       "1517                                NaN  "
      ]
     },
     "execution_count": 46,
     "metadata": {},
     "output_type": "execute_result"
    }
   ],
   "source": [
    "df_unlabeled.tail()"
   ]
  },
  {
   "cell_type": "markdown",
   "metadata": {},
   "source": [
    "Criando features para data de publicação e quantidade de views"
   ]
  },
  {
   "cell_type": "code",
   "execution_count": 30,
   "metadata": {},
   "outputs": [
    {
     "data": {
      "text/plain": [
       "1513    Publicado em 31 de out. de 2019\n",
       "1514    Publicado em 23 de nov. de 2018\n",
       "1515    Publicado em 13 de set. de 2016\n",
       "1516    Publicado em 10 de set. de 2018\n",
       "1517                                NaN\n",
       "Name: watch-time-text, dtype: object"
      ]
     },
     "execution_count": 30,
     "metadata": {},
     "output_type": "execute_result"
    }
   ],
   "source": [
    "#formato da data de publicação no dataframe com labels:\n",
    "df_unlabeled['watch-time-text'].tail()"
   ]
  },
  {
   "cell_type": "code",
   "execution_count": 31,
   "metadata": {},
   "outputs": [],
   "source": [
    "map_mes = {'jan.':'Jan',\n",
    "             'fev.':'Feb',\n",
    "              'mar.':'Mar',\n",
    "              'abr.':'Apr',\n",
    "              'mai.':'May',\n",
    "              'jun.':'Jun',\n",
    "              'jul.':'Jul',\n",
    "              'ago.':'Aug',\n",
    "              'set.':'Sep',\n",
    "              'out.':'Oct',\n",
    "              'nov.':'Nov',\n",
    "              'dez.':'Dec'}"
   ]
  },
  {
   "cell_type": "code",
   "execution_count": 32,
   "metadata": {},
   "outputs": [],
   "source": [
    "def limpa_data (row):\n",
    "    \n",
    "    data_limpa = re.search(r\"(\\d+) de ([a-z]+)\\. de (\\d+)\", row.loc['watch-time-text']).group()\n",
    "    data_limpa = data_limpa.split('de ')\n",
    "    data_limpa = [x.strip() for x in data_limpa]\n",
    "    data_limpa[0] = ['0' + str(data_limpa[0]) if len(data_limpa[0]) == 1 else data_limpa[0]][0]\n",
    "    data_limpa[1] = [v for k, v in map_mes.items() if k == data_limpa[1]][0]\n",
    "    data = '-'.join(data_limpa)\n",
    "\n",
    "    return data"
   ]
  },
  {
   "cell_type": "code",
   "execution_count": 47,
   "metadata": {},
   "outputs": [
    {
     "data": {
      "text/plain": [
       "(89, 14)"
      ]
     },
     "execution_count": 47,
     "metadata": {},
     "output_type": "execute_result"
    }
   ],
   "source": [
    "# total de registros com a data nula\n",
    "df_unlabeled[df_unlabeled['watch-time-text'].isna()].shape"
   ]
  },
  {
   "cell_type": "code",
   "execution_count": 48,
   "metadata": {},
   "outputs": [],
   "source": [
    "# as 89 linhas em branco não irão permitir criar as fetaures e serão removidas do dataset\n",
    "df_unlabeled = df_unlabeled[df_unlabeled['watch-time-text'].notnull()].copy() #parâmetro how='all' retira linhas com todas as colunas em branco"
   ]
  },
  {
   "cell_type": "code",
   "execution_count": 49,
   "metadata": {},
   "outputs": [
    {
     "data": {
      "text/html": [
       "<div>\n",
       "<style scoped>\n",
       "    .dataframe tbody tr th:only-of-type {\n",
       "        vertical-align: middle;\n",
       "    }\n",
       "\n",
       "    .dataframe tbody tr th {\n",
       "        vertical-align: top;\n",
       "    }\n",
       "\n",
       "    .dataframe thead th {\n",
       "        text-align: right;\n",
       "    }\n",
       "</style>\n",
       "<table border=\"1\" class=\"dataframe\">\n",
       "  <thead>\n",
       "    <tr style=\"text-align: right;\">\n",
       "      <th></th>\n",
       "      <th>watch-title</th>\n",
       "      <th>y</th>\n",
       "      <th>watch-view-count</th>\n",
       "      <th>watch-time-text</th>\n",
       "      <th>watch7-headline</th>\n",
       "      <th>watch8-sentiment-actions</th>\n",
       "      <th>og:image</th>\n",
       "      <th>og:image:width</th>\n",
       "      <th>og:description</th>\n",
       "      <th>og:video:width</th>\n",
       "      <th>og:video:height</th>\n",
       "      <th>og:video:tag</th>\n",
       "      <th>content_watch-info-tag-list</th>\n",
       "      <th>channel_link_0</th>\n",
       "    </tr>\n",
       "  </thead>\n",
       "  <tbody>\n",
       "    <tr>\n",
       "      <th>538</th>\n",
       "      <td>Renda Passiva, Independência Financeira e Apos...</td>\n",
       "      <td>NaN</td>\n",
       "      <td>176 visualizações</td>\n",
       "      <td>Publicado em 28 de jan. de 2020</td>\n",
       "      <td>#RendaPassiva #LiberdadeFinanceira #RendaVariá...</td>\n",
       "      <td>176 visualizações\\n\\n\\n\\n\\n\\n\\n\\n46\\n\\nGostou ...</td>\n",
       "      <td>https://i.ytimg.com/vi/L3qXzNaqPAw/maxresdefau...</td>\n",
       "      <td>1280.0</td>\n",
       "      <td>Click aqui e se inscreva no canal: http://bit....</td>\n",
       "      <td>1280.0</td>\n",
       "      <td>720.0</td>\n",
       "      <td>Ricardo Soares</td>\n",
       "      <td>Educação</td>\n",
       "      <td>/channel/UCJXYGz3WKIjdmFS8GioMyBA</td>\n",
       "    </tr>\n",
       "    <tr>\n",
       "      <th>539</th>\n",
       "      <td>Conheça 6 INVESTIMENTOS que você pode fazer co...</td>\n",
       "      <td>NaN</td>\n",
       "      <td>37.342 visualizações</td>\n",
       "      <td>Publicado em 13 de jul. de 2019</td>\n",
       "      <td>Conheça 6 INVESTIMENTOS que você pode fazer co...</td>\n",
       "      <td>37.342 visualizações\\n\\n\\n\\n\\n\\n\\n\\n4.897\\n\\nG...</td>\n",
       "      <td>https://i.ytimg.com/vi/L7dejT5VbTw/maxresdefau...</td>\n",
       "      <td>1280.0</td>\n",
       "      <td>Conheça 6 INVESTIMENTOS que você pode fazer co...</td>\n",
       "      <td>1280.0</td>\n",
       "      <td>720.0</td>\n",
       "      <td>investindo com 100 reais</td>\n",
       "      <td>Pessoas e blogs</td>\n",
       "      <td>/channel/UCwLxXLLWEIJFHEeTMlYqHTA</td>\n",
       "    </tr>\n",
       "    <tr>\n",
       "      <th>540</th>\n",
       "      <td>Como Criar as Paginas do Site [ Dropshipping ]</td>\n",
       "      <td>NaN</td>\n",
       "      <td>6 visualizações</td>\n",
       "      <td>Estreou em 5 de mai. de 2020</td>\n",
       "      <td>Como Criar as Paginas do Site [ Dropshipping ]</td>\n",
       "      <td>6 visualizações\\n\\n\\n\\n\\n\\n\\n\\n1\\n\\nGostou des...</td>\n",
       "      <td>https://i.ytimg.com/vi/L935SV8Zm7w/maxresdefau...</td>\n",
       "      <td>1280.0</td>\n",
       "      <td>Conheça as minha estrategia exclusiva no Meu T...</td>\n",
       "      <td>1280.0</td>\n",
       "      <td>720.0</td>\n",
       "      <td>dropshipping 2020</td>\n",
       "      <td>Pessoas e blogs</td>\n",
       "      <td>/channel/UC9cZsG-Xdi9IgjPFzrZ2npw</td>\n",
       "    </tr>\n",
       "    <tr>\n",
       "      <th>541</th>\n",
       "      <td>INDEPENDÊNCIA FINANCEIRA (ESTRATÉGIA INCRÍVEL ...</td>\n",
       "      <td>NaN</td>\n",
       "      <td>2.519 visualizações</td>\n",
       "      <td>Publicado em 16 de fev. de 2019</td>\n",
       "      <td>INDEPENDÊNCIA FINANCEIRA (ESTRATÉGIA INCRÍVEL ...</td>\n",
       "      <td>2.519 visualizações\\n\\n\\n\\n\\n\\n\\n\\n347\\n\\nGost...</td>\n",
       "      <td>https://i.ytimg.com/vi/LHBsaft6EPU/maxresdefau...</td>\n",
       "      <td>1280.0</td>\n",
       "      <td>Como conquistar a independência financeira? Ne...</td>\n",
       "      <td>1280.0</td>\n",
       "      <td>720.0</td>\n",
       "      <td>erick</td>\n",
       "      <td>Educação</td>\n",
       "      <td>/channel/UCyCBeQuIVG09fgcNIEsYJgA</td>\n",
       "    </tr>\n",
       "    <tr>\n",
       "      <th>542</th>\n",
       "      <td>Cartas Ciganas - TABULEIRO DA VIDA: Amor, Trab...</td>\n",
       "      <td>NaN</td>\n",
       "      <td>139.940 visualizações</td>\n",
       "      <td>Publicado em 14 de dez. de 2017</td>\n",
       "      <td>Cartas Ciganas - TABULEIRO DA VIDA: Amor, Trab...</td>\n",
       "      <td>139.940 visualizações\\n\\n\\n\\n\\n\\n\\n\\n13.804\\n\\...</td>\n",
       "      <td>https://i.ytimg.com/vi/LJ_w29UlxRE/maxresdefau...</td>\n",
       "      <td>1280.0</td>\n",
       "      <td>Zap! - (79) 99142-2243</td>\n",
       "      <td>1280.0</td>\n",
       "      <td>720.0</td>\n",
       "      <td>tabuleiro cigano</td>\n",
       "      <td>Viagens e eventos</td>\n",
       "      <td>/channel/UC7-Y-xROMKq-DX65Xv4oOmA</td>\n",
       "    </tr>\n",
       "  </tbody>\n",
       "</table>\n",
       "</div>"
      ],
      "text/plain": [
       "                                           watch-title   y  \\\n",
       "538  Renda Passiva, Independência Financeira e Apos... NaN   \n",
       "539  Conheça 6 INVESTIMENTOS que você pode fazer co... NaN   \n",
       "540     Como Criar as Paginas do Site [ Dropshipping ] NaN   \n",
       "541  INDEPENDÊNCIA FINANCEIRA (ESTRATÉGIA INCRÍVEL ... NaN   \n",
       "542  Cartas Ciganas - TABULEIRO DA VIDA: Amor, Trab... NaN   \n",
       "\n",
       "          watch-view-count                  watch-time-text  \\\n",
       "538      176 visualizações  Publicado em 28 de jan. de 2020   \n",
       "539   37.342 visualizações  Publicado em 13 de jul. de 2019   \n",
       "540        6 visualizações     Estreou em 5 de mai. de 2020   \n",
       "541    2.519 visualizações  Publicado em 16 de fev. de 2019   \n",
       "542  139.940 visualizações  Publicado em 14 de dez. de 2017   \n",
       "\n",
       "                                       watch7-headline  \\\n",
       "538  #RendaPassiva #LiberdadeFinanceira #RendaVariá...   \n",
       "539  Conheça 6 INVESTIMENTOS que você pode fazer co...   \n",
       "540     Como Criar as Paginas do Site [ Dropshipping ]   \n",
       "541  INDEPENDÊNCIA FINANCEIRA (ESTRATÉGIA INCRÍVEL ...   \n",
       "542  Cartas Ciganas - TABULEIRO DA VIDA: Amor, Trab...   \n",
       "\n",
       "                              watch8-sentiment-actions  \\\n",
       "538  176 visualizações\\n\\n\\n\\n\\n\\n\\n\\n46\\n\\nGostou ...   \n",
       "539  37.342 visualizações\\n\\n\\n\\n\\n\\n\\n\\n4.897\\n\\nG...   \n",
       "540  6 visualizações\\n\\n\\n\\n\\n\\n\\n\\n1\\n\\nGostou des...   \n",
       "541  2.519 visualizações\\n\\n\\n\\n\\n\\n\\n\\n347\\n\\nGost...   \n",
       "542  139.940 visualizações\\n\\n\\n\\n\\n\\n\\n\\n13.804\\n\\...   \n",
       "\n",
       "                                              og:image  og:image:width  \\\n",
       "538  https://i.ytimg.com/vi/L3qXzNaqPAw/maxresdefau...          1280.0   \n",
       "539  https://i.ytimg.com/vi/L7dejT5VbTw/maxresdefau...          1280.0   \n",
       "540  https://i.ytimg.com/vi/L935SV8Zm7w/maxresdefau...          1280.0   \n",
       "541  https://i.ytimg.com/vi/LHBsaft6EPU/maxresdefau...          1280.0   \n",
       "542  https://i.ytimg.com/vi/LJ_w29UlxRE/maxresdefau...          1280.0   \n",
       "\n",
       "                                        og:description  og:video:width  \\\n",
       "538  Click aqui e se inscreva no canal: http://bit....          1280.0   \n",
       "539  Conheça 6 INVESTIMENTOS que você pode fazer co...          1280.0   \n",
       "540  Conheça as minha estrategia exclusiva no Meu T...          1280.0   \n",
       "541  Como conquistar a independência financeira? Ne...          1280.0   \n",
       "542                             Zap! - (79) 99142-2243          1280.0   \n",
       "\n",
       "     og:video:height              og:video:tag content_watch-info-tag-list  \\\n",
       "538            720.0            Ricardo Soares                    Educação   \n",
       "539            720.0  investindo com 100 reais             Pessoas e blogs   \n",
       "540            720.0         dropshipping 2020             Pessoas e blogs   \n",
       "541            720.0                     erick                    Educação   \n",
       "542            720.0          tabuleiro cigano           Viagens e eventos   \n",
       "\n",
       "                        channel_link_0  \n",
       "538  /channel/UCJXYGz3WKIjdmFS8GioMyBA  \n",
       "539  /channel/UCwLxXLLWEIJFHEeTMlYqHTA  \n",
       "540  /channel/UC9cZsG-Xdi9IgjPFzrZ2npw  \n",
       "541  /channel/UCyCBeQuIVG09fgcNIEsYJgA  \n",
       "542  /channel/UC7-Y-xROMKq-DX65Xv4oOmA  "
      ]
     },
     "execution_count": 49,
     "metadata": {},
     "output_type": "execute_result"
    }
   ],
   "source": [
    "df_unlabeled.head()"
   ]
  },
  {
   "cell_type": "code",
   "execution_count": 50,
   "metadata": {},
   "outputs": [],
   "source": [
    "df_unlabeled['data'] = df_unlabeled.apply(limpa_data, axis=1)"
   ]
  },
  {
   "cell_type": "code",
   "execution_count": 51,
   "metadata": {},
   "outputs": [
    {
     "data": {
      "text/plain": [
       "538    28-Jan-2020\n",
       "539    13-Jul-2019\n",
       "540    05-May-2020\n",
       "541    16-Feb-2019\n",
       "542    14-Dec-2017\n",
       "Name: data, dtype: object"
      ]
     },
     "execution_count": 51,
     "metadata": {},
     "output_type": "execute_result"
    }
   ],
   "source": [
    "df_unlabeled.data.head()"
   ]
  },
  {
   "cell_type": "code",
   "execution_count": 53,
   "metadata": {},
   "outputs": [],
   "source": [
    "#convertendo para data\n",
    "df_unlabeled['data'] = pd.to_datetime(df_unlabeled['data'])"
   ]
  },
  {
   "cell_type": "code",
   "execution_count": 54,
   "metadata": {},
   "outputs": [],
   "source": [
    "#criando novo df para features somente com o título e a data de publicação\n",
    "df_limpo_u = pd.DataFrame(index=df_unlabeled.index)\n",
    "df_limpo_u['title'] = df_unlabeled['watch-title']"
   ]
  },
  {
   "cell_type": "code",
   "execution_count": 55,
   "metadata": {},
   "outputs": [],
   "source": [
    "df_limpo_u['data'] = df_unlabeled['data']"
   ]
  },
  {
   "cell_type": "code",
   "execution_count": 57,
   "metadata": {},
   "outputs": [
    {
     "data": {
      "text/html": [
       "<div>\n",
       "<style scoped>\n",
       "    .dataframe tbody tr th:only-of-type {\n",
       "        vertical-align: middle;\n",
       "    }\n",
       "\n",
       "    .dataframe tbody tr th {\n",
       "        vertical-align: top;\n",
       "    }\n",
       "\n",
       "    .dataframe thead th {\n",
       "        text-align: right;\n",
       "    }\n",
       "</style>\n",
       "<table border=\"1\" class=\"dataframe\">\n",
       "  <thead>\n",
       "    <tr style=\"text-align: right;\">\n",
       "      <th></th>\n",
       "      <th>title</th>\n",
       "      <th>data</th>\n",
       "    </tr>\n",
       "  </thead>\n",
       "  <tbody>\n",
       "    <tr>\n",
       "      <th>538</th>\n",
       "      <td>Renda Passiva, Independência Financeira e Apos...</td>\n",
       "      <td>2020-01-28</td>\n",
       "    </tr>\n",
       "    <tr>\n",
       "      <th>539</th>\n",
       "      <td>Conheça 6 INVESTIMENTOS que você pode fazer co...</td>\n",
       "      <td>2019-07-13</td>\n",
       "    </tr>\n",
       "    <tr>\n",
       "      <th>540</th>\n",
       "      <td>Como Criar as Paginas do Site [ Dropshipping ]</td>\n",
       "      <td>2020-05-05</td>\n",
       "    </tr>\n",
       "    <tr>\n",
       "      <th>541</th>\n",
       "      <td>INDEPENDÊNCIA FINANCEIRA (ESTRATÉGIA INCRÍVEL ...</td>\n",
       "      <td>2019-02-16</td>\n",
       "    </tr>\n",
       "    <tr>\n",
       "      <th>542</th>\n",
       "      <td>Cartas Ciganas - TABULEIRO DA VIDA: Amor, Trab...</td>\n",
       "      <td>2017-12-14</td>\n",
       "    </tr>\n",
       "  </tbody>\n",
       "</table>\n",
       "</div>"
      ],
      "text/plain": [
       "                                                 title       data\n",
       "538  Renda Passiva, Independência Financeira e Apos... 2020-01-28\n",
       "539  Conheça 6 INVESTIMENTOS que você pode fazer co... 2019-07-13\n",
       "540     Como Criar as Paginas do Site [ Dropshipping ] 2020-05-05\n",
       "541  INDEPENDÊNCIA FINANCEIRA (ESTRATÉGIA INCRÍVEL ... 2019-02-16\n",
       "542  Cartas Ciganas - TABULEIRO DA VIDA: Amor, Trab... 2017-12-14"
      ]
     },
     "execution_count": 57,
     "metadata": {},
     "output_type": "execute_result"
    }
   ],
   "source": [
    "df_limpo_u.head()"
   ]
  },
  {
   "cell_type": "code",
   "execution_count": 58,
   "metadata": {},
   "outputs": [],
   "source": [
    "#adicionando coluna com view count formatado\n",
    "df_limpo_u['views'] = df_unlabeled['watch-view-count'].str.extract(r\"(\\d+\\.?\\d*)\", expand=False).str.replace(\".\",\"\").fillna(0).astype(int)"
   ]
  },
  {
   "cell_type": "code",
   "execution_count": 59,
   "metadata": {},
   "outputs": [
    {
     "data": {
      "text/html": [
       "<div>\n",
       "<style scoped>\n",
       "    .dataframe tbody tr th:only-of-type {\n",
       "        vertical-align: middle;\n",
       "    }\n",
       "\n",
       "    .dataframe tbody tr th {\n",
       "        vertical-align: top;\n",
       "    }\n",
       "\n",
       "    .dataframe thead th {\n",
       "        text-align: right;\n",
       "    }\n",
       "</style>\n",
       "<table border=\"1\" class=\"dataframe\">\n",
       "  <thead>\n",
       "    <tr style=\"text-align: right;\">\n",
       "      <th></th>\n",
       "      <th>title</th>\n",
       "      <th>data</th>\n",
       "      <th>views</th>\n",
       "    </tr>\n",
       "  </thead>\n",
       "  <tbody>\n",
       "    <tr>\n",
       "      <th>538</th>\n",
       "      <td>Renda Passiva, Independência Financeira e Apos...</td>\n",
       "      <td>2020-01-28</td>\n",
       "      <td>176</td>\n",
       "    </tr>\n",
       "    <tr>\n",
       "      <th>539</th>\n",
       "      <td>Conheça 6 INVESTIMENTOS que você pode fazer co...</td>\n",
       "      <td>2019-07-13</td>\n",
       "      <td>37342</td>\n",
       "    </tr>\n",
       "    <tr>\n",
       "      <th>540</th>\n",
       "      <td>Como Criar as Paginas do Site [ Dropshipping ]</td>\n",
       "      <td>2020-05-05</td>\n",
       "      <td>6</td>\n",
       "    </tr>\n",
       "    <tr>\n",
       "      <th>541</th>\n",
       "      <td>INDEPENDÊNCIA FINANCEIRA (ESTRATÉGIA INCRÍVEL ...</td>\n",
       "      <td>2019-02-16</td>\n",
       "      <td>2519</td>\n",
       "    </tr>\n",
       "    <tr>\n",
       "      <th>542</th>\n",
       "      <td>Cartas Ciganas - TABULEIRO DA VIDA: Amor, Trab...</td>\n",
       "      <td>2017-12-14</td>\n",
       "      <td>139940</td>\n",
       "    </tr>\n",
       "  </tbody>\n",
       "</table>\n",
       "</div>"
      ],
      "text/plain": [
       "                                                 title       data   views\n",
       "538  Renda Passiva, Independência Financeira e Apos... 2020-01-28     176\n",
       "539  Conheça 6 INVESTIMENTOS que você pode fazer co... 2019-07-13   37342\n",
       "540     Como Criar as Paginas do Site [ Dropshipping ] 2020-05-05       6\n",
       "541  INDEPENDÊNCIA FINANCEIRA (ESTRATÉGIA INCRÍVEL ... 2019-02-16    2519\n",
       "542  Cartas Ciganas - TABULEIRO DA VIDA: Amor, Trab... 2017-12-14  139940"
      ]
     },
     "execution_count": 59,
     "metadata": {},
     "output_type": "execute_result"
    }
   ],
   "source": [
    "df_limpo_u.head()"
   ]
  },
  {
   "cell_type": "code",
   "execution_count": 60,
   "metadata": {},
   "outputs": [
    {
     "data": {
      "text/plain": [
       "Timestamp('2019-07-24 00:00:00')"
      ]
     },
     "execution_count": 60,
     "metadata": {},
     "output_type": "execute_result"
    }
   ],
   "source": [
    "df_limpo_u.data.quantile(.5)"
   ]
  },
  {
   "cell_type": "code",
   "execution_count": 87,
   "metadata": {},
   "outputs": [],
   "source": [
    "# criando dataframe para as features unlabeled:\n",
    "features_u = pd.DataFrame(index=df_limpo_u.index)"
   ]
  },
  {
   "cell_type": "code",
   "execution_count": 88,
   "metadata": {},
   "outputs": [],
   "source": [
    "#criando coluna com dias que se passaram desde a publicação até a data referência\n",
    "features_u['dias_publicado'] = (pd.to_datetime(\"2020-05-08\") - df_limpo_u['data']) / np.timedelta64(1, 'D') #denominador cria um objeto timedelta do numpy em diferença de 1 dia\n",
    "\n",
    "#adicionando a coluna de views ao dataframe features\n",
    "features_u['views'] = df_limpo_u['views']\n",
    "\n",
    "#calculando views por dia\n",
    "features_u['views_por_dia'] = features_u['views']/features_u['dias_publicado']\n",
    "\n",
    "# retirando coluna de dias após publicação (para explicação, ver notebook para modelo1)\n",
    "features_u = features_u.drop('dias_publicado', axis = 1)"
   ]
  },
  {
   "cell_type": "code",
   "execution_count": 90,
   "metadata": {},
   "outputs": [
    {
     "data": {
      "text/html": [
       "<div>\n",
       "<style scoped>\n",
       "    .dataframe tbody tr th:only-of-type {\n",
       "        vertical-align: middle;\n",
       "    }\n",
       "\n",
       "    .dataframe tbody tr th {\n",
       "        vertical-align: top;\n",
       "    }\n",
       "\n",
       "    .dataframe thead th {\n",
       "        text-align: right;\n",
       "    }\n",
       "</style>\n",
       "<table border=\"1\" class=\"dataframe\">\n",
       "  <thead>\n",
       "    <tr style=\"text-align: right;\">\n",
       "      <th></th>\n",
       "      <th>views</th>\n",
       "      <th>views_por_dia</th>\n",
       "    </tr>\n",
       "  </thead>\n",
       "  <tbody>\n",
       "    <tr>\n",
       "      <th>1130</th>\n",
       "      <td>1</td>\n",
       "      <td>inf</td>\n",
       "    </tr>\n",
       "  </tbody>\n",
       "</table>\n",
       "</div>"
      ],
      "text/plain": [
       "      views  views_por_dia\n",
       "1130      1            inf"
      ]
     },
     "execution_count": 90,
     "metadata": {},
     "output_type": "execute_result"
    }
   ],
   "source": [
    "#verificando se há dados np.inf\n",
    "features_u[features_u['views_por_dia'].isin([np.nan, np.inf, -np.inf])]"
   ]
  },
  {
   "cell_type": "code",
   "execution_count": 93,
   "metadata": {},
   "outputs": [
    {
     "data": {
      "text/plain": [
       "title    💥Designer de Sobrancelhas AULA Grátis (MARCAÇÃ...\n",
       "data                                   2020-05-08 00:00:00\n",
       "views                                                    1\n",
       "Name: 1130, dtype: object"
      ]
     },
     "execution_count": 93,
     "metadata": {},
     "output_type": "execute_result"
    }
   ],
   "source": [
    "#linha 1130 em df_limpo_u\n",
    "df_limpo_u.loc[1130, :]"
   ]
  },
  {
   "cell_type": "markdown",
   "metadata": {},
   "source": [
    "O problema ocorreu justamente por que o vídeo foi publicado à meia noite da data referência. Por isso o valor e dias_publicado  = 0 e views por dia foi para infinito. Será preciso deletar essa linha do df_limpo_u."
   ]
  },
  {
   "cell_type": "code",
   "execution_count": 94,
   "metadata": {},
   "outputs": [],
   "source": [
    "#resolvendo problema de valores np.inf (mais aqui https://numpy.org/devdocs/reference/constants.html#numpy.inf)\n",
    "features_u = features_u[~features_u['views_por_dia'].isin([np.nan, np.inf, -np.inf])].copy()"
   ]
  },
  {
   "cell_type": "code",
   "execution_count": 96,
   "metadata": {},
   "outputs": [],
   "source": [
    "df_limpo_u = df_limpo_u.drop(1130).copy()"
   ]
  },
  {
   "cell_type": "code",
   "execution_count": 105,
   "metadata": {},
   "outputs": [],
   "source": [
    "df_unlabeled = df_unlabeled.drop(1130).copy()"
   ]
  },
  {
   "cell_type": "code",
   "execution_count": 107,
   "metadata": {},
   "outputs": [
    {
     "data": {
      "text/plain": [
       "((915, 2), (915, 3), (915, 15))"
      ]
     },
     "execution_count": 107,
     "metadata": {},
     "output_type": "execute_result"
    }
   ],
   "source": [
    "features_u.shape, df_limpo_u.shape, df_unlabeled.shape"
   ]
  },
  {
   "cell_type": "code",
   "execution_count": 81,
   "metadata": {},
   "outputs": [
    {
     "data": {
      "text/html": [
       "<div>\n",
       "<style scoped>\n",
       "    .dataframe tbody tr th:only-of-type {\n",
       "        vertical-align: middle;\n",
       "    }\n",
       "\n",
       "    .dataframe tbody tr th {\n",
       "        vertical-align: top;\n",
       "    }\n",
       "\n",
       "    .dataframe thead th {\n",
       "        text-align: right;\n",
       "    }\n",
       "</style>\n",
       "<table border=\"1\" class=\"dataframe\">\n",
       "  <thead>\n",
       "    <tr style=\"text-align: right;\">\n",
       "      <th></th>\n",
       "      <th>views</th>\n",
       "      <th>views_por_dia</th>\n",
       "    </tr>\n",
       "  </thead>\n",
       "  <tbody>\n",
       "    <tr>\n",
       "      <th>538</th>\n",
       "      <td>176</td>\n",
       "      <td>1.742574</td>\n",
       "    </tr>\n",
       "    <tr>\n",
       "      <th>539</th>\n",
       "      <td>37342</td>\n",
       "      <td>124.473333</td>\n",
       "    </tr>\n",
       "    <tr>\n",
       "      <th>540</th>\n",
       "      <td>6</td>\n",
       "      <td>2.000000</td>\n",
       "    </tr>\n",
       "    <tr>\n",
       "      <th>541</th>\n",
       "      <td>2519</td>\n",
       "      <td>5.635347</td>\n",
       "    </tr>\n",
       "    <tr>\n",
       "      <th>542</th>\n",
       "      <td>139940</td>\n",
       "      <td>159.748858</td>\n",
       "    </tr>\n",
       "  </tbody>\n",
       "</table>\n",
       "</div>"
      ],
      "text/plain": [
       "      views  views_por_dia\n",
       "538     176       1.742574\n",
       "539   37342     124.473333\n",
       "540       6       2.000000\n",
       "541    2519       5.635347\n",
       "542  139940     159.748858"
      ]
     },
     "execution_count": 81,
     "metadata": {},
     "output_type": "execute_result"
    }
   ],
   "source": [
    "features_u.head()"
   ]
  },
  {
   "cell_type": "markdown",
   "metadata": {},
   "source": [
    "Aqui, iremos usar a random forest treinada anteriormente para prever quais dos exemplos em features_u que o modelo está com dificuldade."
   ]
  },
  {
   "cell_type": "code",
   "execution_count": 98,
   "metadata": {},
   "outputs": [],
   "source": [
    "from sklearn.feature_extraction.text import TfidfVectorizer\n",
    "\n",
    "title_u = df_limpo_u['title'] \n",
    "title_bow_u = title_vec.transform(title_u)"
   ]
  },
  {
   "cell_type": "code",
   "execution_count": 99,
   "metadata": {},
   "outputs": [
    {
     "data": {
      "text/plain": [
       "<915x211 sparse matrix of type '<class 'numpy.float64'>'\n",
       "\twith 4359 stored elements in Compressed Sparse Row format>"
      ]
     },
     "execution_count": 99,
     "metadata": {},
     "output_type": "execute_result"
    }
   ],
   "source": [
    "title_bow_u"
   ]
  },
  {
   "cell_type": "code",
   "execution_count": 100,
   "metadata": {},
   "outputs": [],
   "source": [
    "# função hstack para juntas as fetures\n",
    "Xu_wtitle = hstack([features_u, title_bow_u])"
   ]
  },
  {
   "cell_type": "code",
   "execution_count": 101,
   "metadata": {},
   "outputs": [
    {
     "data": {
      "text/plain": [
       "<915x213 sparse matrix of type '<class 'numpy.float64'>'\n",
       "\twith 6171 stored elements in COOrdinate format>"
      ]
     },
     "execution_count": 101,
     "metadata": {},
     "output_type": "execute_result"
    }
   ],
   "source": [
    "Xu_wtitle"
   ]
  },
  {
   "cell_type": "code",
   "execution_count": 102,
   "metadata": {},
   "outputs": [],
   "source": [
    "#criando vetor com pesos das previsões para o valor positivo\n",
    "pu = mdl.predict_proba(Xu_wtitle)[:, 1]"
   ]
  },
  {
   "cell_type": "code",
   "execution_count": 108,
   "metadata": {},
   "outputs": [],
   "source": [
    "#adicionando a coluna com 'probabilidade' previsões ao df_unlabeled\n",
    "# \"probabilidade\" pq na prática, não é a probabildiade matemática, já que o modelo está ponderando as previsões de forma distinta devido ao desbalanceio das \n",
    "#classes\n",
    "df_unlabeled['p'] = pu"
   ]
  },
  {
   "cell_type": "code",
   "execution_count": 109,
   "metadata": {},
   "outputs": [
    {
     "data": {
      "text/html": [
       "<div>\n",
       "<style scoped>\n",
       "    .dataframe tbody tr th:only-of-type {\n",
       "        vertical-align: middle;\n",
       "    }\n",
       "\n",
       "    .dataframe tbody tr th {\n",
       "        vertical-align: top;\n",
       "    }\n",
       "\n",
       "    .dataframe thead th {\n",
       "        text-align: right;\n",
       "    }\n",
       "</style>\n",
       "<table border=\"1\" class=\"dataframe\">\n",
       "  <thead>\n",
       "    <tr style=\"text-align: right;\">\n",
       "      <th></th>\n",
       "      <th>watch-title</th>\n",
       "      <th>y</th>\n",
       "      <th>watch-view-count</th>\n",
       "      <th>watch-time-text</th>\n",
       "      <th>watch7-headline</th>\n",
       "      <th>watch8-sentiment-actions</th>\n",
       "      <th>og:image</th>\n",
       "      <th>og:image:width</th>\n",
       "      <th>og:description</th>\n",
       "      <th>og:video:width</th>\n",
       "      <th>og:video:height</th>\n",
       "      <th>og:video:tag</th>\n",
       "      <th>content_watch-info-tag-list</th>\n",
       "      <th>channel_link_0</th>\n",
       "      <th>data</th>\n",
       "      <th>p</th>\n",
       "    </tr>\n",
       "  </thead>\n",
       "  <tbody>\n",
       "    <tr>\n",
       "      <th>538</th>\n",
       "      <td>Renda Passiva, Independência Financeira e Apos...</td>\n",
       "      <td>NaN</td>\n",
       "      <td>176 visualizações</td>\n",
       "      <td>Publicado em 28 de jan. de 2020</td>\n",
       "      <td>#RendaPassiva #LiberdadeFinanceira #RendaVariá...</td>\n",
       "      <td>176 visualizações\\n\\n\\n\\n\\n\\n\\n\\n46\\n\\nGostou ...</td>\n",
       "      <td>https://i.ytimg.com/vi/L3qXzNaqPAw/maxresdefau...</td>\n",
       "      <td>1280.0</td>\n",
       "      <td>Click aqui e se inscreva no canal: http://bit....</td>\n",
       "      <td>1280.0</td>\n",
       "      <td>720.0</td>\n",
       "      <td>Ricardo Soares</td>\n",
       "      <td>Educação</td>\n",
       "      <td>/channel/UCJXYGz3WKIjdmFS8GioMyBA</td>\n",
       "      <td>2020-01-28</td>\n",
       "      <td>0.16</td>\n",
       "    </tr>\n",
       "  </tbody>\n",
       "</table>\n",
       "</div>"
      ],
      "text/plain": [
       "                                           watch-title   y   watch-view-count  \\\n",
       "538  Renda Passiva, Independência Financeira e Apos... NaN  176 visualizações   \n",
       "\n",
       "                     watch-time-text  \\\n",
       "538  Publicado em 28 de jan. de 2020   \n",
       "\n",
       "                                       watch7-headline  \\\n",
       "538  #RendaPassiva #LiberdadeFinanceira #RendaVariá...   \n",
       "\n",
       "                              watch8-sentiment-actions  \\\n",
       "538  176 visualizações\\n\\n\\n\\n\\n\\n\\n\\n46\\n\\nGostou ...   \n",
       "\n",
       "                                              og:image  og:image:width  \\\n",
       "538  https://i.ytimg.com/vi/L3qXzNaqPAw/maxresdefau...          1280.0   \n",
       "\n",
       "                                        og:description  og:video:width  \\\n",
       "538  Click aqui e se inscreva no canal: http://bit....          1280.0   \n",
       "\n",
       "     og:video:height    og:video:tag content_watch-info-tag-list  \\\n",
       "538            720.0  Ricardo Soares                    Educação   \n",
       "\n",
       "                        channel_link_0       data     p  \n",
       "538  /channel/UCJXYGz3WKIjdmFS8GioMyBA 2020-01-28  0.16  "
      ]
     },
     "execution_count": 109,
     "metadata": {},
     "output_type": "execute_result"
    }
   ],
   "source": [
    "df_unlabeled.head(1)"
   ]
  },
  {
   "cell_type": "code",
   "execution_count": 118,
   "metadata": {},
   "outputs": [],
   "source": [
    "# Criando máscara para filtrar somente registros \"difíceis\" para o modelo\n",
    "mask_u = (df_unlabeled['p'] >= 0.45) & (df_unlabeled['p'] <= 0.55)"
   ]
  },
  {
   "cell_type": "code",
   "execution_count": 119,
   "metadata": {},
   "outputs": [
    {
     "data": {
      "text/plain": [
       "66"
      ]
     },
     "execution_count": 119,
     "metadata": {},
     "output_type": "execute_result"
    }
   ],
   "source": [
    "# total de registros na faixa. A máscara é um vetor booleano com True para valores de p na faixa determinada.\n",
    "mask_u.sum()"
   ]
  },
  {
   "cell_type": "code",
   "execution_count": 122,
   "metadata": {},
   "outputs": [
    {
     "data": {
      "text/html": [
       "<div>\n",
       "<style scoped>\n",
       "    .dataframe tbody tr th:only-of-type {\n",
       "        vertical-align: middle;\n",
       "    }\n",
       "\n",
       "    .dataframe tbody tr th {\n",
       "        vertical-align: top;\n",
       "    }\n",
       "\n",
       "    .dataframe thead th {\n",
       "        text-align: right;\n",
       "    }\n",
       "</style>\n",
       "<table border=\"1\" class=\"dataframe\">\n",
       "  <thead>\n",
       "    <tr style=\"text-align: right;\">\n",
       "      <th></th>\n",
       "      <th>watch-title</th>\n",
       "      <th>y</th>\n",
       "      <th>watch-view-count</th>\n",
       "      <th>watch-time-text</th>\n",
       "      <th>watch7-headline</th>\n",
       "      <th>watch8-sentiment-actions</th>\n",
       "      <th>og:image</th>\n",
       "      <th>og:image:width</th>\n",
       "      <th>og:description</th>\n",
       "      <th>og:video:width</th>\n",
       "      <th>og:video:height</th>\n",
       "      <th>og:video:tag</th>\n",
       "      <th>content_watch-info-tag-list</th>\n",
       "      <th>channel_link_0</th>\n",
       "      <th>data</th>\n",
       "      <th>p</th>\n",
       "    </tr>\n",
       "  </thead>\n",
       "  <tbody>\n",
       "    <tr>\n",
       "      <th>566</th>\n",
       "      <td>TOP 10 AÇÕES PARA INVESTIR EM MAIO DE 2020  - ...</td>\n",
       "      <td>NaN</td>\n",
       "      <td>772 visualizações</td>\n",
       "      <td>Publicado em 2 de mai. de 2020</td>\n",
       "      <td>TOP 10 AÇÕES PARA INVESTIR EM MAIO DE 2020  - ...</td>\n",
       "      <td>772 visualizações\\n\\n\\n\\n\\n\\n\\n\\n27\\n\\nGostou ...</td>\n",
       "      <td>https://i.ytimg.com/vi/M8MSZipIWyg/maxresdefau...</td>\n",
       "      <td>1280.0</td>\n",
       "      <td>TOP 10 AÇÕES PARA INVESTIR EM MAIO DE 2020 - A...</td>\n",
       "      <td>1280.0</td>\n",
       "      <td>720.0</td>\n",
       "      <td>COMO INVESTIR</td>\n",
       "      <td>Pessoas e blogs</td>\n",
       "      <td>/channel/UCL6FUaPa_l8MAzrk1oqxCFw</td>\n",
       "      <td>2020-05-02</td>\n",
       "      <td>0.548</td>\n",
       "    </tr>\n",
       "    <tr>\n",
       "      <th>579</th>\n",
       "      <td>Qual é o melhor Investimento? Comprar imóveis ...</td>\n",
       "      <td>NaN</td>\n",
       "      <td>2.555 visualizações</td>\n",
       "      <td>Estreou em 5 de mai. de 2020</td>\n",
       "      <td>Qual é o melhor Investimento? Comprar imóveis ...</td>\n",
       "      <td>2.555 visualizações\\n\\n\\n\\n\\n\\n\\n\\n454\\n\\nGost...</td>\n",
       "      <td>https://i.ytimg.com/vi/MhUjrYvJXrw/maxresdefau...</td>\n",
       "      <td>1280.0</td>\n",
       "      <td>Separei outras Dicas dentro do E-book de FII's...</td>\n",
       "      <td>1280.0</td>\n",
       "      <td>720.0</td>\n",
       "      <td>passiva</td>\n",
       "      <td>Licença de atribuição Creative Commons (reutil...</td>\n",
       "      <td>/channel/UCSXdP8V4jRaw-8YMTpa6glw</td>\n",
       "      <td>2020-05-05</td>\n",
       "      <td>0.514</td>\n",
       "    </tr>\n",
       "    <tr>\n",
       "      <th>586</th>\n",
       "      <td>ESTABILIDADE x PROSPERIDADE 💲💲 - Pablo Marçal ...</td>\n",
       "      <td>NaN</td>\n",
       "      <td>64.519 visualizações</td>\n",
       "      <td>Publicado em 22 de ago. de 2019</td>\n",
       "      <td>ESTABILIDADE x PROSPERIDADE 💲💲 - Pablo Marçal ...</td>\n",
       "      <td>64.519 visualizações\\n\\n\\n\\n\\n\\n\\n\\n8.915\\n\\nG...</td>\n",
       "      <td>https://i.ytimg.com/vi/Mt7vb3D6-TM/maxresdefau...</td>\n",
       "      <td>1280.0</td>\n",
       "      <td>Até quando você vai ser escravo do dinheiro? C...</td>\n",
       "      <td>1280.0</td>\n",
       "      <td>720.0</td>\n",
       "      <td>dinheiro</td>\n",
       "      <td>Pessoas e blogs</td>\n",
       "      <td>/channel/UCbroBIg8zvIH8-F4631wJhA</td>\n",
       "      <td>2019-08-22</td>\n",
       "      <td>0.457</td>\n",
       "    </tr>\n",
       "    <tr>\n",
       "      <th>595</th>\n",
       "      <td>Direito Constitucional Finanças Públicas e Orç...</td>\n",
       "      <td>NaN</td>\n",
       "      <td>881 visualizações</td>\n",
       "      <td>Publicado em 28 de abr. de 2019</td>\n",
       "      <td>Direito Constitucional Finanças Públicas e Orç...</td>\n",
       "      <td>881 visualizações\\n\\n\\n\\n\\n\\n\\n\\n32\\n\\nGostou ...</td>\n",
       "      <td>https://i.ytimg.com/vi/NLXfZmDBFOQ/hqdefault.jpg</td>\n",
       "      <td>480.0</td>\n",
       "      <td>Direito Constitucional é o ramo do direito púb...</td>\n",
       "      <td>640.0</td>\n",
       "      <td>360.0</td>\n",
       "      <td>Aulas para concursos</td>\n",
       "      <td>Pessoas e blogs</td>\n",
       "      <td>/channel/UCgMMBBX9mef8QpHMubFDh3g</td>\n",
       "      <td>2019-04-28</td>\n",
       "      <td>0.450</td>\n",
       "    </tr>\n",
       "    <tr>\n",
       "      <th>621</th>\n",
       "      <td>Banco central derruba juros - Corte na Selic -...</td>\n",
       "      <td>NaN</td>\n",
       "      <td>390 visualizações</td>\n",
       "      <td>Publicado em 6 de mai. de 2020</td>\n",
       "      <td>Banco central derruba juros - Corte na Selic -...</td>\n",
       "      <td>390 visualizações\\n\\n\\n\\n\\n\\n\\n\\n88\\n\\nGostou ...</td>\n",
       "      <td>https://i.ytimg.com/vi/OWQwknATc7A/maxresdefau...</td>\n",
       "      <td>1280.0</td>\n",
       "      <td>ERRATA * NO VÍDEO FALO QUE O COPOM SE REÚNE DE...</td>\n",
       "      <td>1280.0</td>\n",
       "      <td>720.0</td>\n",
       "      <td>NaN</td>\n",
       "      <td>Pessoas e blogs</td>\n",
       "      <td>/channel/UCfPKiDwwCqdKHIv5WZxUwXA</td>\n",
       "      <td>2020-05-06</td>\n",
       "      <td>0.459</td>\n",
       "    </tr>\n",
       "  </tbody>\n",
       "</table>\n",
       "</div>"
      ],
      "text/plain": [
       "                                           watch-title   y  \\\n",
       "566  TOP 10 AÇÕES PARA INVESTIR EM MAIO DE 2020  - ... NaN   \n",
       "579  Qual é o melhor Investimento? Comprar imóveis ... NaN   \n",
       "586  ESTABILIDADE x PROSPERIDADE 💲💲 - Pablo Marçal ... NaN   \n",
       "595  Direito Constitucional Finanças Públicas e Orç... NaN   \n",
       "621  Banco central derruba juros - Corte na Selic -... NaN   \n",
       "\n",
       "         watch-view-count                  watch-time-text  \\\n",
       "566     772 visualizações   Publicado em 2 de mai. de 2020   \n",
       "579   2.555 visualizações     Estreou em 5 de mai. de 2020   \n",
       "586  64.519 visualizações  Publicado em 22 de ago. de 2019   \n",
       "595     881 visualizações  Publicado em 28 de abr. de 2019   \n",
       "621     390 visualizações   Publicado em 6 de mai. de 2020   \n",
       "\n",
       "                                       watch7-headline  \\\n",
       "566  TOP 10 AÇÕES PARA INVESTIR EM MAIO DE 2020  - ...   \n",
       "579  Qual é o melhor Investimento? Comprar imóveis ...   \n",
       "586  ESTABILIDADE x PROSPERIDADE 💲💲 - Pablo Marçal ...   \n",
       "595  Direito Constitucional Finanças Públicas e Orç...   \n",
       "621  Banco central derruba juros - Corte na Selic -...   \n",
       "\n",
       "                              watch8-sentiment-actions  \\\n",
       "566  772 visualizações\\n\\n\\n\\n\\n\\n\\n\\n27\\n\\nGostou ...   \n",
       "579  2.555 visualizações\\n\\n\\n\\n\\n\\n\\n\\n454\\n\\nGost...   \n",
       "586  64.519 visualizações\\n\\n\\n\\n\\n\\n\\n\\n8.915\\n\\nG...   \n",
       "595  881 visualizações\\n\\n\\n\\n\\n\\n\\n\\n32\\n\\nGostou ...   \n",
       "621  390 visualizações\\n\\n\\n\\n\\n\\n\\n\\n88\\n\\nGostou ...   \n",
       "\n",
       "                                              og:image  og:image:width  \\\n",
       "566  https://i.ytimg.com/vi/M8MSZipIWyg/maxresdefau...          1280.0   \n",
       "579  https://i.ytimg.com/vi/MhUjrYvJXrw/maxresdefau...          1280.0   \n",
       "586  https://i.ytimg.com/vi/Mt7vb3D6-TM/maxresdefau...          1280.0   \n",
       "595   https://i.ytimg.com/vi/NLXfZmDBFOQ/hqdefault.jpg           480.0   \n",
       "621  https://i.ytimg.com/vi/OWQwknATc7A/maxresdefau...          1280.0   \n",
       "\n",
       "                                        og:description  og:video:width  \\\n",
       "566  TOP 10 AÇÕES PARA INVESTIR EM MAIO DE 2020 - A...          1280.0   \n",
       "579  Separei outras Dicas dentro do E-book de FII's...          1280.0   \n",
       "586  Até quando você vai ser escravo do dinheiro? C...          1280.0   \n",
       "595  Direito Constitucional é o ramo do direito púb...           640.0   \n",
       "621  ERRATA * NO VÍDEO FALO QUE O COPOM SE REÚNE DE...          1280.0   \n",
       "\n",
       "     og:video:height          og:video:tag  \\\n",
       "566            720.0         COMO INVESTIR   \n",
       "579            720.0               passiva   \n",
       "586            720.0              dinheiro   \n",
       "595            360.0  Aulas para concursos   \n",
       "621            720.0                   NaN   \n",
       "\n",
       "                           content_watch-info-tag-list  \\\n",
       "566                                    Pessoas e blogs   \n",
       "579  Licença de atribuição Creative Commons (reutil...   \n",
       "586                                    Pessoas e blogs   \n",
       "595                                    Pessoas e blogs   \n",
       "621                                    Pessoas e blogs   \n",
       "\n",
       "                        channel_link_0       data      p  \n",
       "566  /channel/UCL6FUaPa_l8MAzrk1oqxCFw 2020-05-02  0.548  \n",
       "579  /channel/UCSXdP8V4jRaw-8YMTpa6glw 2020-05-05  0.514  \n",
       "586  /channel/UCbroBIg8zvIH8-F4631wJhA 2019-08-22  0.457  \n",
       "595  /channel/UCgMMBBX9mef8QpHMubFDh3g 2019-04-28  0.450  \n",
       "621  /channel/UCfPKiDwwCqdKHIv5WZxUwXA 2020-05-06  0.459  "
      ]
     },
     "execution_count": 122,
     "metadata": {},
     "output_type": "execute_result"
    }
   ],
   "source": [
    "#como a faixa determinada já retorna uma amostra próxima de 70 exemplos, vamos mantê-la\n",
    "df_unlabeled[mask_u].head()"
   ]
  },
  {
   "cell_type": "markdown",
   "metadata": {},
   "source": [
    "Agora, precisamos selecionar exemplos aleatórios entre aqueles que não estão na faixa de indecisão determinada."
   ]
  },
  {
   "cell_type": "code",
   "execution_count": 123,
   "metadata": {},
   "outputs": [],
   "source": [
    "#df com os exemplos difíceis para o modelo\n",
    "dificeis = df_unlabeled[mask_u]"
   ]
  },
  {
   "cell_type": "code",
   "execution_count": 125,
   "metadata": {},
   "outputs": [],
   "source": [
    "#df com dados aleatórios\n",
    "aleatorios = df_unlabeled[~mask_u].sample(34, random_state=0) #100 - 66 = 34"
   ]
  },
  {
   "cell_type": "code",
   "execution_count": 126,
   "metadata": {},
   "outputs": [],
   "source": [
    "#salvando essas 100 amostras em uma planilha para etiquetá-los e retorná-los para o modelo\n",
    "pd.concat([dificeis, aleatorios]).to_excel(\"./datasets/active_label.xlsx\", engine='xlsxwriter')"
   ]
  },
  {
   "cell_type": "code",
   "execution_count": null,
   "metadata": {},
   "outputs": [],
   "source": []
  }
 ],
 "metadata": {
  "kernelspec": {
   "display_name": "Python 3",
   "language": "python",
   "name": "python3"
  },
  "language_info": {
   "codemirror_mode": {
    "name": "ipython",
    "version": 3
   },
   "file_extension": ".py",
   "mimetype": "text/x-python",
   "name": "python",
   "nbconvert_exporter": "python",
   "pygments_lexer": "ipython3",
   "version": "3.7.6"
  }
 },
 "nbformat": 4,
 "nbformat_minor": 4
}
