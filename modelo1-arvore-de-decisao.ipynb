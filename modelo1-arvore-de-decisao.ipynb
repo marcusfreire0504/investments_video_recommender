{
 "cells": [
  {
   "cell_type": "markdown",
   "metadata": {},
   "source": [
    "# Primeiro modelo: fazendo exploração e criando primeira árvore de decisão\n",
    "\n",
    "Na etapa anterior, geramos o arquilo excel (o csv gerado ficava corrompido) com dados selecionados da extração de features de cada página de vídeo. Foi criada a coluna y na planilha, onde foram adicionadas labels para 503 registros, da seguinte forma:\n",
    "* 0: Vídeo não despertou o interesse em assistir\n",
    "* 1: Houve interesse em assistir ao vídeo\n",
    "\n",
    "A consideração para criar a label se baseou no título do vídeo e na quantidade de views. Para criar as labels para os demais dados, será aplicada uma técnica de active learning."
   ]
  },
  {
   "cell_type": "code",
   "execution_count": 1,
   "metadata": {},
   "outputs": [
    {
     "name": "stdout",
     "output_type": "stream",
     "text": [
      "Populating the interactive namespace from numpy and matplotlib\n"
     ]
    }
   ],
   "source": [
    "#importando pacotes\n",
    "import pandas as pd\n",
    "import numpy as np\n",
    "import re\n",
    "import time\n",
    "\n",
    "import bs4\n",
    "import json\n",
    "\n",
    "import glob\n",
    "import tqdm\n",
    "\n",
    "pd.set_option(\"max.columns\", 100)\n",
    "\n",
    "#https://strftime.org\n",
    "%matplotlib inline\n",
    "%pylab inline"
   ]
  },
  {
   "cell_type": "code",
   "execution_count": 2,
   "metadata": {},
   "outputs": [],
   "source": [
    "df = pd.read_excel('./datasets/raw_data_with_labels.xlsx', index_col=0)"
   ]
  },
  {
   "cell_type": "code",
   "execution_count": 3,
   "metadata": {},
   "outputs": [
    {
     "data": {
      "text/html": [
       "<div>\n",
       "<style scoped>\n",
       "    .dataframe tbody tr th:only-of-type {\n",
       "        vertical-align: middle;\n",
       "    }\n",
       "\n",
       "    .dataframe tbody tr th {\n",
       "        vertical-align: top;\n",
       "    }\n",
       "\n",
       "    .dataframe thead th {\n",
       "        text-align: right;\n",
       "    }\n",
       "</style>\n",
       "<table border=\"1\" class=\"dataframe\">\n",
       "  <thead>\n",
       "    <tr style=\"text-align: right;\">\n",
       "      <th></th>\n",
       "      <th>watch-title</th>\n",
       "      <th>y</th>\n",
       "      <th>watch-view-count</th>\n",
       "      <th>watch-time-text</th>\n",
       "      <th>watch7-headline</th>\n",
       "      <th>watch8-sentiment-actions</th>\n",
       "      <th>og:image</th>\n",
       "      <th>og:image:width</th>\n",
       "      <th>og:description</th>\n",
       "      <th>og:video:width</th>\n",
       "      <th>og:video:height</th>\n",
       "      <th>og:video:tag</th>\n",
       "      <th>content_watch-info-tag-list</th>\n",
       "      <th>channel_link_0</th>\n",
       "    </tr>\n",
       "  </thead>\n",
       "  <tbody>\n",
       "    <tr>\n",
       "      <th>0</th>\n",
       "      <td>Finanças é Coisa de Criança!</td>\n",
       "      <td>0.0</td>\n",
       "      <td>635 visualizações</td>\n",
       "      <td>Publicado em 30 de jul. de 2019</td>\n",
       "      <td>#intusforma #institucional #educacao\\n\\n\\n\\n  ...</td>\n",
       "      <td>635 visualizações\\n\\n\\n\\n\\nGostou deste vídeo?...</td>\n",
       "      <td>https://i.ytimg.com/vi/-0HZcKmHXn4/maxresdefau...</td>\n",
       "      <td>1280.0</td>\n",
       "      <td>Um dos nossos primeiros programas que deram vi...</td>\n",
       "      <td>1280.0</td>\n",
       "      <td>720.0</td>\n",
       "      <td>financasecoisadecrianca</td>\n",
       "      <td>Educação</td>\n",
       "      <td>/channel/UCjE76zhvoDw5hnLtmzFHR-Q</td>\n",
       "    </tr>\n",
       "    <tr>\n",
       "      <th>1</th>\n",
       "      <td>Câncer 2020 - Profissional e Finanças 1° semestre</td>\n",
       "      <td>0.0</td>\n",
       "      <td>37.305 visualizações</td>\n",
       "      <td>Publicado em 3 de dez. de 2019</td>\n",
       "      <td>#tarô #previsão2020 #profissional2020\\n\\n\\n\\n ...</td>\n",
       "      <td>37.305 visualizações\\n\\n\\n\\n\\n\\n\\n\\n2.550\\n\\nG...</td>\n",
       "      <td>https://i.ytimg.com/vi/-1kS-ZrfcYQ/hqdefault.jpg</td>\n",
       "      <td>480.0</td>\n",
       "      <td>Previsão primeiro semestre de 2020 profissiona...</td>\n",
       "      <td>1280.0</td>\n",
       "      <td>720.0</td>\n",
       "      <td>tarot câncer 2020 profissional</td>\n",
       "      <td>Pessoas e blogs</td>\n",
       "      <td>/channel/UCL6feH5A7tjCoNTKAkJ9ITQ</td>\n",
       "    </tr>\n",
       "    <tr>\n",
       "      <th>2</th>\n",
       "      <td>Seja Rica: Conquiste sua Independência Financeira</td>\n",
       "      <td>0.0</td>\n",
       "      <td>98 visualizações</td>\n",
       "      <td>Publicado em 30 de mar. de 2017</td>\n",
       "      <td>Seja Rica: Conquiste sua Independência Financeira</td>\n",
       "      <td>98 visualizações\\n\\n\\n\\n\\n\\n\\n\\n29\\n\\nGostou d...</td>\n",
       "      <td>https://i.ytimg.com/vi/-40s-kunvQM/hqdefault.jpg</td>\n",
       "      <td>480.0</td>\n",
       "      <td>Seja Rica é o novo quadro aqui do canal. Nesse...</td>\n",
       "      <td>640.0</td>\n",
       "      <td>360.0</td>\n",
       "      <td>Rico</td>\n",
       "      <td>Pessoas e blogs</td>\n",
       "      <td>/channel/UChgFe4WPc8Wx4tJVAdd9-rA</td>\n",
       "    </tr>\n",
       "    <tr>\n",
       "      <th>3</th>\n",
       "      <td>Independência FINANCEIRA</td>\n",
       "      <td>0.0</td>\n",
       "      <td>41 visualizações</td>\n",
       "      <td>Publicado em 19 de mar. de 2019</td>\n",
       "      <td>Independência FINANCEIRA</td>\n",
       "      <td>41 visualizações\\n\\n\\n\\n\\n\\n\\n\\n17\\n\\nGostou d...</td>\n",
       "      <td>https://i.ytimg.com/vi/-6dz-10LkHc/maxresdefau...</td>\n",
       "      <td>1280.0</td>\n",
       "      <td>Como conseguir sua independência financeira, m...</td>\n",
       "      <td>1280.0</td>\n",
       "      <td>720.0</td>\n",
       "      <td>pouco</td>\n",
       "      <td>Pessoas e blogs</td>\n",
       "      <td>/channel/UCUH-FVOIrY6IW2hs66A4IFA</td>\n",
       "    </tr>\n",
       "    <tr>\n",
       "      <th>4</th>\n",
       "      <td>NaN</td>\n",
       "      <td>NaN</td>\n",
       "      <td>NaN</td>\n",
       "      <td>NaN</td>\n",
       "      <td>NaN</td>\n",
       "      <td>NaN</td>\n",
       "      <td>NaN</td>\n",
       "      <td>NaN</td>\n",
       "      <td>NaN</td>\n",
       "      <td>NaN</td>\n",
       "      <td>NaN</td>\n",
       "      <td>NaN</td>\n",
       "      <td>NaN</td>\n",
       "      <td>NaN</td>\n",
       "    </tr>\n",
       "  </tbody>\n",
       "</table>\n",
       "</div>"
      ],
      "text/plain": [
       "                                         watch-title    y  \\\n",
       "0                       Finanças é Coisa de Criança!  0.0   \n",
       "1  Câncer 2020 - Profissional e Finanças 1° semestre  0.0   \n",
       "2  Seja Rica: Conquiste sua Independência Financeira  0.0   \n",
       "3                           Independência FINANCEIRA  0.0   \n",
       "4                                                NaN  NaN   \n",
       "\n",
       "       watch-view-count                  watch-time-text  \\\n",
       "0     635 visualizações  Publicado em 30 de jul. de 2019   \n",
       "1  37.305 visualizações   Publicado em 3 de dez. de 2019   \n",
       "2      98 visualizações  Publicado em 30 de mar. de 2017   \n",
       "3      41 visualizações  Publicado em 19 de mar. de 2019   \n",
       "4                   NaN                              NaN   \n",
       "\n",
       "                                     watch7-headline  \\\n",
       "0  #intusforma #institucional #educacao\\n\\n\\n\\n  ...   \n",
       "1  #tarô #previsão2020 #profissional2020\\n\\n\\n\\n ...   \n",
       "2  Seja Rica: Conquiste sua Independência Financeira   \n",
       "3                           Independência FINANCEIRA   \n",
       "4                                                NaN   \n",
       "\n",
       "                            watch8-sentiment-actions  \\\n",
       "0  635 visualizações\\n\\n\\n\\n\\nGostou deste vídeo?...   \n",
       "1  37.305 visualizações\\n\\n\\n\\n\\n\\n\\n\\n2.550\\n\\nG...   \n",
       "2  98 visualizações\\n\\n\\n\\n\\n\\n\\n\\n29\\n\\nGostou d...   \n",
       "3  41 visualizações\\n\\n\\n\\n\\n\\n\\n\\n17\\n\\nGostou d...   \n",
       "4                                                NaN   \n",
       "\n",
       "                                            og:image  og:image:width  \\\n",
       "0  https://i.ytimg.com/vi/-0HZcKmHXn4/maxresdefau...          1280.0   \n",
       "1   https://i.ytimg.com/vi/-1kS-ZrfcYQ/hqdefault.jpg           480.0   \n",
       "2   https://i.ytimg.com/vi/-40s-kunvQM/hqdefault.jpg           480.0   \n",
       "3  https://i.ytimg.com/vi/-6dz-10LkHc/maxresdefau...          1280.0   \n",
       "4                                                NaN             NaN   \n",
       "\n",
       "                                      og:description  og:video:width  \\\n",
       "0  Um dos nossos primeiros programas que deram vi...          1280.0   \n",
       "1  Previsão primeiro semestre de 2020 profissiona...          1280.0   \n",
       "2  Seja Rica é o novo quadro aqui do canal. Nesse...           640.0   \n",
       "3  Como conseguir sua independência financeira, m...          1280.0   \n",
       "4                                                NaN             NaN   \n",
       "\n",
       "   og:video:height                    og:video:tag  \\\n",
       "0            720.0         financasecoisadecrianca   \n",
       "1            720.0  tarot câncer 2020 profissional   \n",
       "2            360.0                            Rico   \n",
       "3            720.0                           pouco   \n",
       "4              NaN                             NaN   \n",
       "\n",
       "  content_watch-info-tag-list                     channel_link_0  \n",
       "0                    Educação  /channel/UCjE76zhvoDw5hnLtmzFHR-Q  \n",
       "1             Pessoas e blogs  /channel/UCL6feH5A7tjCoNTKAkJ9ITQ  \n",
       "2             Pessoas e blogs  /channel/UChgFe4WPc8Wx4tJVAdd9-rA  \n",
       "3             Pessoas e blogs  /channel/UCUH-FVOIrY6IW2hs66A4IFA  \n",
       "4                         NaN                                NaN  "
      ]
     },
     "execution_count": 3,
     "metadata": {},
     "output_type": "execute_result"
    }
   ],
   "source": [
    "df.head()"
   ]
  },
  {
   "cell_type": "code",
   "execution_count": 4,
   "metadata": {},
   "outputs": [],
   "source": [
    "#criando dataframe somente os registros que foram etiquetados.\n",
    "df_labeled = df[df.y.notnull()].copy()"
   ]
  },
  {
   "cell_type": "code",
   "execution_count": 5,
   "metadata": {},
   "outputs": [
    {
     "data": {
      "text/plain": [
       "(503, 14)"
      ]
     },
     "execution_count": 5,
     "metadata": {},
     "output_type": "execute_result"
    }
   ],
   "source": [
    "df_labeled.shape"
   ]
  },
  {
   "cell_type": "code",
   "execution_count": 6,
   "metadata": {},
   "outputs": [
    {
     "data": {
      "text/html": [
       "<div>\n",
       "<style scoped>\n",
       "    .dataframe tbody tr th:only-of-type {\n",
       "        vertical-align: middle;\n",
       "    }\n",
       "\n",
       "    .dataframe tbody tr th {\n",
       "        vertical-align: top;\n",
       "    }\n",
       "\n",
       "    .dataframe thead th {\n",
       "        text-align: right;\n",
       "    }\n",
       "</style>\n",
       "<table border=\"1\" class=\"dataframe\">\n",
       "  <thead>\n",
       "    <tr style=\"text-align: right;\">\n",
       "      <th></th>\n",
       "      <th>watch-title</th>\n",
       "      <th>y</th>\n",
       "      <th>watch-view-count</th>\n",
       "      <th>watch-time-text</th>\n",
       "      <th>watch7-headline</th>\n",
       "      <th>watch8-sentiment-actions</th>\n",
       "      <th>og:image</th>\n",
       "      <th>og:image:width</th>\n",
       "      <th>og:description</th>\n",
       "      <th>og:video:width</th>\n",
       "      <th>og:video:height</th>\n",
       "      <th>og:video:tag</th>\n",
       "      <th>content_watch-info-tag-list</th>\n",
       "      <th>channel_link_0</th>\n",
       "    </tr>\n",
       "  </thead>\n",
       "  <tbody>\n",
       "    <tr>\n",
       "      <th>0</th>\n",
       "      <td>Finanças é Coisa de Criança!</td>\n",
       "      <td>0.0</td>\n",
       "      <td>635 visualizações</td>\n",
       "      <td>Publicado em 30 de jul. de 2019</td>\n",
       "      <td>#intusforma #institucional #educacao\\n\\n\\n\\n  ...</td>\n",
       "      <td>635 visualizações\\n\\n\\n\\n\\nGostou deste vídeo?...</td>\n",
       "      <td>https://i.ytimg.com/vi/-0HZcKmHXn4/maxresdefau...</td>\n",
       "      <td>1280.0</td>\n",
       "      <td>Um dos nossos primeiros programas que deram vi...</td>\n",
       "      <td>1280.0</td>\n",
       "      <td>720.0</td>\n",
       "      <td>financasecoisadecrianca</td>\n",
       "      <td>Educação</td>\n",
       "      <td>/channel/UCjE76zhvoDw5hnLtmzFHR-Q</td>\n",
       "    </tr>\n",
       "    <tr>\n",
       "      <th>1</th>\n",
       "      <td>Câncer 2020 - Profissional e Finanças 1° semestre</td>\n",
       "      <td>0.0</td>\n",
       "      <td>37.305 visualizações</td>\n",
       "      <td>Publicado em 3 de dez. de 2019</td>\n",
       "      <td>#tarô #previsão2020 #profissional2020\\n\\n\\n\\n ...</td>\n",
       "      <td>37.305 visualizações\\n\\n\\n\\n\\n\\n\\n\\n2.550\\n\\nG...</td>\n",
       "      <td>https://i.ytimg.com/vi/-1kS-ZrfcYQ/hqdefault.jpg</td>\n",
       "      <td>480.0</td>\n",
       "      <td>Previsão primeiro semestre de 2020 profissiona...</td>\n",
       "      <td>1280.0</td>\n",
       "      <td>720.0</td>\n",
       "      <td>tarot câncer 2020 profissional</td>\n",
       "      <td>Pessoas e blogs</td>\n",
       "      <td>/channel/UCL6feH5A7tjCoNTKAkJ9ITQ</td>\n",
       "    </tr>\n",
       "    <tr>\n",
       "      <th>2</th>\n",
       "      <td>Seja Rica: Conquiste sua Independência Financeira</td>\n",
       "      <td>0.0</td>\n",
       "      <td>98 visualizações</td>\n",
       "      <td>Publicado em 30 de mar. de 2017</td>\n",
       "      <td>Seja Rica: Conquiste sua Independência Financeira</td>\n",
       "      <td>98 visualizações\\n\\n\\n\\n\\n\\n\\n\\n29\\n\\nGostou d...</td>\n",
       "      <td>https://i.ytimg.com/vi/-40s-kunvQM/hqdefault.jpg</td>\n",
       "      <td>480.0</td>\n",
       "      <td>Seja Rica é o novo quadro aqui do canal. Nesse...</td>\n",
       "      <td>640.0</td>\n",
       "      <td>360.0</td>\n",
       "      <td>Rico</td>\n",
       "      <td>Pessoas e blogs</td>\n",
       "      <td>/channel/UChgFe4WPc8Wx4tJVAdd9-rA</td>\n",
       "    </tr>\n",
       "    <tr>\n",
       "      <th>3</th>\n",
       "      <td>Independência FINANCEIRA</td>\n",
       "      <td>0.0</td>\n",
       "      <td>41 visualizações</td>\n",
       "      <td>Publicado em 19 de mar. de 2019</td>\n",
       "      <td>Independência FINANCEIRA</td>\n",
       "      <td>41 visualizações\\n\\n\\n\\n\\n\\n\\n\\n17\\n\\nGostou d...</td>\n",
       "      <td>https://i.ytimg.com/vi/-6dz-10LkHc/maxresdefau...</td>\n",
       "      <td>1280.0</td>\n",
       "      <td>Como conseguir sua independência financeira, m...</td>\n",
       "      <td>1280.0</td>\n",
       "      <td>720.0</td>\n",
       "      <td>pouco</td>\n",
       "      <td>Pessoas e blogs</td>\n",
       "      <td>/channel/UCUH-FVOIrY6IW2hs66A4IFA</td>\n",
       "    </tr>\n",
       "    <tr>\n",
       "      <th>5</th>\n",
       "      <td>6 ERROS para NÃO ter a INDEPENDÊNCIA FINANCEIR...</td>\n",
       "      <td>0.0</td>\n",
       "      <td>389 visualizações</td>\n",
       "      <td>Publicado em 21 de jan. de 2020</td>\n",
       "      <td>6 ERROS para NÃO ter a INDEPENDÊNCIA FINANCEIR...</td>\n",
       "      <td>389 visualizações\\n\\n\\n\\n\\n\\n\\n\\n86\\n\\nGostou ...</td>\n",
       "      <td>https://i.ytimg.com/vi/-CcyxsGoquk/maxresdefau...</td>\n",
       "      <td>1280.0</td>\n",
       "      <td>Ano novo, vida financeira nova! A partir de ag...</td>\n",
       "      <td>1280.0</td>\n",
       "      <td>720.0</td>\n",
       "      <td>não ter independência financeira</td>\n",
       "      <td>Educação</td>\n",
       "      <td>/channel/UCu8nmn2Na1wcPUxy7dDqG2A</td>\n",
       "    </tr>\n",
       "  </tbody>\n",
       "</table>\n",
       "</div>"
      ],
      "text/plain": [
       "                                         watch-title    y  \\\n",
       "0                       Finanças é Coisa de Criança!  0.0   \n",
       "1  Câncer 2020 - Profissional e Finanças 1° semestre  0.0   \n",
       "2  Seja Rica: Conquiste sua Independência Financeira  0.0   \n",
       "3                           Independência FINANCEIRA  0.0   \n",
       "5  6 ERROS para NÃO ter a INDEPENDÊNCIA FINANCEIR...  0.0   \n",
       "\n",
       "       watch-view-count                  watch-time-text  \\\n",
       "0     635 visualizações  Publicado em 30 de jul. de 2019   \n",
       "1  37.305 visualizações   Publicado em 3 de dez. de 2019   \n",
       "2      98 visualizações  Publicado em 30 de mar. de 2017   \n",
       "3      41 visualizações  Publicado em 19 de mar. de 2019   \n",
       "5     389 visualizações  Publicado em 21 de jan. de 2020   \n",
       "\n",
       "                                     watch7-headline  \\\n",
       "0  #intusforma #institucional #educacao\\n\\n\\n\\n  ...   \n",
       "1  #tarô #previsão2020 #profissional2020\\n\\n\\n\\n ...   \n",
       "2  Seja Rica: Conquiste sua Independência Financeira   \n",
       "3                           Independência FINANCEIRA   \n",
       "5  6 ERROS para NÃO ter a INDEPENDÊNCIA FINANCEIR...   \n",
       "\n",
       "                            watch8-sentiment-actions  \\\n",
       "0  635 visualizações\\n\\n\\n\\n\\nGostou deste vídeo?...   \n",
       "1  37.305 visualizações\\n\\n\\n\\n\\n\\n\\n\\n2.550\\n\\nG...   \n",
       "2  98 visualizações\\n\\n\\n\\n\\n\\n\\n\\n29\\n\\nGostou d...   \n",
       "3  41 visualizações\\n\\n\\n\\n\\n\\n\\n\\n17\\n\\nGostou d...   \n",
       "5  389 visualizações\\n\\n\\n\\n\\n\\n\\n\\n86\\n\\nGostou ...   \n",
       "\n",
       "                                            og:image  og:image:width  \\\n",
       "0  https://i.ytimg.com/vi/-0HZcKmHXn4/maxresdefau...          1280.0   \n",
       "1   https://i.ytimg.com/vi/-1kS-ZrfcYQ/hqdefault.jpg           480.0   \n",
       "2   https://i.ytimg.com/vi/-40s-kunvQM/hqdefault.jpg           480.0   \n",
       "3  https://i.ytimg.com/vi/-6dz-10LkHc/maxresdefau...          1280.0   \n",
       "5  https://i.ytimg.com/vi/-CcyxsGoquk/maxresdefau...          1280.0   \n",
       "\n",
       "                                      og:description  og:video:width  \\\n",
       "0  Um dos nossos primeiros programas que deram vi...          1280.0   \n",
       "1  Previsão primeiro semestre de 2020 profissiona...          1280.0   \n",
       "2  Seja Rica é o novo quadro aqui do canal. Nesse...           640.0   \n",
       "3  Como conseguir sua independência financeira, m...          1280.0   \n",
       "5  Ano novo, vida financeira nova! A partir de ag...          1280.0   \n",
       "\n",
       "   og:video:height                      og:video:tag  \\\n",
       "0            720.0           financasecoisadecrianca   \n",
       "1            720.0    tarot câncer 2020 profissional   \n",
       "2            360.0                              Rico   \n",
       "3            720.0                             pouco   \n",
       "5            720.0  não ter independência financeira   \n",
       "\n",
       "  content_watch-info-tag-list                     channel_link_0  \n",
       "0                    Educação  /channel/UCjE76zhvoDw5hnLtmzFHR-Q  \n",
       "1             Pessoas e blogs  /channel/UCL6feH5A7tjCoNTKAkJ9ITQ  \n",
       "2             Pessoas e blogs  /channel/UChgFe4WPc8Wx4tJVAdd9-rA  \n",
       "3             Pessoas e blogs  /channel/UCUH-FVOIrY6IW2hs66A4IFA  \n",
       "5                    Educação  /channel/UCu8nmn2Na1wcPUxy7dDqG2A  "
      ]
     },
     "execution_count": 6,
     "metadata": {},
     "output_type": "execute_result"
    }
   ],
   "source": [
    "#temos 503 registros etiquetados\n",
    "df_labeled.head()"
   ]
  },
  {
   "cell_type": "code",
   "execution_count": 7,
   "metadata": {},
   "outputs": [
    {
     "data": {
      "text/html": [
       "<div>\n",
       "<style scoped>\n",
       "    .dataframe tbody tr th:only-of-type {\n",
       "        vertical-align: middle;\n",
       "    }\n",
       "\n",
       "    .dataframe tbody tr th {\n",
       "        vertical-align: top;\n",
       "    }\n",
       "\n",
       "    .dataframe thead th {\n",
       "        text-align: right;\n",
       "    }\n",
       "</style>\n",
       "<table border=\"1\" class=\"dataframe\">\n",
       "  <thead>\n",
       "    <tr style=\"text-align: right;\">\n",
       "      <th></th>\n",
       "      <th>watch-title</th>\n",
       "      <th>y</th>\n",
       "      <th>watch-view-count</th>\n",
       "      <th>watch-time-text</th>\n",
       "      <th>watch7-headline</th>\n",
       "      <th>watch8-sentiment-actions</th>\n",
       "      <th>og:image</th>\n",
       "      <th>og:image:width</th>\n",
       "      <th>og:description</th>\n",
       "      <th>og:video:width</th>\n",
       "      <th>og:video:height</th>\n",
       "      <th>og:video:tag</th>\n",
       "      <th>content_watch-info-tag-list</th>\n",
       "      <th>channel_link_0</th>\n",
       "    </tr>\n",
       "  </thead>\n",
       "  <tbody>\n",
       "    <tr>\n",
       "      <th>531</th>\n",
       "      <td>Selic em Queda, mais um corte. Onde investir? ...</td>\n",
       "      <td>0.0</td>\n",
       "      <td>9.146 visualizações</td>\n",
       "      <td>Transmitido ao vivo em 6 de mai. de 2020</td>\n",
       "      <td>#Selic #Queda #Corte\\n\\n\\n\\n    Selic em Queda...</td>\n",
       "      <td>9.146 visualizações\\n\\n\\n\\n\\n\\n\\n\\n1.071\\n\\nGo...</td>\n",
       "      <td>https://i.ytimg.com/vi/KrbfULnm2C8/maxresdefau...</td>\n",
       "      <td>1280.0</td>\n",
       "      <td>Selic em queda, de novo? E agora quem poderá n...</td>\n",
       "      <td>1280.0</td>\n",
       "      <td>720.0</td>\n",
       "      <td>inflação</td>\n",
       "      <td>Entretenimento</td>\n",
       "      <td>/channel/UCkvpo9jvRG73j7iCBTNL-OA</td>\n",
       "    </tr>\n",
       "    <tr>\n",
       "      <th>532</th>\n",
       "      <td>🔴 O Que é CDI? Taxa CDI? Investir em CDI? - En...</td>\n",
       "      <td>1.0</td>\n",
       "      <td>314.473 visualizações</td>\n",
       "      <td>Publicado em 23 de set. de 2016</td>\n",
       "      <td>🔴 O Que é CDI? Taxa CDI? Investir em CDI? - En...</td>\n",
       "      <td>314.473 visualizações\\n\\n\\n\\n\\n\\n\\n\\n22.241\\n\\...</td>\n",
       "      <td>https://i.ytimg.com/vi/KuoeirjSEUg/maxresdefau...</td>\n",
       "      <td>1280.0</td>\n",
       "      <td>Você sabe O que É CDI? Você já ouviu alguma ve...</td>\n",
       "      <td>1280.0</td>\n",
       "      <td>720.0</td>\n",
       "      <td>primo rico cdi</td>\n",
       "      <td>Entretenimento</td>\n",
       "      <td>/channel/UCT4nDeU5pv1XIGySbSK-GgA</td>\n",
       "    </tr>\n",
       "    <tr>\n",
       "      <th>533</th>\n",
       "      <td>O Melhor Aplicativo de Finanças do MUNDO</td>\n",
       "      <td>0.0</td>\n",
       "      <td>3.719 visualizações</td>\n",
       "      <td>Publicado em 19 de nov. de 2019</td>\n",
       "      <td>O Melhor Aplicativo de Finanças do MUNDO</td>\n",
       "      <td>3.719 visualizações\\n\\n\\n\\n\\n\\n\\n\\n184\\n\\nGost...</td>\n",
       "      <td>https://i.ytimg.com/vi/KyOiaLtfDMY/maxresdefau...</td>\n",
       "      <td>1280.0</td>\n",
       "      <td>Nesse vídeo você vai conhecer o melhor aplicat...</td>\n",
       "      <td>1280.0</td>\n",
       "      <td>720.0</td>\n",
       "      <td>aplicativo minhas economias como usar</td>\n",
       "      <td>Educação</td>\n",
       "      <td>/channel/UCyCBeQuIVG09fgcNIEsYJgA</td>\n",
       "    </tr>\n",
       "    <tr>\n",
       "      <th>534</th>\n",
       "      <td>INDEPENDÊNCIA FINANCEIRA: como calcular o valo...</td>\n",
       "      <td>0.0</td>\n",
       "      <td>214 visualizações</td>\n",
       "      <td>Transmitido ao vivo em 10 de mai. de 2019</td>\n",
       "      <td>#rotadariqueza #independênciafinanceira #horad...</td>\n",
       "      <td>214 visualizações\\n\\n\\n\\n\\n\\n\\n\\n27\\n\\nGostou ...</td>\n",
       "      <td>https://i.ytimg.com/vi/KzJyRYs9_RE/hqdefault.jpg</td>\n",
       "      <td>480.0</td>\n",
       "      <td>Já parou para calcular quanto você precisa acu...</td>\n",
       "      <td>NaN</td>\n",
       "      <td>NaN</td>\n",
       "      <td>quanto juntar</td>\n",
       "      <td>Educação</td>\n",
       "      <td>/channel/UCGEgCjRA7BElVTOCCMciQyg</td>\n",
       "    </tr>\n",
       "    <tr>\n",
       "      <th>535</th>\n",
       "      <td>Live: Independência financeira, realidade ou u...</td>\n",
       "      <td>0.0</td>\n",
       "      <td>1.283 visualizações</td>\n",
       "      <td>Transmitido ao vivo em 24 de out. de 2018</td>\n",
       "      <td>Live: Independência financeira, realidade ou u...</td>\n",
       "      <td>1.283 visualizações\\n\\n\\n\\n\\n\\n\\n\\n132\\n\\nGost...</td>\n",
       "      <td>https://i.ytimg.com/vi/L1xLg9ktipE/maxresdefau...</td>\n",
       "      <td>1280.0</td>\n",
       "      <td>Acompanhe a primeira live semanal do Dinheiram...</td>\n",
       "      <td>1280.0</td>\n",
       "      <td>720.0</td>\n",
       "      <td>ganhardinheiro</td>\n",
       "      <td>Educação</td>\n",
       "      <td>/channel/UCrRY-awCDpGJZxJ4JxQG-AA</td>\n",
       "    </tr>\n",
       "  </tbody>\n",
       "</table>\n",
       "</div>"
      ],
      "text/plain": [
       "                                           watch-title    y  \\\n",
       "531  Selic em Queda, mais um corte. Onde investir? ...  0.0   \n",
       "532  🔴 O Que é CDI? Taxa CDI? Investir em CDI? - En...  1.0   \n",
       "533           O Melhor Aplicativo de Finanças do MUNDO  0.0   \n",
       "534  INDEPENDÊNCIA FINANCEIRA: como calcular o valo...  0.0   \n",
       "535  Live: Independência financeira, realidade ou u...  0.0   \n",
       "\n",
       "          watch-view-count                            watch-time-text  \\\n",
       "531    9.146 visualizações   Transmitido ao vivo em 6 de mai. de 2020   \n",
       "532  314.473 visualizações            Publicado em 23 de set. de 2016   \n",
       "533    3.719 visualizações            Publicado em 19 de nov. de 2019   \n",
       "534      214 visualizações  Transmitido ao vivo em 10 de mai. de 2019   \n",
       "535    1.283 visualizações  Transmitido ao vivo em 24 de out. de 2018   \n",
       "\n",
       "                                       watch7-headline  \\\n",
       "531  #Selic #Queda #Corte\\n\\n\\n\\n    Selic em Queda...   \n",
       "532  🔴 O Que é CDI? Taxa CDI? Investir em CDI? - En...   \n",
       "533           O Melhor Aplicativo de Finanças do MUNDO   \n",
       "534  #rotadariqueza #independênciafinanceira #horad...   \n",
       "535  Live: Independência financeira, realidade ou u...   \n",
       "\n",
       "                              watch8-sentiment-actions  \\\n",
       "531  9.146 visualizações\\n\\n\\n\\n\\n\\n\\n\\n1.071\\n\\nGo...   \n",
       "532  314.473 visualizações\\n\\n\\n\\n\\n\\n\\n\\n22.241\\n\\...   \n",
       "533  3.719 visualizações\\n\\n\\n\\n\\n\\n\\n\\n184\\n\\nGost...   \n",
       "534  214 visualizações\\n\\n\\n\\n\\n\\n\\n\\n27\\n\\nGostou ...   \n",
       "535  1.283 visualizações\\n\\n\\n\\n\\n\\n\\n\\n132\\n\\nGost...   \n",
       "\n",
       "                                              og:image  og:image:width  \\\n",
       "531  https://i.ytimg.com/vi/KrbfULnm2C8/maxresdefau...          1280.0   \n",
       "532  https://i.ytimg.com/vi/KuoeirjSEUg/maxresdefau...          1280.0   \n",
       "533  https://i.ytimg.com/vi/KyOiaLtfDMY/maxresdefau...          1280.0   \n",
       "534   https://i.ytimg.com/vi/KzJyRYs9_RE/hqdefault.jpg           480.0   \n",
       "535  https://i.ytimg.com/vi/L1xLg9ktipE/maxresdefau...          1280.0   \n",
       "\n",
       "                                        og:description  og:video:width  \\\n",
       "531  Selic em queda, de novo? E agora quem poderá n...          1280.0   \n",
       "532  Você sabe O que É CDI? Você já ouviu alguma ve...          1280.0   \n",
       "533  Nesse vídeo você vai conhecer o melhor aplicat...          1280.0   \n",
       "534  Já parou para calcular quanto você precisa acu...             NaN   \n",
       "535  Acompanhe a primeira live semanal do Dinheiram...          1280.0   \n",
       "\n",
       "     og:video:height                           og:video:tag  \\\n",
       "531            720.0                               inflação   \n",
       "532            720.0                         primo rico cdi   \n",
       "533            720.0  aplicativo minhas economias como usar   \n",
       "534              NaN                          quanto juntar   \n",
       "535            720.0                         ganhardinheiro   \n",
       "\n",
       "    content_watch-info-tag-list                     channel_link_0  \n",
       "531              Entretenimento  /channel/UCkvpo9jvRG73j7iCBTNL-OA  \n",
       "532              Entretenimento  /channel/UCT4nDeU5pv1XIGySbSK-GgA  \n",
       "533                    Educação  /channel/UCyCBeQuIVG09fgcNIEsYJgA  \n",
       "534                    Educação  /channel/UCGEgCjRA7BElVTOCCMciQyg  \n",
       "535                    Educação  /channel/UCrRY-awCDpGJZxJ4JxQG-AA  "
      ]
     },
     "execution_count": 7,
     "metadata": {},
     "output_type": "execute_result"
    }
   ],
   "source": [
    "df_labeled.tail()"
   ]
  },
  {
   "cell_type": "markdown",
   "metadata": {},
   "source": [
    "A partir de agora, serão feitas algumas etapas de transformação no dataframe com labels, para criar um novo conjunto de dados com atributos em formado adequado para criar o modelo de active learning."
   ]
  },
  {
   "cell_type": "code",
   "execution_count": 8,
   "metadata": {},
   "outputs": [],
   "source": [
    "#criando dataframe com os índices do df_labeled\n",
    "df_limpo = pd.DataFrame(index = df_labeled.index)"
   ]
  },
  {
   "cell_type": "code",
   "execution_count": 9,
   "metadata": {},
   "outputs": [
    {
     "data": {
      "text/html": [
       "<div>\n",
       "<style scoped>\n",
       "    .dataframe tbody tr th:only-of-type {\n",
       "        vertical-align: middle;\n",
       "    }\n",
       "\n",
       "    .dataframe tbody tr th {\n",
       "        vertical-align: top;\n",
       "    }\n",
       "\n",
       "    .dataframe thead th {\n",
       "        text-align: right;\n",
       "    }\n",
       "</style>\n",
       "<table border=\"1\" class=\"dataframe\">\n",
       "  <thead>\n",
       "    <tr style=\"text-align: right;\">\n",
       "      <th></th>\n",
       "    </tr>\n",
       "  </thead>\n",
       "  <tbody>\n",
       "    <tr>\n",
       "      <th>0</th>\n",
       "    </tr>\n",
       "    <tr>\n",
       "      <th>1</th>\n",
       "    </tr>\n",
       "    <tr>\n",
       "      <th>2</th>\n",
       "    </tr>\n",
       "    <tr>\n",
       "      <th>3</th>\n",
       "    </tr>\n",
       "    <tr>\n",
       "      <th>5</th>\n",
       "    </tr>\n",
       "  </tbody>\n",
       "</table>\n",
       "</div>"
      ],
      "text/plain": [
       "Empty DataFrame\n",
       "Columns: []\n",
       "Index: [0, 1, 2, 3, 5]"
      ]
     },
     "execution_count": 9,
     "metadata": {},
     "output_type": "execute_result"
    }
   ],
   "source": [
    "df_limpo.head()"
   ]
  },
  {
   "cell_type": "markdown",
   "metadata": {},
   "source": [
    "## 1 - Coletando a data de publicação em formato datetime\n",
    "\n",
    "Queremos obter a data de publicação de cada vídeo no formato dd-mm-aaaa, conforme orientado pelo Mário Filho durante o curso."
   ]
  },
  {
   "cell_type": "code",
   "execution_count": 10,
   "metadata": {},
   "outputs": [
    {
     "data": {
      "text/plain": [
       "0    Publicado em 30 de jul. de 2019\n",
       "1     Publicado em 3 de dez. de 2019\n",
       "2    Publicado em 30 de mar. de 2017\n",
       "3    Publicado em 19 de mar. de 2019\n",
       "5    Publicado em 21 de jan. de 2020\n",
       "Name: watch-time-text, dtype: object"
      ]
     },
     "execution_count": 10,
     "metadata": {},
     "output_type": "execute_result"
    }
   ],
   "source": [
    "#formato da data de publicação no dataframe com labels:\n",
    "df_labeled['watch-time-text'].head()"
   ]
  },
  {
   "cell_type": "code",
   "execution_count": 11,
   "metadata": {},
   "outputs": [],
   "source": [
    "map_mes = {'jan.':'Jan',\n",
    "             'fev.':'Feb',\n",
    "              'mar.':'Mar',\n",
    "              'abr.':'Apr',\n",
    "              'mai.':'May',\n",
    "              'jun.':'Jun',\n",
    "              'jul.':'Jul',\n",
    "              'ago.':'Aug',\n",
    "              'set.':'Sep',\n",
    "              'out.':'Oct',\n",
    "              'nov.':'Nov',\n",
    "              'dez.':'Dec'}"
   ]
  },
  {
   "cell_type": "code",
   "execution_count": 12,
   "metadata": {},
   "outputs": [],
   "source": [
    "def limpa_data (row):\n",
    "    #data_limpa = row.loc['watch-time-text'].extract(r\"(\\d+) de ([a-z]+)\\. de (\\d+)\") #recuperando as informações de dia, mês e ano da string\n",
    "    data_limpa = re.search(r\"(\\d+) de ([a-z]+)\\. de (\\d+)\", row.loc['watch-time-text']).group()\n",
    "    data_limpa = data_limpa.split('de ')\n",
    "    data_limpa = [x.strip() for x in data_limpa]\n",
    "    data_limpa[0] = ['0' + str(data_limpa[0]) if len(data_limpa[0]) == 1 else data_limpa[0]][0]\n",
    "    data_limpa[1] = [v for k, v in map_mes.items() if k == data_limpa[1]][0]\n",
    "    data = '-'.join(data_limpa)\n",
    "\n",
    "    return data"
   ]
  },
  {
   "cell_type": "code",
   "execution_count": 13,
   "metadata": {},
   "outputs": [
    {
     "data": {
      "text/plain": [
       "'03-Dec-2019'"
      ]
     },
     "execution_count": 13,
     "metadata": {},
     "output_type": "execute_result"
    }
   ],
   "source": [
    "limpa_data(df_labeled.loc[1])"
   ]
  },
  {
   "cell_type": "code",
   "execution_count": 14,
   "metadata": {},
   "outputs": [],
   "source": [
    "df_labeled['data'] = df_labeled.apply(limpa_data, axis=1)"
   ]
  },
  {
   "cell_type": "code",
   "execution_count": 15,
   "metadata": {},
   "outputs": [
    {
     "data": {
      "text/plain": [
       "0      30-Jul-2019\n",
       "1      03-Dec-2019\n",
       "2      30-Mar-2017\n",
       "3      19-Mar-2019\n",
       "5      21-Jan-2020\n",
       "          ...     \n",
       "531    06-May-2020\n",
       "532    23-Sep-2016\n",
       "533    19-Nov-2019\n",
       "534    10-May-2019\n",
       "535    24-Oct-2018\n",
       "Name: data, Length: 503, dtype: object"
      ]
     },
     "execution_count": 15,
     "metadata": {},
     "output_type": "execute_result"
    }
   ],
   "source": [
    "df_labeled.data"
   ]
  },
  {
   "cell_type": "code",
   "execution_count": 16,
   "metadata": {},
   "outputs": [],
   "source": [
    "df_labeled['data'] = pd.to_datetime(df_labeled['data'])"
   ]
  },
  {
   "cell_type": "code",
   "execution_count": 17,
   "metadata": {},
   "outputs": [
    {
     "name": "stdout",
     "output_type": "stream",
     "text": [
      "<class 'pandas.core.frame.DataFrame'>\n",
      "Int64Index: 503 entries, 0 to 535\n",
      "Data columns (total 15 columns):\n",
      " #   Column                       Non-Null Count  Dtype         \n",
      "---  ------                       --------------  -----         \n",
      " 0   watch-title                  503 non-null    object        \n",
      " 1   y                            503 non-null    float64       \n",
      " 2   watch-view-count             495 non-null    object        \n",
      " 3   watch-time-text              503 non-null    object        \n",
      " 4   watch7-headline              503 non-null    object        \n",
      " 5   watch8-sentiment-actions     499 non-null    object        \n",
      " 6   og:image                     503 non-null    object        \n",
      " 7   og:image:width               503 non-null    float64       \n",
      " 8   og:description               503 non-null    object        \n",
      " 9   og:video:width               501 non-null    float64       \n",
      " 10  og:video:height              501 non-null    float64       \n",
      " 11  og:video:tag                 435 non-null    object        \n",
      " 12  content_watch-info-tag-list  497 non-null    object        \n",
      " 13  channel_link_0               503 non-null    object        \n",
      " 14  data                         503 non-null    datetime64[ns]\n",
      "dtypes: datetime64[ns](1), float64(4), object(10)\n",
      "memory usage: 82.9+ KB\n"
     ]
    }
   ],
   "source": [
    "df_labeled.info()"
   ]
  },
  {
   "cell_type": "markdown",
   "metadata": {},
   "source": [
    "## Fazendo limpeza no campo com número de visualizações\n",
    "Nessa etapa, queremos obter o número de visualizações como um inteiro em uma nova coluna"
   ]
  },
  {
   "cell_type": "code",
   "execution_count": 18,
   "metadata": {},
   "outputs": [
    {
     "data": {
      "text/plain": [
       "0       635 visualizações\n",
       "1    37.305 visualizações\n",
       "2        98 visualizações\n",
       "3        41 visualizações\n",
       "4                     NaN\n",
       "Name: watch-view-count, dtype: object"
      ]
     },
     "execution_count": 18,
     "metadata": {},
     "output_type": "execute_result"
    }
   ],
   "source": [
    "#coluna com informação de views\n",
    "df['watch-view-count'].head()"
   ]
  },
  {
   "cell_type": "code",
   "execution_count": 19,
   "metadata": {},
   "outputs": [],
   "source": [
    "#adicionando coluna com view count formatado\n",
    "df_labeled['views'] = df['watch-view-count'].str.extract(r\"(\\d+\\.?\\d*)\", expand=False).str.replace(\".\",\"\").fillna(0).astype(int)"
   ]
  },
  {
   "cell_type": "code",
   "execution_count": 20,
   "metadata": {},
   "outputs": [
    {
     "data": {
      "text/plain": [
       "0      635\n",
       "1    37305\n",
       "2       98\n",
       "3       41\n",
       "5      389\n",
       "Name: views, dtype: int32"
      ]
     },
     "execution_count": 20,
     "metadata": {},
     "output_type": "execute_result"
    }
   ],
   "source": [
    "df_labeled.views.head()"
   ]
  },
  {
   "cell_type": "code",
   "execution_count": 21,
   "metadata": {},
   "outputs": [],
   "source": [
    "df_limpo = df_labeled[['data', 'views']]"
   ]
  },
  {
   "cell_type": "code",
   "execution_count": 22,
   "metadata": {},
   "outputs": [
    {
     "data": {
      "text/html": [
       "<div>\n",
       "<style scoped>\n",
       "    .dataframe tbody tr th:only-of-type {\n",
       "        vertical-align: middle;\n",
       "    }\n",
       "\n",
       "    .dataframe tbody tr th {\n",
       "        vertical-align: top;\n",
       "    }\n",
       "\n",
       "    .dataframe thead th {\n",
       "        text-align: right;\n",
       "    }\n",
       "</style>\n",
       "<table border=\"1\" class=\"dataframe\">\n",
       "  <thead>\n",
       "    <tr style=\"text-align: right;\">\n",
       "      <th></th>\n",
       "      <th>data</th>\n",
       "      <th>views</th>\n",
       "    </tr>\n",
       "  </thead>\n",
       "  <tbody>\n",
       "    <tr>\n",
       "      <th>0</th>\n",
       "      <td>2019-07-30</td>\n",
       "      <td>635</td>\n",
       "    </tr>\n",
       "    <tr>\n",
       "      <th>1</th>\n",
       "      <td>2019-12-03</td>\n",
       "      <td>37305</td>\n",
       "    </tr>\n",
       "    <tr>\n",
       "      <th>2</th>\n",
       "      <td>2017-03-30</td>\n",
       "      <td>98</td>\n",
       "    </tr>\n",
       "    <tr>\n",
       "      <th>3</th>\n",
       "      <td>2019-03-19</td>\n",
       "      <td>41</td>\n",
       "    </tr>\n",
       "    <tr>\n",
       "      <th>5</th>\n",
       "      <td>2020-01-21</td>\n",
       "      <td>389</td>\n",
       "    </tr>\n",
       "  </tbody>\n",
       "</table>\n",
       "</div>"
      ],
      "text/plain": [
       "        data  views\n",
       "0 2019-07-30    635\n",
       "1 2019-12-03  37305\n",
       "2 2017-03-30     98\n",
       "3 2019-03-19     41\n",
       "5 2020-01-21    389"
      ]
     },
     "execution_count": 22,
     "metadata": {},
     "output_type": "execute_result"
    }
   ],
   "source": [
    "df_limpo.head()"
   ]
  },
  {
   "cell_type": "code",
   "execution_count": 23,
   "metadata": {},
   "outputs": [
    {
     "data": {
      "text/html": [
       "<div>\n",
       "<style scoped>\n",
       "    .dataframe tbody tr th:only-of-type {\n",
       "        vertical-align: middle;\n",
       "    }\n",
       "\n",
       "    .dataframe tbody tr th {\n",
       "        vertical-align: top;\n",
       "    }\n",
       "\n",
       "    .dataframe thead th {\n",
       "        text-align: right;\n",
       "    }\n",
       "</style>\n",
       "<table border=\"1\" class=\"dataframe\">\n",
       "  <thead>\n",
       "    <tr style=\"text-align: right;\">\n",
       "      <th></th>\n",
       "      <th>watch-title</th>\n",
       "      <th>y</th>\n",
       "      <th>watch-view-count</th>\n",
       "      <th>watch-time-text</th>\n",
       "      <th>watch7-headline</th>\n",
       "      <th>watch8-sentiment-actions</th>\n",
       "      <th>og:image</th>\n",
       "      <th>og:image:width</th>\n",
       "      <th>og:description</th>\n",
       "      <th>og:video:width</th>\n",
       "      <th>og:video:height</th>\n",
       "      <th>og:video:tag</th>\n",
       "      <th>content_watch-info-tag-list</th>\n",
       "      <th>channel_link_0</th>\n",
       "      <th>data</th>\n",
       "      <th>views</th>\n",
       "    </tr>\n",
       "  </thead>\n",
       "  <tbody>\n",
       "    <tr>\n",
       "      <th>0</th>\n",
       "      <td>Finanças é Coisa de Criança!</td>\n",
       "      <td>0.0</td>\n",
       "      <td>635 visualizações</td>\n",
       "      <td>Publicado em 30 de jul. de 2019</td>\n",
       "      <td>#intusforma #institucional #educacao\\n\\n\\n\\n  ...</td>\n",
       "      <td>635 visualizações\\n\\n\\n\\n\\nGostou deste vídeo?...</td>\n",
       "      <td>https://i.ytimg.com/vi/-0HZcKmHXn4/maxresdefau...</td>\n",
       "      <td>1280.0</td>\n",
       "      <td>Um dos nossos primeiros programas que deram vi...</td>\n",
       "      <td>1280.0</td>\n",
       "      <td>720.0</td>\n",
       "      <td>financasecoisadecrianca</td>\n",
       "      <td>Educação</td>\n",
       "      <td>/channel/UCjE76zhvoDw5hnLtmzFHR-Q</td>\n",
       "      <td>2019-07-30</td>\n",
       "      <td>635</td>\n",
       "    </tr>\n",
       "    <tr>\n",
       "      <th>1</th>\n",
       "      <td>Câncer 2020 - Profissional e Finanças 1° semestre</td>\n",
       "      <td>0.0</td>\n",
       "      <td>37.305 visualizações</td>\n",
       "      <td>Publicado em 3 de dez. de 2019</td>\n",
       "      <td>#tarô #previsão2020 #profissional2020\\n\\n\\n\\n ...</td>\n",
       "      <td>37.305 visualizações\\n\\n\\n\\n\\n\\n\\n\\n2.550\\n\\nG...</td>\n",
       "      <td>https://i.ytimg.com/vi/-1kS-ZrfcYQ/hqdefault.jpg</td>\n",
       "      <td>480.0</td>\n",
       "      <td>Previsão primeiro semestre de 2020 profissiona...</td>\n",
       "      <td>1280.0</td>\n",
       "      <td>720.0</td>\n",
       "      <td>tarot câncer 2020 profissional</td>\n",
       "      <td>Pessoas e blogs</td>\n",
       "      <td>/channel/UCL6feH5A7tjCoNTKAkJ9ITQ</td>\n",
       "      <td>2019-12-03</td>\n",
       "      <td>37305</td>\n",
       "    </tr>\n",
       "    <tr>\n",
       "      <th>2</th>\n",
       "      <td>Seja Rica: Conquiste sua Independência Financeira</td>\n",
       "      <td>0.0</td>\n",
       "      <td>98 visualizações</td>\n",
       "      <td>Publicado em 30 de mar. de 2017</td>\n",
       "      <td>Seja Rica: Conquiste sua Independência Financeira</td>\n",
       "      <td>98 visualizações\\n\\n\\n\\n\\n\\n\\n\\n29\\n\\nGostou d...</td>\n",
       "      <td>https://i.ytimg.com/vi/-40s-kunvQM/hqdefault.jpg</td>\n",
       "      <td>480.0</td>\n",
       "      <td>Seja Rica é o novo quadro aqui do canal. Nesse...</td>\n",
       "      <td>640.0</td>\n",
       "      <td>360.0</td>\n",
       "      <td>Rico</td>\n",
       "      <td>Pessoas e blogs</td>\n",
       "      <td>/channel/UChgFe4WPc8Wx4tJVAdd9-rA</td>\n",
       "      <td>2017-03-30</td>\n",
       "      <td>98</td>\n",
       "    </tr>\n",
       "    <tr>\n",
       "      <th>3</th>\n",
       "      <td>Independência FINANCEIRA</td>\n",
       "      <td>0.0</td>\n",
       "      <td>41 visualizações</td>\n",
       "      <td>Publicado em 19 de mar. de 2019</td>\n",
       "      <td>Independência FINANCEIRA</td>\n",
       "      <td>41 visualizações\\n\\n\\n\\n\\n\\n\\n\\n17\\n\\nGostou d...</td>\n",
       "      <td>https://i.ytimg.com/vi/-6dz-10LkHc/maxresdefau...</td>\n",
       "      <td>1280.0</td>\n",
       "      <td>Como conseguir sua independência financeira, m...</td>\n",
       "      <td>1280.0</td>\n",
       "      <td>720.0</td>\n",
       "      <td>pouco</td>\n",
       "      <td>Pessoas e blogs</td>\n",
       "      <td>/channel/UCUH-FVOIrY6IW2hs66A4IFA</td>\n",
       "      <td>2019-03-19</td>\n",
       "      <td>41</td>\n",
       "    </tr>\n",
       "    <tr>\n",
       "      <th>5</th>\n",
       "      <td>6 ERROS para NÃO ter a INDEPENDÊNCIA FINANCEIR...</td>\n",
       "      <td>0.0</td>\n",
       "      <td>389 visualizações</td>\n",
       "      <td>Publicado em 21 de jan. de 2020</td>\n",
       "      <td>6 ERROS para NÃO ter a INDEPENDÊNCIA FINANCEIR...</td>\n",
       "      <td>389 visualizações\\n\\n\\n\\n\\n\\n\\n\\n86\\n\\nGostou ...</td>\n",
       "      <td>https://i.ytimg.com/vi/-CcyxsGoquk/maxresdefau...</td>\n",
       "      <td>1280.0</td>\n",
       "      <td>Ano novo, vida financeira nova! A partir de ag...</td>\n",
       "      <td>1280.0</td>\n",
       "      <td>720.0</td>\n",
       "      <td>não ter independência financeira</td>\n",
       "      <td>Educação</td>\n",
       "      <td>/channel/UCu8nmn2Na1wcPUxy7dDqG2A</td>\n",
       "      <td>2020-01-21</td>\n",
       "      <td>389</td>\n",
       "    </tr>\n",
       "  </tbody>\n",
       "</table>\n",
       "</div>"
      ],
      "text/plain": [
       "                                         watch-title    y  \\\n",
       "0                       Finanças é Coisa de Criança!  0.0   \n",
       "1  Câncer 2020 - Profissional e Finanças 1° semestre  0.0   \n",
       "2  Seja Rica: Conquiste sua Independência Financeira  0.0   \n",
       "3                           Independência FINANCEIRA  0.0   \n",
       "5  6 ERROS para NÃO ter a INDEPENDÊNCIA FINANCEIR...  0.0   \n",
       "\n",
       "       watch-view-count                  watch-time-text  \\\n",
       "0     635 visualizações  Publicado em 30 de jul. de 2019   \n",
       "1  37.305 visualizações   Publicado em 3 de dez. de 2019   \n",
       "2      98 visualizações  Publicado em 30 de mar. de 2017   \n",
       "3      41 visualizações  Publicado em 19 de mar. de 2019   \n",
       "5     389 visualizações  Publicado em 21 de jan. de 2020   \n",
       "\n",
       "                                     watch7-headline  \\\n",
       "0  #intusforma #institucional #educacao\\n\\n\\n\\n  ...   \n",
       "1  #tarô #previsão2020 #profissional2020\\n\\n\\n\\n ...   \n",
       "2  Seja Rica: Conquiste sua Independência Financeira   \n",
       "3                           Independência FINANCEIRA   \n",
       "5  6 ERROS para NÃO ter a INDEPENDÊNCIA FINANCEIR...   \n",
       "\n",
       "                            watch8-sentiment-actions  \\\n",
       "0  635 visualizações\\n\\n\\n\\n\\nGostou deste vídeo?...   \n",
       "1  37.305 visualizações\\n\\n\\n\\n\\n\\n\\n\\n2.550\\n\\nG...   \n",
       "2  98 visualizações\\n\\n\\n\\n\\n\\n\\n\\n29\\n\\nGostou d...   \n",
       "3  41 visualizações\\n\\n\\n\\n\\n\\n\\n\\n17\\n\\nGostou d...   \n",
       "5  389 visualizações\\n\\n\\n\\n\\n\\n\\n\\n86\\n\\nGostou ...   \n",
       "\n",
       "                                            og:image  og:image:width  \\\n",
       "0  https://i.ytimg.com/vi/-0HZcKmHXn4/maxresdefau...          1280.0   \n",
       "1   https://i.ytimg.com/vi/-1kS-ZrfcYQ/hqdefault.jpg           480.0   \n",
       "2   https://i.ytimg.com/vi/-40s-kunvQM/hqdefault.jpg           480.0   \n",
       "3  https://i.ytimg.com/vi/-6dz-10LkHc/maxresdefau...          1280.0   \n",
       "5  https://i.ytimg.com/vi/-CcyxsGoquk/maxresdefau...          1280.0   \n",
       "\n",
       "                                      og:description  og:video:width  \\\n",
       "0  Um dos nossos primeiros programas que deram vi...          1280.0   \n",
       "1  Previsão primeiro semestre de 2020 profissiona...          1280.0   \n",
       "2  Seja Rica é o novo quadro aqui do canal. Nesse...           640.0   \n",
       "3  Como conseguir sua independência financeira, m...          1280.0   \n",
       "5  Ano novo, vida financeira nova! A partir de ag...          1280.0   \n",
       "\n",
       "   og:video:height                      og:video:tag  \\\n",
       "0            720.0           financasecoisadecrianca   \n",
       "1            720.0    tarot câncer 2020 profissional   \n",
       "2            360.0                              Rico   \n",
       "3            720.0                             pouco   \n",
       "5            720.0  não ter independência financeira   \n",
       "\n",
       "  content_watch-info-tag-list                     channel_link_0       data  \\\n",
       "0                    Educação  /channel/UCjE76zhvoDw5hnLtmzFHR-Q 2019-07-30   \n",
       "1             Pessoas e blogs  /channel/UCL6feH5A7tjCoNTKAkJ9ITQ 2019-12-03   \n",
       "2             Pessoas e blogs  /channel/UChgFe4WPc8Wx4tJVAdd9-rA 2017-03-30   \n",
       "3             Pessoas e blogs  /channel/UCUH-FVOIrY6IW2hs66A4IFA 2019-03-19   \n",
       "5                    Educação  /channel/UCu8nmn2Na1wcPUxy7dDqG2A 2020-01-21   \n",
       "\n",
       "   views  \n",
       "0    635  \n",
       "1  37305  \n",
       "2     98  \n",
       "3     41  \n",
       "5    389  "
      ]
     },
     "execution_count": 23,
     "metadata": {},
     "output_type": "execute_result"
    }
   ],
   "source": [
    "df_labeled.head()"
   ]
  },
  {
   "cell_type": "markdown",
   "metadata": {},
   "source": [
    "### Criação de features\n",
    "\n",
    "Agora, com as transformações feitas anteriormente, será possível criar algumas features para treinar um modelo inicial e tentar extraír algumas conclusões sobre a previsão. Ja temos o número de views de cada vídeo e a data de publicação. A nova feature a ser criada será o número de views por dia. Para isso, vamos usar como referência o dia seguinte à data de coleta dos dados, que foi 07-Maio-2020."
   ]
  },
  {
   "cell_type": "code",
   "execution_count": 24,
   "metadata": {},
   "outputs": [],
   "source": [
    "# criando dataframe para as features:\n",
    "features = pd.DataFrame(index=df_limpo.index)"
   ]
  },
  {
   "cell_type": "code",
   "execution_count": 25,
   "metadata": {},
   "outputs": [],
   "source": [
    "#criando série com as labels\n",
    "y = df_labeled['y'].copy()"
   ]
  },
  {
   "cell_type": "code",
   "execution_count": 26,
   "metadata": {},
   "outputs": [
    {
     "data": {
      "text/plain": [
       "0    0.0\n",
       "1    0.0\n",
       "2    0.0\n",
       "3    0.0\n",
       "5    0.0\n",
       "Name: y, dtype: float64"
      ]
     },
     "execution_count": 26,
     "metadata": {},
     "output_type": "execute_result"
    }
   ],
   "source": [
    "y.head()"
   ]
  },
  {
   "cell_type": "code",
   "execution_count": 51,
   "metadata": {},
   "outputs": [],
   "source": [
    "#criando coluna com dias que se passaram desde a publicação até a data referência\n",
    "features['dias_publicado'] = (pd.to_datetime(\"2020-05-08\") - df_limpo['data']) / np.timedelta64(1, 'D') \n",
    "#denominador cria um objeto timedelta do numpy em diferença de 1 dia"
   ]
  },
  {
   "cell_type": "code",
   "execution_count": 52,
   "metadata": {},
   "outputs": [
    {
     "data": {
      "text/html": [
       "<div>\n",
       "<style scoped>\n",
       "    .dataframe tbody tr th:only-of-type {\n",
       "        vertical-align: middle;\n",
       "    }\n",
       "\n",
       "    .dataframe tbody tr th {\n",
       "        vertical-align: top;\n",
       "    }\n",
       "\n",
       "    .dataframe thead th {\n",
       "        text-align: right;\n",
       "    }\n",
       "</style>\n",
       "<table border=\"1\" class=\"dataframe\">\n",
       "  <thead>\n",
       "    <tr style=\"text-align: right;\">\n",
       "      <th></th>\n",
       "      <th>views</th>\n",
       "      <th>views_por_dia</th>\n",
       "      <th>dias_publicado</th>\n",
       "    </tr>\n",
       "  </thead>\n",
       "  <tbody>\n",
       "    <tr>\n",
       "      <th>0</th>\n",
       "      <td>635</td>\n",
       "      <td>2.251773</td>\n",
       "      <td>283.0</td>\n",
       "    </tr>\n",
       "    <tr>\n",
       "      <th>1</th>\n",
       "      <td>37305</td>\n",
       "      <td>239.134615</td>\n",
       "      <td>157.0</td>\n",
       "    </tr>\n",
       "    <tr>\n",
       "      <th>2</th>\n",
       "      <td>98</td>\n",
       "      <td>0.086420</td>\n",
       "      <td>1135.0</td>\n",
       "    </tr>\n",
       "    <tr>\n",
       "      <th>3</th>\n",
       "      <td>41</td>\n",
       "      <td>0.098795</td>\n",
       "      <td>416.0</td>\n",
       "    </tr>\n",
       "    <tr>\n",
       "      <th>5</th>\n",
       "      <td>389</td>\n",
       "      <td>3.635514</td>\n",
       "      <td>108.0</td>\n",
       "    </tr>\n",
       "  </tbody>\n",
       "</table>\n",
       "</div>"
      ],
      "text/plain": [
       "   views  views_por_dia  dias_publicado\n",
       "0    635       2.251773           283.0\n",
       "1  37305     239.134615           157.0\n",
       "2     98       0.086420          1135.0\n",
       "3     41       0.098795           416.0\n",
       "5    389       3.635514           108.0"
      ]
     },
     "execution_count": 52,
     "metadata": {},
     "output_type": "execute_result"
    }
   ],
   "source": [
    "features.head()"
   ]
  },
  {
   "cell_type": "code",
   "execution_count": 53,
   "metadata": {},
   "outputs": [],
   "source": [
    "#adicionando a coluna de views ao dataframe features\n",
    "features['views'] = df_limpo['views']"
   ]
  },
  {
   "cell_type": "code",
   "execution_count": 54,
   "metadata": {},
   "outputs": [
    {
     "data": {
      "text/html": [
       "<div>\n",
       "<style scoped>\n",
       "    .dataframe tbody tr th:only-of-type {\n",
       "        vertical-align: middle;\n",
       "    }\n",
       "\n",
       "    .dataframe tbody tr th {\n",
       "        vertical-align: top;\n",
       "    }\n",
       "\n",
       "    .dataframe thead th {\n",
       "        text-align: right;\n",
       "    }\n",
       "</style>\n",
       "<table border=\"1\" class=\"dataframe\">\n",
       "  <thead>\n",
       "    <tr style=\"text-align: right;\">\n",
       "      <th></th>\n",
       "      <th>views</th>\n",
       "      <th>views_por_dia</th>\n",
       "      <th>dias_publicado</th>\n",
       "    </tr>\n",
       "  </thead>\n",
       "  <tbody>\n",
       "    <tr>\n",
       "      <th>0</th>\n",
       "      <td>635</td>\n",
       "      <td>2.251773</td>\n",
       "      <td>283.0</td>\n",
       "    </tr>\n",
       "    <tr>\n",
       "      <th>1</th>\n",
       "      <td>37305</td>\n",
       "      <td>239.134615</td>\n",
       "      <td>157.0</td>\n",
       "    </tr>\n",
       "    <tr>\n",
       "      <th>2</th>\n",
       "      <td>98</td>\n",
       "      <td>0.086420</td>\n",
       "      <td>1135.0</td>\n",
       "    </tr>\n",
       "    <tr>\n",
       "      <th>3</th>\n",
       "      <td>41</td>\n",
       "      <td>0.098795</td>\n",
       "      <td>416.0</td>\n",
       "    </tr>\n",
       "    <tr>\n",
       "      <th>5</th>\n",
       "      <td>389</td>\n",
       "      <td>3.635514</td>\n",
       "      <td>108.0</td>\n",
       "    </tr>\n",
       "  </tbody>\n",
       "</table>\n",
       "</div>"
      ],
      "text/plain": [
       "   views  views_por_dia  dias_publicado\n",
       "0    635       2.251773           283.0\n",
       "1  37305     239.134615           157.0\n",
       "2     98       0.086420          1135.0\n",
       "3     41       0.098795           416.0\n",
       "5    389       3.635514           108.0"
      ]
     },
     "execution_count": 54,
     "metadata": {},
     "output_type": "execute_result"
    }
   ],
   "source": [
    "features.head()"
   ]
  },
  {
   "cell_type": "markdown",
   "metadata": {},
   "source": [
    "O total de dias após publicação não retrata a popularidade do vídeo, já que um vídeo pode ter acumulado muitas visualizações ao longo do tempo, enquanto um outro pode ter tido várias views em pouco tempo. Por isso, será criada agora a feature views por dia:"
   ]
  },
  {
   "cell_type": "code",
   "execution_count": 55,
   "metadata": {},
   "outputs": [],
   "source": [
    "features['views_por_dia'] = features['views']/features['dias_publicado']"
   ]
  },
  {
   "cell_type": "code",
   "execution_count": 56,
   "metadata": {},
   "outputs": [
    {
     "data": {
      "text/html": [
       "<div>\n",
       "<style scoped>\n",
       "    .dataframe tbody tr th:only-of-type {\n",
       "        vertical-align: middle;\n",
       "    }\n",
       "\n",
       "    .dataframe tbody tr th {\n",
       "        vertical-align: top;\n",
       "    }\n",
       "\n",
       "    .dataframe thead th {\n",
       "        text-align: right;\n",
       "    }\n",
       "</style>\n",
       "<table border=\"1\" class=\"dataframe\">\n",
       "  <thead>\n",
       "    <tr style=\"text-align: right;\">\n",
       "      <th></th>\n",
       "      <th>views</th>\n",
       "      <th>views_por_dia</th>\n",
       "      <th>dias_publicado</th>\n",
       "    </tr>\n",
       "  </thead>\n",
       "  <tbody>\n",
       "    <tr>\n",
       "      <th>0</th>\n",
       "      <td>635</td>\n",
       "      <td>2.243816</td>\n",
       "      <td>283.0</td>\n",
       "    </tr>\n",
       "    <tr>\n",
       "      <th>1</th>\n",
       "      <td>37305</td>\n",
       "      <td>237.611465</td>\n",
       "      <td>157.0</td>\n",
       "    </tr>\n",
       "    <tr>\n",
       "      <th>2</th>\n",
       "      <td>98</td>\n",
       "      <td>0.086344</td>\n",
       "      <td>1135.0</td>\n",
       "    </tr>\n",
       "    <tr>\n",
       "      <th>3</th>\n",
       "      <td>41</td>\n",
       "      <td>0.098558</td>\n",
       "      <td>416.0</td>\n",
       "    </tr>\n",
       "    <tr>\n",
       "      <th>5</th>\n",
       "      <td>389</td>\n",
       "      <td>3.601852</td>\n",
       "      <td>108.0</td>\n",
       "    </tr>\n",
       "  </tbody>\n",
       "</table>\n",
       "</div>"
      ],
      "text/plain": [
       "   views  views_por_dia  dias_publicado\n",
       "0    635       2.243816           283.0\n",
       "1  37305     237.611465           157.0\n",
       "2     98       0.086344          1135.0\n",
       "3     41       0.098558           416.0\n",
       "5    389       3.601852           108.0"
      ]
     },
     "execution_count": 56,
     "metadata": {},
     "output_type": "execute_result"
    }
   ],
   "source": [
    "features.head()"
   ]
  },
  {
   "cell_type": "code",
   "execution_count": 57,
   "metadata": {},
   "outputs": [
    {
     "data": {
      "text/plain": [
       "<matplotlib.axes._subplots.AxesSubplot at 0x184b5dc8c08>"
      ]
     },
     "execution_count": 57,
     "metadata": {},
     "output_type": "execute_result"
    },
    {
     "data": {
      "image/png": "[encoded data removed]",
      "text/plain": [
       "<Figure size 720x360 with 1 Axes>"
      ]
     },
     "metadata": {
      "needs_background": "light"
     },
     "output_type": "display_data"
    }
   ],
   "source": [
    "#vamos visualizar a distribuição da quantidade de vídeos publicados sobre o tema Finanças ao longo do tempo, na nossa amostra:\n",
    "df_limpo['data'].value_counts().plot(figsize=(10, 5))"
   ]
  },
  {
   "cell_type": "markdown",
   "metadata": {},
   "source": [
    "Como vemos no gráfico acima, a maioria dos vídeos na amostra foi publicada a partir de 2016. Como usamos o filtro de *Relevância* do youtube, pessoalmente, eu atribuo essa concentração de vídeos relevantes como sendo os mais recentes devido à popularização do tema **Educação Financeira** nos últimos 2 anos, e o consequente aumento de mais conteúdo sobre o tema, a fim de ganhar visualizações. Assim, antes de dividir o conjunto de dados em treino e validação, vou filtrar o dataframe com vídeos publicados somente a partir de 2018 para realizar algumas análises."
   ]
  },
  {
   "cell_type": "code",
   "execution_count": 58,
   "metadata": {},
   "outputs": [
    {
     "data": {
      "text/plain": [
       "404"
      ]
     },
     "execution_count": 58,
     "metadata": {},
     "output_type": "execute_result"
    }
   ],
   "source": [
    "#quantidade de vídeos publicada a partir de 2018 na amostra\n",
    "df_limpo[df_limpo.data >= '2018-01-01'].data.count()\n"
   ]
  },
  {
   "cell_type": "code",
   "execution_count": 59,
   "metadata": {},
   "outputs": [
    {
     "data": {
      "text/plain": [
       "99"
      ]
     },
     "execution_count": 59,
     "metadata": {},
     "output_type": "execute_result"
    }
   ],
   "source": [
    "#quantidade de vídeos publicada antes de 2018 na amostra\n",
    "df_limpo[df_limpo.data < '2018-01-01'].data.count()"
   ]
  },
  {
   "cell_type": "code",
   "execution_count": 60,
   "metadata": {},
   "outputs": [
    {
     "data": {
      "text/plain": [
       "<matplotlib.axes._subplots.AxesSubplot at 0x184b5eb1448>"
      ]
     },
     "execution_count": 60,
     "metadata": {},
     "output_type": "execute_result"
    },
    {
     "data": {
      "image/png": "[encoded data removed]",
      "text/plain": [
       "<Figure size 720x360 with 1 Axes>"
      ]
     },
     "metadata": {
      "needs_background": "light"
     },
     "output_type": "display_data"
    }
   ],
   "source": [
    "#plotando gráfico para vídeos após 2018\n",
    "df_limpo[df_limpo.data >= '2018-01-01'].data.value_counts().plot(figsize=(10, 5))"
   ]
  },
  {
   "cell_type": "markdown",
   "metadata": {},
   "source": [
    "Aqui podemos ver que a maioria dos videos ainda possui data de publicação muito próxima à data da coleta. Isso deve ao filtro para *videos mais relevantes* que foi utilizado. É natural que a maioria deles sejam os mais recentes, por estarem em alta no youtube. Nesse momento, não irei refazer a extração de dados, mas é preciso ter ciência de que o modelo será viesado para vídeos mais recentes **Aceito opiniões/explicações contrárias e construtivas aqui. Estou aprendendo...**"
   ]
  },
  {
   "cell_type": "code",
   "execution_count": 61,
   "metadata": {},
   "outputs": [],
   "source": [
    "## criando dataframe com dados a partir de 2018\n",
    "df_2018_up = df_limpo[df_limpo.data >= '2018-01-01']"
   ]
  },
  {
   "cell_type": "code",
   "execution_count": 62,
   "metadata": {},
   "outputs": [
    {
     "data": {
      "text/html": [
       "<div>\n",
       "<style scoped>\n",
       "    .dataframe tbody tr th:only-of-type {\n",
       "        vertical-align: middle;\n",
       "    }\n",
       "\n",
       "    .dataframe tbody tr th {\n",
       "        vertical-align: top;\n",
       "    }\n",
       "\n",
       "    .dataframe thead th {\n",
       "        text-align: right;\n",
       "    }\n",
       "</style>\n",
       "<table border=\"1\" class=\"dataframe\">\n",
       "  <thead>\n",
       "    <tr style=\"text-align: right;\">\n",
       "      <th></th>\n",
       "      <th>data</th>\n",
       "      <th>views</th>\n",
       "    </tr>\n",
       "  </thead>\n",
       "  <tbody>\n",
       "    <tr>\n",
       "      <th>0</th>\n",
       "      <td>2019-07-30</td>\n",
       "      <td>635</td>\n",
       "    </tr>\n",
       "    <tr>\n",
       "      <th>1</th>\n",
       "      <td>2019-12-03</td>\n",
       "      <td>37305</td>\n",
       "    </tr>\n",
       "    <tr>\n",
       "      <th>3</th>\n",
       "      <td>2019-03-19</td>\n",
       "      <td>41</td>\n",
       "    </tr>\n",
       "    <tr>\n",
       "      <th>5</th>\n",
       "      <td>2020-01-21</td>\n",
       "      <td>389</td>\n",
       "    </tr>\n",
       "    <tr>\n",
       "      <th>6</th>\n",
       "      <td>2019-04-14</td>\n",
       "      <td>129</td>\n",
       "    </tr>\n",
       "  </tbody>\n",
       "</table>\n",
       "</div>"
      ],
      "text/plain": [
       "        data  views\n",
       "0 2019-07-30    635\n",
       "1 2019-12-03  37305\n",
       "3 2019-03-19     41\n",
       "5 2020-01-21    389\n",
       "6 2019-04-14    129"
      ]
     },
     "execution_count": 62,
     "metadata": {},
     "output_type": "execute_result"
    }
   ],
   "source": [
    "df_2018_up.head()"
   ]
  },
  {
   "cell_type": "markdown",
   "metadata": {},
   "source": [
    "Vamos visualizar o número de views para as datas de publicação nos vídeos publicados antes e partir de 2018."
   ]
  },
  {
   "cell_type": "code",
   "execution_count": 63,
   "metadata": {},
   "outputs": [
    {
     "data": {
      "text/plain": [
       "<matplotlib.axes._subplots.AxesSubplot at 0x184b5f5e288>"
      ]
     },
     "execution_count": 63,
     "metadata": {},
     "output_type": "execute_result"
    },
    {
     "data": {
      "image/png": "[encoded data removed]",
      "text/plain": [
       "<Figure size 720x360 with 1 Axes>"
      ]
     },
     "metadata": {
      "needs_background": "light"
     },
     "output_type": "display_data"
    }
   ],
   "source": [
    "df_2018_up.plot(kind='scatter', x = 'data', y = 'views', grid=True, figsize=(10, 5), logy = True, title='views por data publicada - a partir de 2018')"
   ]
  },
  {
   "cell_type": "markdown",
   "metadata": {},
   "source": [
    "No gráfico de dispersão acima, é possível ver que os vídeos mais recentes acumulam visualizações da ordem de centenas de milhares em sua maioria. Abaixo está plotada a dispersão para vídeos publicados até 31-12-2017:"
   ]
  },
  {
   "cell_type": "code",
   "execution_count": 64,
   "metadata": {},
   "outputs": [
    {
     "data": {
      "text/plain": [
       "<matplotlib.axes._subplots.AxesSubplot at 0x184b63a6808>"
      ]
     },
     "execution_count": 64,
     "metadata": {},
     "output_type": "execute_result"
    },
    {
     "data": {
      "image/png": "[encoded data removed]",
      "text/plain": [
       "<Figure size 720x360 with 1 Axes>"
      ]
     },
     "metadata": {
      "needs_background": "light"
     },
     "output_type": "display_data"
    }
   ],
   "source": [
    "df_limpo[df_limpo.data < '2018-01-01'].plot(kind='scatter', x = 'data', y = 'views', grid=True, figsize=(10, 5), logy = True, title='views por data publicada - videos até 31-12-2017')"
   ]
  },
  {
   "cell_type": "markdown",
   "metadata": {},
   "source": [
    "Podemos ver aqui que os vídeos anteriores a 2018 apresentam uma faixa maior de visualizações, com alguns contendo menos de 1000 views. Existe também uma concentração de publicações entre 2016 e 2018, a qual eu atribuo ao início do movimento de educação financeira no Brasil, que mesmo não tão difundido, já era expressivo. Como a intenção é gerar um modelo inicial simples, vamos dar seguimento com o treino sem modificar o dataset de trabalho, que será o dataframe *features*, sem os dados de dias de publicação, já que ao dividir os dados para treino e validação, um video publicado a um número de dias de um lado da divisão nunca aparecerá no conjunto de dados do outro lado da divisão."
   ]
  },
  {
   "cell_type": "code",
   "execution_count": 65,
   "metadata": {},
   "outputs": [
    {
     "data": {
      "text/html": [
       "<div>\n",
       "<style scoped>\n",
       "    .dataframe tbody tr th:only-of-type {\n",
       "        vertical-align: middle;\n",
       "    }\n",
       "\n",
       "    .dataframe tbody tr th {\n",
       "        vertical-align: top;\n",
       "    }\n",
       "\n",
       "    .dataframe thead th {\n",
       "        text-align: right;\n",
       "    }\n",
       "</style>\n",
       "<table border=\"1\" class=\"dataframe\">\n",
       "  <thead>\n",
       "    <tr style=\"text-align: right;\">\n",
       "      <th></th>\n",
       "      <th>views</th>\n",
       "      <th>views_por_dia</th>\n",
       "    </tr>\n",
       "  </thead>\n",
       "  <tbody>\n",
       "    <tr>\n",
       "      <th>0</th>\n",
       "      <td>635</td>\n",
       "      <td>2.243816</td>\n",
       "    </tr>\n",
       "    <tr>\n",
       "      <th>1</th>\n",
       "      <td>37305</td>\n",
       "      <td>237.611465</td>\n",
       "    </tr>\n",
       "    <tr>\n",
       "      <th>2</th>\n",
       "      <td>98</td>\n",
       "      <td>0.086344</td>\n",
       "    </tr>\n",
       "    <tr>\n",
       "      <th>3</th>\n",
       "      <td>41</td>\n",
       "      <td>0.098558</td>\n",
       "    </tr>\n",
       "    <tr>\n",
       "      <th>5</th>\n",
       "      <td>389</td>\n",
       "      <td>3.601852</td>\n",
       "    </tr>\n",
       "  </tbody>\n",
       "</table>\n",
       "</div>"
      ],
      "text/plain": [
       "   views  views_por_dia\n",
       "0    635       2.243816\n",
       "1  37305     237.611465\n",
       "2     98       0.086344\n",
       "3     41       0.098558\n",
       "5    389       3.601852"
      ]
     },
     "execution_count": 65,
     "metadata": {},
     "output_type": "execute_result"
    }
   ],
   "source": [
    "features = features.drop('dias_publicado', axis = 1)\n",
    "features.head()"
   ]
  },
  {
   "cell_type": "markdown",
   "metadata": {},
   "source": [
    "Como temos uma amostra com a grande maioria dos exemplos próxima da data da coleta, para separar os dados em treino e validação em 50%, vamos utilizar a data do quantil 0.5:"
   ]
  },
  {
   "cell_type": "code",
   "execution_count": 66,
   "metadata": {},
   "outputs": [
    {
     "data": {
      "text/plain": [
       "Timestamp('2019-07-29 00:00:00')"
      ]
     },
     "execution_count": 66,
     "metadata": {},
     "output_type": "execute_result"
    }
   ],
   "source": [
    "df_limpo.data.quantile(0.5)"
   ]
  },
  {
   "cell_type": "code",
   "execution_count": 67,
   "metadata": {},
   "outputs": [],
   "source": [
    "#importando alguns modelos\n",
    "from sklearn.linear_model import LogisticRegression\n",
    "from sklearn.tree import DecisionTreeClassifier\n",
    "from sklearn.model_selection import train_test_split"
   ]
  },
  {
   "cell_type": "code",
   "execution_count": 68,
   "metadata": {},
   "outputs": [],
   "source": [
    "Xtrain, Xval = features[df_limpo.data < df_limpo.data.quantile(0.5)], features[df_limpo.data >= df_limpo.data.quantile(0.5)]\n",
    "ytrain, yval = y[df_limpo.data < df_limpo.data.quantile(0.5)], y[df_limpo.data >= df_limpo.data.quantile(0.5)]"
   ]
  },
  {
   "cell_type": "code",
   "execution_count": 69,
   "metadata": {},
   "outputs": [
    {
     "data": {
      "text/plain": [
       "((250, 2), (253, 2), (250,), (253,))"
      ]
     },
     "execution_count": 69,
     "metadata": {},
     "output_type": "execute_result"
    }
   ],
   "source": [
    "Xtrain.shape, Xval.shape, ytrain.shape, yval.shape"
   ]
  },
  {
   "cell_type": "code",
   "execution_count": 70,
   "metadata": {},
   "outputs": [
    {
     "data": {
      "text/plain": [
       "79.0"
      ]
     },
     "execution_count": 70,
     "metadata": {},
     "output_type": "execute_result"
    }
   ],
   "source": [
    "# número de exemplos positivos na amostra de treino\n",
    "ytrain.mean() * 250"
   ]
  },
  {
   "cell_type": "code",
   "execution_count": 71,
   "metadata": {},
   "outputs": [
    {
     "data": {
      "text/plain": [
       "DecisionTreeClassifier(class_weight='balanced', max_depth=2, random_state=28)"
      ]
     },
     "execution_count": 71,
     "metadata": {},
     "output_type": "execute_result"
    }
   ],
   "source": [
    "#(seguindo orientações do curso)\n",
    "#verificando como as duas features selecionadas influenciam a indicação de vídeos de interesse\n",
    "mdl = DecisionTreeClassifier(random_state=28, max_depth=2, class_weight=\"balanced\") #class_weight balanced vai penalizar o modelo quando ele errar exemplos positivos, dado o desbalanceamento da classe\n",
    "mdl.fit(Xtrain, ytrain)"
   ]
  },
  {
   "cell_type": "markdown",
   "metadata": {},
   "source": [
    "Tip: Criar uma árvore de decisão é uma boa maneira de entender a relação de poucas features com a previsão"
   ]
  },
  {
   "cell_type": "code",
   "execution_count": 72,
   "metadata": {},
   "outputs": [],
   "source": [
    "p = mdl.predict_proba(Xval)[:, 1] #função predict_proba gera dois numpy arrays com as probabilidades de casa caso serem 0 e 1\n",
    "# queremos somente a probabilidade de ser 1"
   ]
  },
  {
   "cell_type": "code",
   "execution_count": 73,
   "metadata": {},
   "outputs": [],
   "source": [
    "#importanto métricas\n",
    "from sklearn.metrics import roc_auc_score, average_precision_score"
   ]
  },
  {
   "cell_type": "markdown",
   "metadata": {},
   "source": [
    "average_precision: É área sob a curva do gráfico precision x recall para cada ponto de corte que poderia ser escolhido para as previsões. Mais [aqui](https://scikit-learn.org/stable/auto_examples/model_selection/plot_precision_recall.html#sphx-glr-auto-examples-model-selection-plot-precision-recall-py).\n"
   ]
  },
  {
   "cell_type": "code",
   "execution_count": 74,
   "metadata": {},
   "outputs": [
    {
     "data": {
      "text/plain": [
       "0.466503359462486"
      ]
     },
     "execution_count": 74,
     "metadata": {},
     "output_type": "execute_result"
    }
   ],
   "source": [
    "average_precision_score(yval, p)"
   ]
  },
  {
   "cell_type": "markdown",
   "metadata": {},
   "source": [
    "interpretando o resultado acima: Será adotada a baseline de 0.467"
   ]
  },
  {
   "cell_type": "code",
   "execution_count": 75,
   "metadata": {},
   "outputs": [
    {
     "data": {
      "text/plain": [
       "0.8083843329253366"
      ]
     },
     "execution_count": 75,
     "metadata": {},
     "output_type": "execute_result"
    }
   ],
   "source": [
    "roc_auc_score(yval, p)"
   ]
  },
  {
   "cell_type": "markdown",
   "metadata": {},
   "source": [
    "mais sobre **roc_auc_score** [aqui](https://scikit-learn.org/stable/modules/model_evaluation.html#roc-metrics)."
   ]
  },
  {
   "cell_type": "code",
   "execution_count": 76,
   "metadata": {},
   "outputs": [],
   "source": [
    "#plotando a árvore de decisão\n",
    "from sklearn.tree import plot_tree"
   ]
  },
  {
   "cell_type": "code",
   "execution_count": 78,
   "metadata": {},
   "outputs": [
    {
     "data": {
      "text/plain": [
       "[Text(279.0, 453.0, 'views <= 31228.0\\ngini = 0.5\\nsamples = 250\\nvalue = [125.0, 125.0]'),\n",
       " Text(139.5, 271.8, 'views_por_dia <= 1.545\\ngini = 0.35\\nsamples = 160\\nvalue = [103.07, 30.063]'),\n",
       " Text(69.75, 90.59999999999997, 'gini = 0.0\\nsamples = 50\\nvalue = [36.55, 0.0]'),\n",
       " Text(209.25, 90.59999999999997, 'gini = 0.429\\nsamples = 110\\nvalue = [66.52, 30.063]'),\n",
       " Text(418.5, 271.8, 'views_por_dia <= 76.027\\ngini = 0.305\\nsamples = 90\\nvalue = [21.93, 94.937]'),\n",
       " Text(348.75, 90.59999999999997, 'gini = 0.478\\nsamples = 29\\nvalue = [12.427, 18.987]'),\n",
       " Text(488.25, 90.59999999999997, 'gini = 0.198\\nsamples = 61\\nvalue = [9.503, 75.949]')]"
      ]
     },
     "execution_count": 78,
     "metadata": {},
     "output_type": "execute_result"
    },
    {
     "data": {
      "image/png": "[encoded data removed]",
      "text/plain": [
       "<Figure size 720x720 with 1 Axes>"
      ]
     },
     "metadata": {
      "needs_background": "light"
     },
     "output_type": "display_data"
    }
   ],
   "source": [
    "fig, ax  = pylab.subplots(1,1, figsize=(10, 10))\n",
    "plot_tree(mdl, ax=ax, feature_names=Xtrain.columns)"
   ]
  },
  {
   "cell_type": "markdown",
   "metadata": {},
   "source": [
    "Interpretando a árvore de decisão (definindo níveis: 1, 2, e 3, de cima para baixo):\n",
    "\n",
    "- No nível 1, temos a delimitação feita pela árvora, para vídeos com até 31228 views e views acima desse valor. Ao descer pela árvore, os nós no lado esquerdo são o próximo nível para quando a condição no nó anterior é verdadeira. o vetor **value** indica o peso de cada classe na amostra, sendo o lado esquerdo para o valor negativo, e o direito para o positivo (ainda que não tenhamos o mesmo tamanho de amostra para cada classe no nível 1 da árvore, o parâmetro \"balanced\" pondera as amostras para que tenham o mesmo peso.  \n",
    "\n",
    "- No nível 2, lado esquerdo, temos a condição para quando views <= 31228. Agora, a árvore está analisando a feature views_por_dia. para vídeos com menos de 1.5 views por dia, temos como verdadeiro o primeiro nó no nível 3. Nesse nó, temos 50 amostras, sendo todas negativas  (vetor value com a segunda posição igual a 0.0). Nesse nó, estão todos os exemplos negativos que realmente são negativos.\n",
    "\n",
    "- No segundo nó do nível 2, estão as amostras para a feature views_por_dia > 1.545. Nesse nível, temos 110 amostra, com o vetor value indicado a presenta de mais amostras negativas, ou seja, de vídeos que provavelmente não irei ter interesse em assistir. Nesse lado da árvore, parecem estar os vídeos menos populares (menos views no total e menos views por dia).\n",
    "\n",
    "- Indo para o lado direito da árvore, no nível 2 estão as amostras para quando o número de views é maior que 31228. esse nó divide as amostras entre as que tem até 76027 views por dia, e as que tem valor dessa feature maior que esse threshold. Descendo a partir desse nó pelo lado esquerdo, chega-se ao 3º nó do nível 3. Esse nó indica que há 29 amostras com views > 31228 e views_por_dia <= 76027. Aqui, o peso das amostras positivas é cerca de 50% maior que o das negativas, indicando que dos vídeos nessa faixa, há mais que são de interesse do que vídeos que não são.\n",
    "\n",
    "- Por fim, indo para o 4º nó do nível 3, temos as amostras para os vídeos com mais de 31228 views e mais de 76027 views por dia. Aqui, 61 amostras possuem maior peso positivo (75,949), indicando que meu interesse está nos vídeos mais populares (com mais views e mais views por dia). Para calcular a previsão nesse nó, e nos demais, bastaria dividir o valor da posição 2 do vetor pela soma das duas posições (no nível 4, 75,949/(9,503 + 75,949) = 0,889).\n",
    "\n",
    "Lembrar que aqui, a árvore é simples, com apenas 2 níveis e poucas features. Serve apenas para conclusões iniciais. De todo modo, a árvore deixou claro a preferência por vídeos mais populares."
   ]
  },
  {
   "cell_type": "markdown",
   "metadata": {},
   "source": [
    "Esse notebook será encerrado aqui, e um novo será criado para a etapa de active learning, onde será criado um novo modelo para criar labels para as demais amostras do conjunto de dados que foi parcialmente etiquetado, para que se tenha um número maior de amostras para treinar o modelo final. Os dataframes df_limpo e features serão salvos em formato pickle para não ser necessário criá-los novamente."
   ]
  },
  {
   "cell_type": "code",
   "execution_count": 79,
   "metadata": {},
   "outputs": [
    {
     "data": {
      "text/html": [
       "<div>\n",
       "<style scoped>\n",
       "    .dataframe tbody tr th:only-of-type {\n",
       "        vertical-align: middle;\n",
       "    }\n",
       "\n",
       "    .dataframe tbody tr th {\n",
       "        vertical-align: top;\n",
       "    }\n",
       "\n",
       "    .dataframe thead th {\n",
       "        text-align: right;\n",
       "    }\n",
       "</style>\n",
       "<table border=\"1\" class=\"dataframe\">\n",
       "  <thead>\n",
       "    <tr style=\"text-align: right;\">\n",
       "      <th></th>\n",
       "      <th>data</th>\n",
       "      <th>views</th>\n",
       "    </tr>\n",
       "  </thead>\n",
       "  <tbody>\n",
       "    <tr>\n",
       "      <th>0</th>\n",
       "      <td>2019-07-30</td>\n",
       "      <td>635</td>\n",
       "    </tr>\n",
       "    <tr>\n",
       "      <th>1</th>\n",
       "      <td>2019-12-03</td>\n",
       "      <td>37305</td>\n",
       "    </tr>\n",
       "    <tr>\n",
       "      <th>2</th>\n",
       "      <td>2017-03-30</td>\n",
       "      <td>98</td>\n",
       "    </tr>\n",
       "    <tr>\n",
       "      <th>3</th>\n",
       "      <td>2019-03-19</td>\n",
       "      <td>41</td>\n",
       "    </tr>\n",
       "    <tr>\n",
       "      <th>5</th>\n",
       "      <td>2020-01-21</td>\n",
       "      <td>389</td>\n",
       "    </tr>\n",
       "  </tbody>\n",
       "</table>\n",
       "</div>"
      ],
      "text/plain": [
       "        data  views\n",
       "0 2019-07-30    635\n",
       "1 2019-12-03  37305\n",
       "2 2017-03-30     98\n",
       "3 2019-03-19     41\n",
       "5 2020-01-21    389"
      ]
     },
     "execution_count": 79,
     "metadata": {},
     "output_type": "execute_result"
    }
   ],
   "source": [
    "df_limpo.head()"
   ]
  },
  {
   "cell_type": "code",
   "execution_count": 85,
   "metadata": {},
   "outputs": [
    {
     "name": "stderr",
     "output_type": "stream",
     "text": [
      "d:\\solucao completa de ds - mario filho\\projeto\\.env\\lib\\site-packages\\ipykernel_launcher.py:2: SettingWithCopyWarning: \n",
      "A value is trying to be set on a copy of a slice from a DataFrame.\n",
      "Try using .loc[row_indexer,col_indexer] = value instead\n",
      "\n",
      "See the caveats in the documentation: https://pandas.pydata.org/pandas-docs/stable/user_guide/indexing.html#returning-a-view-versus-a-copy\n",
      "  \n"
     ]
    }
   ],
   "source": [
    "#adicionando o título dos vídeos ao df_limpo\n",
    "df_limpo['title'] = df_labeled['watch-title'].copy()"
   ]
  },
  {
   "cell_type": "code",
   "execution_count": 84,
   "metadata": {},
   "outputs": [
    {
     "data": {
      "text/html": [
       "<div>\n",
       "<style scoped>\n",
       "    .dataframe tbody tr th:only-of-type {\n",
       "        vertical-align: middle;\n",
       "    }\n",
       "\n",
       "    .dataframe tbody tr th {\n",
       "        vertical-align: top;\n",
       "    }\n",
       "\n",
       "    .dataframe thead th {\n",
       "        text-align: right;\n",
       "    }\n",
       "</style>\n",
       "<table border=\"1\" class=\"dataframe\">\n",
       "  <thead>\n",
       "    <tr style=\"text-align: right;\">\n",
       "      <th></th>\n",
       "      <th>data</th>\n",
       "      <th>views</th>\n",
       "      <th>title</th>\n",
       "    </tr>\n",
       "  </thead>\n",
       "  <tbody>\n",
       "    <tr>\n",
       "      <th>0</th>\n",
       "      <td>2019-07-30</td>\n",
       "      <td>635</td>\n",
       "      <td>Finanças é Coisa de Criança!</td>\n",
       "    </tr>\n",
       "    <tr>\n",
       "      <th>1</th>\n",
       "      <td>2019-12-03</td>\n",
       "      <td>37305</td>\n",
       "      <td>Câncer 2020 - Profissional e Finanças 1° semestre</td>\n",
       "    </tr>\n",
       "    <tr>\n",
       "      <th>2</th>\n",
       "      <td>2017-03-30</td>\n",
       "      <td>98</td>\n",
       "      <td>Seja Rica: Conquiste sua Independência Financeira</td>\n",
       "    </tr>\n",
       "    <tr>\n",
       "      <th>3</th>\n",
       "      <td>2019-03-19</td>\n",
       "      <td>41</td>\n",
       "      <td>Independência FINANCEIRA</td>\n",
       "    </tr>\n",
       "    <tr>\n",
       "      <th>5</th>\n",
       "      <td>2020-01-21</td>\n",
       "      <td>389</td>\n",
       "      <td>6 ERROS para NÃO ter a INDEPENDÊNCIA FINANCEIR...</td>\n",
       "    </tr>\n",
       "  </tbody>\n",
       "</table>\n",
       "</div>"
      ],
      "text/plain": [
       "        data  views                                              title\n",
       "0 2019-07-30    635                       Finanças é Coisa de Criança!\n",
       "1 2019-12-03  37305  Câncer 2020 - Profissional e Finanças 1° semestre\n",
       "2 2017-03-30     98  Seja Rica: Conquiste sua Independência Financeira\n",
       "3 2019-03-19     41                           Independência FINANCEIRA\n",
       "5 2020-01-21    389  6 ERROS para NÃO ter a INDEPENDÊNCIA FINANCEIR..."
      ]
     },
     "execution_count": 84,
     "metadata": {},
     "output_type": "execute_result"
    }
   ],
   "source": [
    "df_limpo.head()"
   ]
  },
  {
   "cell_type": "code",
   "execution_count": 80,
   "metadata": {},
   "outputs": [
    {
     "data": {
      "text/html": [
       "<div>\n",
       "<style scoped>\n",
       "    .dataframe tbody tr th:only-of-type {\n",
       "        vertical-align: middle;\n",
       "    }\n",
       "\n",
       "    .dataframe tbody tr th {\n",
       "        vertical-align: top;\n",
       "    }\n",
       "\n",
       "    .dataframe thead th {\n",
       "        text-align: right;\n",
       "    }\n",
       "</style>\n",
       "<table border=\"1\" class=\"dataframe\">\n",
       "  <thead>\n",
       "    <tr style=\"text-align: right;\">\n",
       "      <th></th>\n",
       "      <th>views</th>\n",
       "      <th>views_por_dia</th>\n",
       "    </tr>\n",
       "  </thead>\n",
       "  <tbody>\n",
       "    <tr>\n",
       "      <th>0</th>\n",
       "      <td>635</td>\n",
       "      <td>2.243816</td>\n",
       "    </tr>\n",
       "    <tr>\n",
       "      <th>1</th>\n",
       "      <td>37305</td>\n",
       "      <td>237.611465</td>\n",
       "    </tr>\n",
       "    <tr>\n",
       "      <th>2</th>\n",
       "      <td>98</td>\n",
       "      <td>0.086344</td>\n",
       "    </tr>\n",
       "    <tr>\n",
       "      <th>3</th>\n",
       "      <td>41</td>\n",
       "      <td>0.098558</td>\n",
       "    </tr>\n",
       "    <tr>\n",
       "      <th>5</th>\n",
       "      <td>389</td>\n",
       "      <td>3.601852</td>\n",
       "    </tr>\n",
       "  </tbody>\n",
       "</table>\n",
       "</div>"
      ],
      "text/plain": [
       "   views  views_por_dia\n",
       "0    635       2.243816\n",
       "1  37305     237.611465\n",
       "2     98       0.086344\n",
       "3     41       0.098558\n",
       "5    389       3.601852"
      ]
     },
     "execution_count": 80,
     "metadata": {},
     "output_type": "execute_result"
    }
   ],
   "source": [
    "features.head()"
   ]
  },
  {
   "cell_type": "code",
   "execution_count": 86,
   "metadata": {},
   "outputs": [],
   "source": [
    "df_limpo.to_pickle(\"./datasets/df_limpo.pkl\")"
   ]
  },
  {
   "cell_type": "code",
   "execution_count": 87,
   "metadata": {},
   "outputs": [],
   "source": [
    "features.to_pickle(\"./datasets/features.pkl\")"
   ]
  },
  {
   "cell_type": "code",
   "execution_count": null,
   "metadata": {},
   "outputs": [],
   "source": []
  }
 ],
 "metadata": {
  "kernelspec": {
   "display_name": "Python 3",
   "language": "python",
   "name": "python3"
  },
  "language_info": {
   "codemirror_mode": {
    "name": "ipython",
    "version": 3
   },
   "file_extension": ".py",
   "mimetype": "text/x-python",
   "name": "python",
   "nbconvert_exporter": "python",
   "pygments_lexer": "ipython3",
   "version": "3.7.6"
  }
 },
 "nbformat": 4,
 "nbformat_minor": 4
}
