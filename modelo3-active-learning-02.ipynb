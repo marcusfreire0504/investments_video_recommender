{
 "cells": [
  {
   "cell_type": "markdown",
   "metadata": {},
   "source": [
    "## Modelo 3 - Resultado do Active learning\n",
    "\n",
    "Aqui vamos medir o resultado do active learning. "
   ]
  },
  {
   "cell_type": "code",
   "execution_count": 1,
   "metadata": {},
   "outputs": [
    {
     "name": "stdout",
     "output_type": "stream",
     "text": [
      "Populating the interactive namespace from numpy and matplotlib\n"
     ]
    }
   ],
   "source": [
    "#importando pacotes\n",
    "import pandas as pd\n",
    "import numpy as np\n",
    "import re\n",
    "import time\n",
    "\n",
    "import bs4\n",
    "import json\n",
    "\n",
    "import glob\n",
    "import tqdm\n",
    "\n",
    "pd.set_option(\"max.columns\", 100)\n",
    "\n",
    "#https://strftime.org\n",
    "%matplotlib inline\n",
    "%pylab inline"
   ]
  },
  {
   "cell_type": "code",
   "execution_count": 3,
   "metadata": {},
   "outputs": [],
   "source": [
    "#lendo dataframes\n",
    "df_limpo = pd.read_pickle('./datasets/df_limpo.pkl')"
   ]
  },
  {
   "cell_type": "code",
   "execution_count": 4,
   "metadata": {},
   "outputs": [
    {
     "data": {
      "text/html": [
       "<div>\n",
       "<style scoped>\n",
       "    .dataframe tbody tr th:only-of-type {\n",
       "        vertical-align: middle;\n",
       "    }\n",
       "\n",
       "    .dataframe tbody tr th {\n",
       "        vertical-align: top;\n",
       "    }\n",
       "\n",
       "    .dataframe thead th {\n",
       "        text-align: right;\n",
       "    }\n",
       "</style>\n",
       "<table border=\"1\" class=\"dataframe\">\n",
       "  <thead>\n",
       "    <tr style=\"text-align: right;\">\n",
       "      <th></th>\n",
       "      <th>data</th>\n",
       "      <th>views</th>\n",
       "      <th>title</th>\n",
       "    </tr>\n",
       "  </thead>\n",
       "  <tbody>\n",
       "    <tr>\n",
       "      <th>0</th>\n",
       "      <td>2019-07-30</td>\n",
       "      <td>635</td>\n",
       "      <td>Finanças é Coisa de Criança!</td>\n",
       "    </tr>\n",
       "    <tr>\n",
       "      <th>1</th>\n",
       "      <td>2019-12-03</td>\n",
       "      <td>37305</td>\n",
       "      <td>Câncer 2020 - Profissional e Finanças 1° semestre</td>\n",
       "    </tr>\n",
       "    <tr>\n",
       "      <th>2</th>\n",
       "      <td>2017-03-30</td>\n",
       "      <td>98</td>\n",
       "      <td>Seja Rica: Conquiste sua Independência Financeira</td>\n",
       "    </tr>\n",
       "    <tr>\n",
       "      <th>3</th>\n",
       "      <td>2019-03-19</td>\n",
       "      <td>41</td>\n",
       "      <td>Independência FINANCEIRA</td>\n",
       "    </tr>\n",
       "    <tr>\n",
       "      <th>5</th>\n",
       "      <td>2020-01-21</td>\n",
       "      <td>389</td>\n",
       "      <td>6 ERROS para NÃO ter a INDEPENDÊNCIA FINANCEIR...</td>\n",
       "    </tr>\n",
       "  </tbody>\n",
       "</table>\n",
       "</div>"
      ],
      "text/plain": [
       "        data  views                                              title\n",
       "0 2019-07-30    635                       Finanças é Coisa de Criança!\n",
       "1 2019-12-03  37305  Câncer 2020 - Profissional e Finanças 1° semestre\n",
       "2 2017-03-30     98  Seja Rica: Conquiste sua Independência Financeira\n",
       "3 2019-03-19     41                           Independência FINANCEIRA\n",
       "5 2020-01-21    389  6 ERROS para NÃO ter a INDEPENDÊNCIA FINANCEIR..."
      ]
     },
     "execution_count": 4,
     "metadata": {},
     "output_type": "execute_result"
    }
   ],
   "source": [
    "df_limpo.head()"
   ]
  },
  {
   "cell_type": "code",
   "execution_count": 5,
   "metadata": {},
   "outputs": [],
   "source": [
    "features = pd.read_pickle('./datasets/features.pkl')"
   ]
  },
  {
   "cell_type": "code",
   "execution_count": 6,
   "metadata": {},
   "outputs": [
    {
     "data": {
      "text/html": [
       "<div>\n",
       "<style scoped>\n",
       "    .dataframe tbody tr th:only-of-type {\n",
       "        vertical-align: middle;\n",
       "    }\n",
       "\n",
       "    .dataframe tbody tr th {\n",
       "        vertical-align: top;\n",
       "    }\n",
       "\n",
       "    .dataframe thead th {\n",
       "        text-align: right;\n",
       "    }\n",
       "</style>\n",
       "<table border=\"1\" class=\"dataframe\">\n",
       "  <thead>\n",
       "    <tr style=\"text-align: right;\">\n",
       "      <th></th>\n",
       "      <th>views</th>\n",
       "      <th>views_por_dia</th>\n",
       "    </tr>\n",
       "  </thead>\n",
       "  <tbody>\n",
       "    <tr>\n",
       "      <th>0</th>\n",
       "      <td>635</td>\n",
       "      <td>2.243816</td>\n",
       "    </tr>\n",
       "    <tr>\n",
       "      <th>1</th>\n",
       "      <td>37305</td>\n",
       "      <td>237.611465</td>\n",
       "    </tr>\n",
       "    <tr>\n",
       "      <th>2</th>\n",
       "      <td>98</td>\n",
       "      <td>0.086344</td>\n",
       "    </tr>\n",
       "    <tr>\n",
       "      <th>3</th>\n",
       "      <td>41</td>\n",
       "      <td>0.098558</td>\n",
       "    </tr>\n",
       "    <tr>\n",
       "      <th>5</th>\n",
       "      <td>389</td>\n",
       "      <td>3.601852</td>\n",
       "    </tr>\n",
       "  </tbody>\n",
       "</table>\n",
       "</div>"
      ],
      "text/plain": [
       "   views  views_por_dia\n",
       "0    635       2.243816\n",
       "1  37305     237.611465\n",
       "2     98       0.086344\n",
       "3     41       0.098558\n",
       "5    389       3.601852"
      ]
     },
     "execution_count": 6,
     "metadata": {},
     "output_type": "execute_result"
    }
   ],
   "source": [
    "features.head()"
   ]
  },
  {
   "cell_type": "code",
   "execution_count": 2,
   "metadata": {},
   "outputs": [
    {
     "data": {
      "text/plain": [
       "(503, 14)"
      ]
     },
     "execution_count": 2,
     "metadata": {},
     "output_type": "execute_result"
    }
   ],
   "source": [
    "#carregando conjunto completo de dados, somente com as anotações feitas na primeira fase\n",
    "df1 = pd.read_excel('./datasets/raw_data_with_labels.xlsx', index_col=0)\n",
    "df1 = df1[df1.y.notnull()].copy()\n",
    "df1.shape"
   ]
  },
  {
   "cell_type": "code",
   "execution_count": 6,
   "metadata": {},
   "outputs": [
    {
     "data": {
      "text/plain": [
       "(100, 17)"
      ]
     },
     "execution_count": 6,
     "metadata": {},
     "output_type": "execute_result"
    }
   ],
   "source": [
    "#carregando conjunto de dados do active learning\n",
    "df2 = pd.read_excel('./datasets/active_label.xlsx', index_col=0)\n",
    "df2 = df2[df2.y.notnull()].copy()\n",
    "df2['novo'] = 1\n",
    "df2.shape"
   ]
  },
  {
   "cell_type": "code",
   "execution_count": 7,
   "metadata": {},
   "outputs": [
    {
     "data": {
      "text/html": [
       "<div>\n",
       "<style scoped>\n",
       "    .dataframe tbody tr th:only-of-type {\n",
       "        vertical-align: middle;\n",
       "    }\n",
       "\n",
       "    .dataframe tbody tr th {\n",
       "        vertical-align: top;\n",
       "    }\n",
       "\n",
       "    .dataframe thead th {\n",
       "        text-align: right;\n",
       "    }\n",
       "</style>\n",
       "<table border=\"1\" class=\"dataframe\">\n",
       "  <thead>\n",
       "    <tr style=\"text-align: right;\">\n",
       "      <th></th>\n",
       "      <th>watch-title</th>\n",
       "      <th>y</th>\n",
       "      <th>watch-view-count</th>\n",
       "      <th>watch-time-text</th>\n",
       "      <th>watch7-headline</th>\n",
       "      <th>watch8-sentiment-actions</th>\n",
       "      <th>og:image</th>\n",
       "      <th>og:image:width</th>\n",
       "      <th>og:description</th>\n",
       "      <th>og:video:width</th>\n",
       "      <th>og:video:height</th>\n",
       "      <th>og:video:tag</th>\n",
       "      <th>content_watch-info-tag-list</th>\n",
       "      <th>channel_link_0</th>\n",
       "      <th>data</th>\n",
       "      <th>p</th>\n",
       "      <th>novo</th>\n",
       "    </tr>\n",
       "  </thead>\n",
       "  <tbody>\n",
       "    <tr>\n",
       "      <th>566</th>\n",
       "      <td>TOP 10 AÇÕES PARA INVESTIR EM MAIO DE 2020  - ...</td>\n",
       "      <td>0</td>\n",
       "      <td>772 visualizações</td>\n",
       "      <td>Publicado em 2 de mai. de 2020</td>\n",
       "      <td>TOP 10 AÇÕES PARA INVESTIR EM MAIO DE 2020  - ...</td>\n",
       "      <td>772 visualizações\\n\\n\\n\\n\\n\\n\\n\\n27\\n\\nGostou ...</td>\n",
       "      <td>https://i.ytimg.com/vi/M8MSZipIWyg/maxresdefau...</td>\n",
       "      <td>1280</td>\n",
       "      <td>TOP 10 AÇÕES PARA INVESTIR EM MAIO DE 2020 - A...</td>\n",
       "      <td>1280</td>\n",
       "      <td>720</td>\n",
       "      <td>COMO INVESTIR</td>\n",
       "      <td>Pessoas e blogs</td>\n",
       "      <td>/channel/UCL6FUaPa_l8MAzrk1oqxCFw</td>\n",
       "      <td>2020-05-02</td>\n",
       "      <td>0.548</td>\n",
       "      <td>1</td>\n",
       "    </tr>\n",
       "    <tr>\n",
       "      <th>579</th>\n",
       "      <td>Qual é o melhor Investimento? Comprar imóveis ...</td>\n",
       "      <td>1</td>\n",
       "      <td>2.555 visualizações</td>\n",
       "      <td>Estreou em 5 de mai. de 2020</td>\n",
       "      <td>Qual é o melhor Investimento? Comprar imóveis ...</td>\n",
       "      <td>2.555 visualizações\\n\\n\\n\\n\\n\\n\\n\\n454\\n\\nGost...</td>\n",
       "      <td>https://i.ytimg.com/vi/MhUjrYvJXrw/maxresdefau...</td>\n",
       "      <td>1280</td>\n",
       "      <td>Separei outras Dicas dentro do E-book de FII's...</td>\n",
       "      <td>1280</td>\n",
       "      <td>720</td>\n",
       "      <td>passiva</td>\n",
       "      <td>Licença de atribuição Creative Commons (reutil...</td>\n",
       "      <td>/channel/UCSXdP8V4jRaw-8YMTpa6glw</td>\n",
       "      <td>2020-05-05</td>\n",
       "      <td>0.514</td>\n",
       "      <td>1</td>\n",
       "    </tr>\n",
       "  </tbody>\n",
       "</table>\n",
       "</div>"
      ],
      "text/plain": [
       "                                           watch-title  y  \\\n",
       "566  TOP 10 AÇÕES PARA INVESTIR EM MAIO DE 2020  - ...  0   \n",
       "579  Qual é o melhor Investimento? Comprar imóveis ...  1   \n",
       "\n",
       "        watch-view-count                 watch-time-text  \\\n",
       "566    772 visualizações  Publicado em 2 de mai. de 2020   \n",
       "579  2.555 visualizações    Estreou em 5 de mai. de 2020   \n",
       "\n",
       "                                       watch7-headline  \\\n",
       "566  TOP 10 AÇÕES PARA INVESTIR EM MAIO DE 2020  - ...   \n",
       "579  Qual é o melhor Investimento? Comprar imóveis ...   \n",
       "\n",
       "                              watch8-sentiment-actions  \\\n",
       "566  772 visualizações\\n\\n\\n\\n\\n\\n\\n\\n27\\n\\nGostou ...   \n",
       "579  2.555 visualizações\\n\\n\\n\\n\\n\\n\\n\\n454\\n\\nGost...   \n",
       "\n",
       "                                              og:image  og:image:width  \\\n",
       "566  https://i.ytimg.com/vi/M8MSZipIWyg/maxresdefau...            1280   \n",
       "579  https://i.ytimg.com/vi/MhUjrYvJXrw/maxresdefau...            1280   \n",
       "\n",
       "                                        og:description  og:video:width  \\\n",
       "566  TOP 10 AÇÕES PARA INVESTIR EM MAIO DE 2020 - A...            1280   \n",
       "579  Separei outras Dicas dentro do E-book de FII's...            1280   \n",
       "\n",
       "     og:video:height   og:video:tag  \\\n",
       "566              720  COMO INVESTIR   \n",
       "579              720        passiva   \n",
       "\n",
       "                           content_watch-info-tag-list  \\\n",
       "566                                    Pessoas e blogs   \n",
       "579  Licença de atribuição Creative Commons (reutil...   \n",
       "\n",
       "                        channel_link_0       data      p  novo  \n",
       "566  /channel/UCL6FUaPa_l8MAzrk1oqxCFw 2020-05-02  0.548     1  \n",
       "579  /channel/UCSXdP8V4jRaw-8YMTpa6glw 2020-05-05  0.514     1  "
      ]
     },
     "execution_count": 7,
     "metadata": {},
     "output_type": "execute_result"
    }
   ],
   "source": [
    "df2.head(2)"
   ]
  },
  {
   "cell_type": "markdown",
   "metadata": {},
   "source": [
    "1ª checagem: Quais seriam os valores das métricas no dataset recém etiquetado (df2) utilizando as \"probabilidades\" do primeiro modelo? Aqui, não há parâmetro de comparação sobre a qualidade do resultado, mas sim sobre a proximidade com os valores esperados."
   ]
  },
  {
   "cell_type": "code",
   "execution_count": 8,
   "metadata": {},
   "outputs": [],
   "source": [
    "from sklearn.metrics import roc_auc_score, average_precision_score"
   ]
  },
  {
   "cell_type": "code",
   "execution_count": 9,
   "metadata": {},
   "outputs": [
    {
     "data": {
      "text/plain": [
       "(0.3801329540333924, 0.600873161764706)"
      ]
     },
     "execution_count": 9,
     "metadata": {},
     "output_type": "execute_result"
    }
   ],
   "source": [
    "average_precision_score(df2.y, df2.p), roc_auc_score(df2.y, df2.p)"
   ]
  },
  {
   "cell_type": "markdown",
   "metadata": {},
   "source": [
    "Os valores para essas métricas nos dados de validação foram, respectivamente:\n",
    "* 0.466503359462486\n",
    "* 0.8083843329253366\n",
    "\n",
    "Aqui, a pergunta a fazer é: Essa diferença é pequena o suficiente para podermos afirmar que o modelo está generalizando as suas predições?\n"
   ]
  },
  {
   "cell_type": "markdown",
   "metadata": {},
   "source": [
    "## Limpando dados novamente\n",
    "Agora, será criado um novo dataframe a partir da junção de df1 e df2, retirando a coluna *p*. Como a coluna *novo* existe somente no df2, ela será criada nos dados provenientes do df1 com valores NaN."
   ]
  },
  {
   "cell_type": "code",
   "execution_count": 10,
   "metadata": {},
   "outputs": [],
   "source": [
    "df = pd.concat([df1, df2.drop('p', axis=1)])"
   ]
  },
  {
   "cell_type": "code",
   "execution_count": 11,
   "metadata": {},
   "outputs": [],
   "source": [
    "#criando dataframe com os índices do df\n",
    "df_limpo = pd.DataFrame(index = df.index)\n",
    "df_limpo['title'] = df['watch-title']\n",
    "df_limpo['novo'] = df['novo'].fillna(0) #valores nan (que vieram do df1) vão virar 0"
   ]
  },
  {
   "cell_type": "code",
   "execution_count": 14,
   "metadata": {},
   "outputs": [],
   "source": [
    "map_mes = {'jan.':'Jan',\n",
    "             'fev.':'Feb',\n",
    "              'mar.':'Mar',\n",
    "              'abr.':'Apr',\n",
    "              'mai.':'May',\n",
    "              'jun.':'Jun',\n",
    "              'jul.':'Jul',\n",
    "              'ago.':'Aug',\n",
    "              'set.':'Sep',\n",
    "              'out.':'Oct',\n",
    "              'nov.':'Nov',\n",
    "              'dez.':'Dec'}"
   ]
  },
  {
   "cell_type": "code",
   "execution_count": 13,
   "metadata": {},
   "outputs": [],
   "source": [
    "def limpa_data (row):\n",
    "    \n",
    "    data_limpa = re.search(r\"(\\d+) de ([a-z]+)\\. de (\\d+)\", row.loc['watch-time-text']).group()\n",
    "    data_limpa = data_limpa.split('de ')\n",
    "    data_limpa = [x.strip() for x in data_limpa]\n",
    "    data_limpa[0] = ['0' + str(data_limpa[0]) if len(data_limpa[0]) == 1 else data_limpa[0]][0]\n",
    "    data_limpa[1] = [v for k, v in map_mes.items() if k == data_limpa[1]][0]\n",
    "    data = '-'.join(data_limpa)\n",
    "\n",
    "    return data"
   ]
  },
  {
   "cell_type": "code",
   "execution_count": 15,
   "metadata": {},
   "outputs": [],
   "source": [
    "#aplicando procedimento de limpeza da data\n",
    "df_limpo['data'] = df.apply(limpa_data, axis=1)"
   ]
  },
  {
   "cell_type": "code",
   "execution_count": 16,
   "metadata": {},
   "outputs": [],
   "source": [
    "df_limpo['data'] = pd.to_datetime(df_limpo['data'])"
   ]
  },
  {
   "cell_type": "code",
   "execution_count": 17,
   "metadata": {},
   "outputs": [],
   "source": [
    "#adicionando coluna com view count formatado\n",
    "df_limpo['views'] = df['watch-view-count'].str.extract(r\"(\\d+\\.?\\d*)\", expand=False).str.replace(\".\",\"\").fillna(0).astype(int)"
   ]
  },
  {
   "cell_type": "code",
   "execution_count": 20,
   "metadata": {},
   "outputs": [
    {
     "data": {
      "text/html": [
       "<div>\n",
       "<style scoped>\n",
       "    .dataframe tbody tr th:only-of-type {\n",
       "        vertical-align: middle;\n",
       "    }\n",
       "\n",
       "    .dataframe tbody tr th {\n",
       "        vertical-align: top;\n",
       "    }\n",
       "\n",
       "    .dataframe thead th {\n",
       "        text-align: right;\n",
       "    }\n",
       "</style>\n",
       "<table border=\"1\" class=\"dataframe\">\n",
       "  <thead>\n",
       "    <tr style=\"text-align: right;\">\n",
       "      <th></th>\n",
       "      <th>title</th>\n",
       "      <th>novo</th>\n",
       "      <th>data</th>\n",
       "      <th>views</th>\n",
       "    </tr>\n",
       "  </thead>\n",
       "  <tbody>\n",
       "    <tr>\n",
       "      <th>765</th>\n",
       "      <td>Escolha Enriquecer: Guia Completo da Independê...</td>\n",
       "      <td>1.0</td>\n",
       "      <td>2020-04-08</td>\n",
       "      <td>104</td>\n",
       "    </tr>\n",
       "    <tr>\n",
       "      <th>30</th>\n",
       "      <td>Conselhos sobre Finanças e Familia</td>\n",
       "      <td>0.0</td>\n",
       "      <td>2011-12-02</td>\n",
       "      <td>15081</td>\n",
       "    </tr>\n",
       "    <tr>\n",
       "      <th>149</th>\n",
       "      <td>Aplicando árvore de decisão no Ibovespa - Fina...</td>\n",
       "      <td>0.0</td>\n",
       "      <td>2018-03-02</td>\n",
       "      <td>3758</td>\n",
       "    </tr>\n",
       "    <tr>\n",
       "      <th>268</th>\n",
       "      <td>🚨 10 AÇÕES (BIDI4, GOLL4, CVCB3, OIBR3, PETR4,...</td>\n",
       "      <td>0.0</td>\n",
       "      <td>2020-03-30</td>\n",
       "      <td>44739</td>\n",
       "    </tr>\n",
       "    <tr>\n",
       "      <th>426</th>\n",
       "      <td>Escolha Enriquecer: Guia Completo da Independê...</td>\n",
       "      <td>0.0</td>\n",
       "      <td>2020-04-22</td>\n",
       "      <td>26</td>\n",
       "    </tr>\n",
       "  </tbody>\n",
       "</table>\n",
       "</div>"
      ],
      "text/plain": [
       "                                                 title  novo       data  views\n",
       "765  Escolha Enriquecer: Guia Completo da Independê...   1.0 2020-04-08    104\n",
       "30                  Conselhos sobre Finanças e Familia   0.0 2011-12-02  15081\n",
       "149  Aplicando árvore de decisão no Ibovespa - Fina...   0.0 2018-03-02   3758\n",
       "268  🚨 10 AÇÕES (BIDI4, GOLL4, CVCB3, OIBR3, PETR4,...   0.0 2020-03-30  44739\n",
       "426  Escolha Enriquecer: Guia Completo da Independê...   0.0 2020-04-22     26"
      ]
     },
     "execution_count": 20,
     "metadata": {},
     "output_type": "execute_result"
    }
   ],
   "source": [
    "df_limpo.sample(5)"
   ]
  },
  {
   "cell_type": "markdown",
   "metadata": {},
   "source": [
    "## Criando features"
   ]
  },
  {
   "cell_type": "code",
   "execution_count": 23,
   "metadata": {},
   "outputs": [],
   "source": [
    "features = pd.DataFrame(index=df_limpo.index)\n",
    "y = df.y.copy()"
   ]
  },
  {
   "cell_type": "code",
   "execution_count": 24,
   "metadata": {},
   "outputs": [],
   "source": [
    "#criando coluna com dias que se passaram desde a publicação até a data referência\n",
    "features['dias_publicado'] = (pd.to_datetime(\"2020-05-08\") - df_limpo['data']) / np.timedelta64(1, 'D') \n",
    "#denominador cria um objeto timedelta do numpy em diferença de 1 dia\n",
    "features['views'] = df_limpo['views']\n",
    "features['views_por_dia'] = features['views']/features['dias_publicado']\n",
    "features = features.drop('dias_publicado', axis = 1)"
   ]
  },
  {
   "cell_type": "code",
   "execution_count": 25,
   "metadata": {},
   "outputs": [
    {
     "data": {
      "text/html": [
       "<div>\n",
       "<style scoped>\n",
       "    .dataframe tbody tr th:only-of-type {\n",
       "        vertical-align: middle;\n",
       "    }\n",
       "\n",
       "    .dataframe tbody tr th {\n",
       "        vertical-align: top;\n",
       "    }\n",
       "\n",
       "    .dataframe thead th {\n",
       "        text-align: right;\n",
       "    }\n",
       "</style>\n",
       "<table border=\"1\" class=\"dataframe\">\n",
       "  <thead>\n",
       "    <tr style=\"text-align: right;\">\n",
       "      <th></th>\n",
       "      <th>views</th>\n",
       "      <th>views_por_dia</th>\n",
       "    </tr>\n",
       "  </thead>\n",
       "  <tbody>\n",
       "    <tr>\n",
       "      <th>0</th>\n",
       "      <td>635</td>\n",
       "      <td>2.243816</td>\n",
       "    </tr>\n",
       "    <tr>\n",
       "      <th>1</th>\n",
       "      <td>37305</td>\n",
       "      <td>237.611465</td>\n",
       "    </tr>\n",
       "    <tr>\n",
       "      <th>2</th>\n",
       "      <td>98</td>\n",
       "      <td>0.086344</td>\n",
       "    </tr>\n",
       "    <tr>\n",
       "      <th>3</th>\n",
       "      <td>41</td>\n",
       "      <td>0.098558</td>\n",
       "    </tr>\n",
       "    <tr>\n",
       "      <th>5</th>\n",
       "      <td>389</td>\n",
       "      <td>3.601852</td>\n",
       "    </tr>\n",
       "  </tbody>\n",
       "</table>\n",
       "</div>"
      ],
      "text/plain": [
       "   views  views_por_dia\n",
       "0    635       2.243816\n",
       "1  37305     237.611465\n",
       "2     98       0.086344\n",
       "3     41       0.098558\n",
       "5    389       3.601852"
      ]
     },
     "execution_count": 25,
     "metadata": {},
     "output_type": "execute_result"
    }
   ],
   "source": [
    "features.head()"
   ]
  },
  {
   "cell_type": "markdown",
   "metadata": {},
   "source": [
    "## Avaliando efeito do Active Learning"
   ]
  },
  {
   "cell_type": "markdown",
   "metadata": {},
   "source": [
    "### 1º caso: Treino com dados sem active learning e validação com o dataset aumentado (com os dados etiquetados antes e depois)"
   ]
  },
  {
   "cell_type": "code",
   "execution_count": 26,
   "metadata": {},
   "outputs": [],
   "source": [
    "#importando alguns modelos\n",
    "from sklearn.linear_model import LogisticRegression\n",
    "from sklearn.tree import DecisionTreeClassifier\n",
    "from sklearn.model_selection import train_test_split\n",
    "from sklearn.ensemble import RandomForestClassifier"
   ]
  },
  {
   "cell_type": "code",
   "execution_count": 27,
   "metadata": {},
   "outputs": [],
   "source": [
    "#criando sets de treino e validação, separando os dados em 50% (quantil 0.5)\n",
    "mask_train = (df_limpo.data < df_limpo.data.quantile(0.5)) & (df_limpo['novo'] == 0)\n",
    "\n",
    "mask_val = df_limpo.data >= df_limpo.data.quantile(0.5)\n",
    "\n",
    "Xtrain, Xval = features[mask_train], features[mask_val]\n",
    "ytrain, yval = y[mask_train], y[mask_val]"
   ]
  },
  {
   "cell_type": "code",
   "execution_count": 28,
   "metadata": {},
   "outputs": [
    {
     "data": {
      "text/plain": [
       "((255, 2), (302, 2), (255,), (302,))"
      ]
     },
     "execution_count": 28,
     "metadata": {},
     "output_type": "execute_result"
    }
   ],
   "source": [
    "Xtrain.shape, Xval.shape, ytrain.shape, yval.shape"
   ]
  },
  {
   "cell_type": "code",
   "execution_count": 29,
   "metadata": {},
   "outputs": [],
   "source": [
    "from sklearn.feature_extraction.text import TfidfVectorizer\n",
    "\n",
    "title_train = df_limpo[mask_train]['title'] #coletando títulos do set de treino\n",
    "title_val = df_limpo[mask_val]['title'] #coletando títulos do set de validação\n",
    "\n",
    "title_vec = TfidfVectorizer(min_df = 2) #vetorizador. lembrar que modelos não trabalham com strings\n",
    "#ocorrência mínima do termo em 2 vídeos\n",
    "\n",
    "title_bow_train = title_vec.fit_transform(title_train)\n",
    "title_bow_val = title_vec.transform(title_val) #usamos somente transform para transformar somente baseado nas palavras no dataset passado para ele."
   ]
  },
  {
   "cell_type": "code",
   "execution_count": 30,
   "metadata": {},
   "outputs": [
    {
     "data": {
      "text/plain": [
       "(255, 214)"
      ]
     },
     "execution_count": 30,
     "metadata": {},
     "output_type": "execute_result"
    }
   ],
   "source": [
    "title_bow_train.shape  "
   ]
  },
  {
   "cell_type": "code",
   "execution_count": 31,
   "metadata": {},
   "outputs": [],
   "source": [
    "from scipy.sparse import hstack, vstack"
   ]
  },
  {
   "cell_type": "code",
   "execution_count": 32,
   "metadata": {},
   "outputs": [],
   "source": [
    "Xtrain_wtitle = hstack([Xtrain, title_bow_train]) #aqui, juntamos as features de treino em Xtrain com as geradas para os títulos das features de treino\n",
    "Xval_wtitle = hstack([Xval, title_bow_val]) #ídem para validação"
   ]
  },
  {
   "cell_type": "code",
   "execution_count": 33,
   "metadata": {},
   "outputs": [
    {
     "data": {
      "text/plain": [
       "((255, 216), (302, 216))"
      ]
     },
     "execution_count": 33,
     "metadata": {},
     "output_type": "execute_result"
    }
   ],
   "source": [
    "Xtrain_wtitle.shape, Xval_wtitle.shape"
   ]
  },
  {
   "cell_type": "code",
   "execution_count": 34,
   "metadata": {},
   "outputs": [
    {
     "name": "stdout",
     "output_type": "stream",
     "text": [
      "Wall time: 1.89 s\n"
     ]
    },
    {
     "data": {
      "text/plain": [
       "RandomForestClassifier(class_weight='balanced', n_estimators=1000, n_jobs=8,\n",
       "                       random_state=0)"
      ]
     },
     "execution_count": 34,
     "metadata": {},
     "output_type": "execute_result"
    }
   ],
   "source": [
    "%%time\n",
    "#treinando modelo\n",
    "# 1000 árvores\n",
    "\n",
    "mdl = RandomForestClassifier(n_estimators = 1000, random_state = 0, class_weight=\"balanced\", n_jobs=8)\n",
    "mdl.fit(Xtrain_wtitle, ytrain)"
   ]
  },
  {
   "cell_type": "code",
   "execution_count": 35,
   "metadata": {},
   "outputs": [],
   "source": [
    "p = mdl.predict_proba(Xval_wtitle)[:, 1]"
   ]
  },
  {
   "cell_type": "code",
   "execution_count": 36,
   "metadata": {},
   "outputs": [],
   "source": [
    "from sklearn.metrics import roc_auc_score, average_precision_score"
   ]
  },
  {
   "cell_type": "code",
   "execution_count": 37,
   "metadata": {},
   "outputs": [
    {
     "data": {
      "text/plain": [
       "(0.6584134705818345, 0.8734939759036144)"
      ]
     },
     "execution_count": 37,
     "metadata": {},
     "output_type": "execute_result"
    }
   ],
   "source": [
    "# resultado com validação aumentada\n",
    "average_precision_score(yval, p), roc_auc_score(yval, p)"
   ]
  },
  {
   "cell_type": "markdown",
   "metadata": {},
   "source": [
    "Valores anteriores eram:\n",
    "* 0.7411156726976864\n",
    "* 0.9096695226438188\n",
    "- mindf = 2"
   ]
  },
  {
   "cell_type": "markdown",
   "metadata": {},
   "source": [
    "Aqui vemos uma diminuição das métricas, que a princípio não significa muita coisa, devido ao tamanho da amostra de dados."
   ]
  },
  {
   "cell_type": "markdown",
   "metadata": {},
   "source": [
    "### 2º caso: Treino com dados aumentados e validação o dataset inicial (sem os dados etiquetados antes e depois)"
   ]
  },
  {
   "cell_type": "code",
   "execution_count": 39,
   "metadata": {},
   "outputs": [
    {
     "data": {
      "text/plain": [
       "(0.7296859901459777, 0.9039323683873447)"
      ]
     },
     "execution_count": 39,
     "metadata": {},
     "output_type": "execute_result"
    }
   ],
   "source": [
    "#criando sets de treino e validação, separando os dados em 50% (quantil 0.5)\n",
    "mask_train = (df_limpo.data < df_limpo.data.quantile(0.5)) \n",
    "mask_val = (df_limpo.data >= df_limpo.data.quantile(0.5)) & (df_limpo['novo'] == 0)\n",
    "\n",
    "Xtrain, Xval = features[mask_train], features[mask_val]\n",
    "ytrain, yval = y[mask_train], y[mask_val]\n",
    "\n",
    "title_train = df_limpo[mask_train]['title'] #coletando títulos do set de treino\n",
    "title_val = df_limpo[mask_val]['title'] #coletando títulos do set de validação\n",
    "title_vec = TfidfVectorizer(min_df = 2) #vetorizador. lembrar que modelos não trabalham com strings\n",
    "title_bow_train = title_vec.fit_transform(title_train)\n",
    "title_bow_val = title_vec.transform(title_val) #usamos s\n",
    "\n",
    "Xtrain_wtitle = hstack([Xtrain, title_bow_train]) \n",
    "Xval_wtitle = hstack([Xval, title_bow_val])\n",
    "\n",
    "mdl = RandomForestClassifier(n_estimators = 1000, random_state = 0, class_weight=\"balanced\", n_jobs=8)\n",
    "mdl.fit(Xtrain_wtitle, ytrain)\n",
    "\n",
    "\n",
    "p = mdl.predict_proba(Xval_wtitle)[:, 1]\n",
    "\n",
    "#com treino aumentado\n",
    "average_precision_score(yval, p), roc_auc_score(yval, p)\n"
   ]
  },
  {
   "cell_type": "markdown",
   "metadata": {},
   "source": [
    "mais uma vez, os valores \"referência\" eram:\n",
    "    \n",
    "* 0.7411156726976864\n",
    "* 0.9096695226438188\n",
    "- mindf = 2\n",
    "\n",
    "Aqui, houve uma melhora de ambas as métricas em relação ao 1º caso."
   ]
  },
  {
   "cell_type": "markdown",
   "metadata": {},
   "source": [
    "### 3º caso: Treino e validação com os dados aumentados"
   ]
  },
  {
   "cell_type": "code",
   "execution_count": 40,
   "metadata": {},
   "outputs": [
    {
     "data": {
      "text/plain": [
       "(0.6624786239605276, 0.8764491929984087)"
      ]
     },
     "execution_count": 40,
     "metadata": {},
     "output_type": "execute_result"
    }
   ],
   "source": [
    "#criando sets de treino e validação, separando os dados em 50% (quantil 0.5)\n",
    "mask_train = (df_limpo.data < df_limpo.data.quantile(0.5)) \n",
    "mask_val = (df_limpo.data >= df_limpo.data.quantile(0.5))\n",
    "\n",
    "Xtrain, Xval = features[mask_train], features[mask_val]\n",
    "ytrain, yval = y[mask_train], y[mask_val]\n",
    "\n",
    "title_train = df_limpo[mask_train]['title'] #coletando títulos do set de treino\n",
    "title_val = df_limpo[mask_val]['title'] #coletando títulos do set de validação\n",
    "title_vec = TfidfVectorizer(min_df = 2) #vetorizador. lembrar que modelos não trabalham com strings\n",
    "title_bow_train = title_vec.fit_transform(title_train)\n",
    "title_bow_val = title_vec.transform(title_val) #usamos s\n",
    "\n",
    "Xtrain_wtitle = hstack([Xtrain, title_bow_train]) \n",
    "Xval_wtitle = hstack([Xval, title_bow_val])\n",
    "\n",
    "mdl = RandomForestClassifier(n_estimators = 1000, random_state = 0, class_weight=\"balanced\", n_jobs=8)\n",
    "mdl.fit(Xtrain_wtitle, ytrain)\n",
    "\n",
    "\n",
    "p = mdl.predict_proba(Xval_wtitle)[:, 1]\n",
    "\n",
    "#com treino e validação aumentados\n",
    "average_precision_score(yval, p), roc_auc_score(yval, p)"
   ]
  },
  {
   "cell_type": "markdown",
   "metadata": {},
   "source": [
    "Aqui, vemos uma piora nas métricas. Juntando todos os casos, temos:\n",
    "\n",
    "ANTES:  \n",
    "ap, auc  \n",
    "0.7411156726976864, 0.9096695226438188  \n",
    "  \n",
    "TREINO ANTIGO, VALIDAÇÃO AUMENTADA  \n",
    "ap, auc  \n",
    "0.6584134705818345, 0.8734939759036144  \n",
    "  \n",
    "TREINO AUMENTADO, VALIDAÇÃO ANTIGA  \n",
    "ap, auc  \n",
    "0.7296859901459777, 0.9039323683873447  \n",
    "  \n",
    "TREINO E VALIDAÇÃO AUMENTADOS  \n",
    "ap, auc  \n",
    "0.6624786239605276, 0.8764491929984087  \n"
   ]
  },
  {
   "cell_type": "markdown",
   "metadata": {},
   "source": [
    "Conforme o próprio Mário coloca, não cabe comparar as métricas diretamente por que ela são geradas por validações e modelos com dados diferentes. A técnica serve para otimizar a escolha de dados para aumentar um dataset de trabalho, com base no active learning, e melhorar o desempenho de um dado modelo."
   ]
  },
  {
   "cell_type": "markdown",
   "metadata": {},
   "source": [
    "O próximo passo será de modelagem dos dados. Para isso, o resto das linhas no arquivo ./datasets/raw_data_with_labels.xlsx serão anotadas e salvas no novo arquivo ./datasets/raw_data_all_labels.xlsx."
   ]
  }
 ],
 "metadata": {
  "kernelspec": {
   "display_name": "Python 3",
   "language": "python",
   "name": "python3"
  },
  "language_info": {
   "codemirror_mode": {
    "name": "ipython",
    "version": 3
   },
   "file_extension": ".py",
   "mimetype": "text/x-python",
   "name": "python",
   "nbconvert_exporter": "python",
   "pygments_lexer": "ipython3",
   "version": "3.7.6"
  }
 },
 "nbformat": 4,
 "nbformat_minor": 4
}
