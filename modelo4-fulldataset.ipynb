{
 "cells": [
  {
   "cell_type": "markdown",
   "metadata": {},
   "source": [
    "## Modelo 4 - Experimentando modelos em todos os dados\n",
    "\n",
    "(arquivo ./datasets/raw_data_with_all_labels.xlsx)"
   ]
  },
  {
   "cell_type": "code",
   "execution_count": 1,
   "metadata": {},
   "outputs": [
    {
     "name": "stdout",
     "output_type": "stream",
     "text": [
      "Populating the interactive namespace from numpy and matplotlib\n"
     ]
    }
   ],
   "source": [
    "#importando pacotes\n",
    "import pandas as pd\n",
    "import numpy as np\n",
    "import re\n",
    "import time\n",
    "\n",
    "import bs4\n",
    "import json\n",
    "\n",
    "import glob\n",
    "import tqdm\n",
    "\n",
    "pd.set_option(\"max.columns\", 100)\n",
    "\n",
    "#https://strftime.org\n",
    "%matplotlib inline\n",
    "%pylab inline"
   ]
  },
  {
   "cell_type": "code",
   "execution_count": 3,
   "metadata": {},
   "outputs": [],
   "source": [
    "df = pd.read_excel('./datasets/raw_data_with_all_labels.xlsx', index_col=0).dropna(subset=[\"y\"])"
   ]
  },
  {
   "cell_type": "code",
   "execution_count": 6,
   "metadata": {},
   "outputs": [
    {
     "data": {
      "text/html": [
       "<div>\n",
       "<style scoped>\n",
       "    .dataframe tbody tr th:only-of-type {\n",
       "        vertical-align: middle;\n",
       "    }\n",
       "\n",
       "    .dataframe tbody tr th {\n",
       "        vertical-align: top;\n",
       "    }\n",
       "\n",
       "    .dataframe thead th {\n",
       "        text-align: right;\n",
       "    }\n",
       "</style>\n",
       "<table border=\"1\" class=\"dataframe\">\n",
       "  <thead>\n",
       "    <tr style=\"text-align: right;\">\n",
       "      <th></th>\n",
       "      <th>watch-title</th>\n",
       "      <th>y</th>\n",
       "      <th>watch-view-count</th>\n",
       "      <th>view</th>\n",
       "      <th>watch-time-text</th>\n",
       "      <th>watch7-headline</th>\n",
       "      <th>watch8-sentiment-actions</th>\n",
       "      <th>og:image</th>\n",
       "      <th>og:image:width</th>\n",
       "      <th>og:description</th>\n",
       "      <th>og:video:width</th>\n",
       "      <th>og:video:height</th>\n",
       "      <th>og:video:tag</th>\n",
       "      <th>content_watch-info-tag-list</th>\n",
       "      <th>channel_link_0</th>\n",
       "    </tr>\n",
       "  </thead>\n",
       "  <tbody>\n",
       "    <tr>\n",
       "      <th>0</th>\n",
       "      <td>Finanças é Coisa de Criança!</td>\n",
       "      <td>0.0</td>\n",
       "      <td>635 visualizações</td>\n",
       "      <td>NaN</td>\n",
       "      <td>Publicado em 30 de jul. de 2019</td>\n",
       "      <td>#intusforma #institucional #educacao\\n\\n\\n\\n  ...</td>\n",
       "      <td>635 visualizações\\n\\n\\n\\n\\nGostou deste vídeo?...</td>\n",
       "      <td>https://i.ytimg.com/vi/-0HZcKmHXn4/maxresdefau...</td>\n",
       "      <td>1280</td>\n",
       "      <td>Um dos nossos primeiros programas que deram vi...</td>\n",
       "      <td>1280.0</td>\n",
       "      <td>720.0</td>\n",
       "      <td>financasecoisadecrianca</td>\n",
       "      <td>Educação</td>\n",
       "      <td>/channel/UCjE76zhvoDw5hnLtmzFHR-Q</td>\n",
       "    </tr>\n",
       "    <tr>\n",
       "      <th>1</th>\n",
       "      <td>Câncer 2020 - Profissional e Finanças 1° semestre</td>\n",
       "      <td>0.0</td>\n",
       "      <td>37.305 visualizações</td>\n",
       "      <td>NaN</td>\n",
       "      <td>Publicado em 3 de dez. de 2019</td>\n",
       "      <td>#tarô #previsão2020 #profissional2020\\n\\n\\n\\n ...</td>\n",
       "      <td>37.305 visualizações\\n\\n\\n\\n\\n\\n\\n\\n2.550\\n\\nG...</td>\n",
       "      <td>https://i.ytimg.com/vi/-1kS-ZrfcYQ/hqdefault.jpg</td>\n",
       "      <td>480</td>\n",
       "      <td>Previsão primeiro semestre de 2020 profissiona...</td>\n",
       "      <td>1280.0</td>\n",
       "      <td>720.0</td>\n",
       "      <td>tarot câncer 2020 profissional</td>\n",
       "      <td>Pessoas e blogs</td>\n",
       "      <td>/channel/UCL6feH5A7tjCoNTKAkJ9ITQ</td>\n",
       "    </tr>\n",
       "    <tr>\n",
       "      <th>2</th>\n",
       "      <td>Seja Rica: Conquiste sua Independência Financeira</td>\n",
       "      <td>0.0</td>\n",
       "      <td>98 visualizações</td>\n",
       "      <td>NaN</td>\n",
       "      <td>Publicado em 30 de mar. de 2017</td>\n",
       "      <td>Seja Rica: Conquiste sua Independência Financeira</td>\n",
       "      <td>98 visualizações\\n\\n\\n\\n\\n\\n\\n\\n29\\n\\nGostou d...</td>\n",
       "      <td>https://i.ytimg.com/vi/-40s-kunvQM/hqdefault.jpg</td>\n",
       "      <td>480</td>\n",
       "      <td>Seja Rica é o novo quadro aqui do canal. Nesse...</td>\n",
       "      <td>640.0</td>\n",
       "      <td>360.0</td>\n",
       "      <td>Rico</td>\n",
       "      <td>Pessoas e blogs</td>\n",
       "      <td>/channel/UChgFe4WPc8Wx4tJVAdd9-rA</td>\n",
       "    </tr>\n",
       "    <tr>\n",
       "      <th>3</th>\n",
       "      <td>Independência FINANCEIRA</td>\n",
       "      <td>0.0</td>\n",
       "      <td>41 visualizações</td>\n",
       "      <td>NaN</td>\n",
       "      <td>Publicado em 19 de mar. de 2019</td>\n",
       "      <td>Independência FINANCEIRA</td>\n",
       "      <td>41 visualizações\\n\\n\\n\\n\\n\\n\\n\\n17\\n\\nGostou d...</td>\n",
       "      <td>https://i.ytimg.com/vi/-6dz-10LkHc/maxresdefau...</td>\n",
       "      <td>1280</td>\n",
       "      <td>Como conseguir sua independência financeira, m...</td>\n",
       "      <td>1280.0</td>\n",
       "      <td>720.0</td>\n",
       "      <td>pouco</td>\n",
       "      <td>Pessoas e blogs</td>\n",
       "      <td>/channel/UCUH-FVOIrY6IW2hs66A4IFA</td>\n",
       "    </tr>\n",
       "    <tr>\n",
       "      <th>5</th>\n",
       "      <td>6 ERROS para NÃO ter a INDEPENDÊNCIA FINANCEIR...</td>\n",
       "      <td>0.0</td>\n",
       "      <td>389 visualizações</td>\n",
       "      <td>NaN</td>\n",
       "      <td>Publicado em 21 de jan. de 2020</td>\n",
       "      <td>6 ERROS para NÃO ter a INDEPENDÊNCIA FINANCEIR...</td>\n",
       "      <td>389 visualizações\\n\\n\\n\\n\\n\\n\\n\\n86\\n\\nGostou ...</td>\n",
       "      <td>https://i.ytimg.com/vi/-CcyxsGoquk/maxresdefau...</td>\n",
       "      <td>1280</td>\n",
       "      <td>Ano novo, vida financeira nova! A partir de ag...</td>\n",
       "      <td>1280.0</td>\n",
       "      <td>720.0</td>\n",
       "      <td>não ter independência financeira</td>\n",
       "      <td>Educação</td>\n",
       "      <td>/channel/UCu8nmn2Na1wcPUxy7dDqG2A</td>\n",
       "    </tr>\n",
       "  </tbody>\n",
       "</table>\n",
       "</div>"
      ],
      "text/plain": [
       "                                         watch-title    y  \\\n",
       "0                       Finanças é Coisa de Criança!  0.0   \n",
       "1  Câncer 2020 - Profissional e Finanças 1° semestre  0.0   \n",
       "2  Seja Rica: Conquiste sua Independência Financeira  0.0   \n",
       "3                           Independência FINANCEIRA  0.0   \n",
       "5  6 ERROS para NÃO ter a INDEPENDÊNCIA FINANCEIR...  0.0   \n",
       "\n",
       "       watch-view-count view                  watch-time-text  \\\n",
       "0     635 visualizações  NaN  Publicado em 30 de jul. de 2019   \n",
       "1  37.305 visualizações  NaN   Publicado em 3 de dez. de 2019   \n",
       "2      98 visualizações  NaN  Publicado em 30 de mar. de 2017   \n",
       "3      41 visualizações  NaN  Publicado em 19 de mar. de 2019   \n",
       "5     389 visualizações  NaN  Publicado em 21 de jan. de 2020   \n",
       "\n",
       "                                     watch7-headline  \\\n",
       "0  #intusforma #institucional #educacao\\n\\n\\n\\n  ...   \n",
       "1  #tarô #previsão2020 #profissional2020\\n\\n\\n\\n ...   \n",
       "2  Seja Rica: Conquiste sua Independência Financeira   \n",
       "3                           Independência FINANCEIRA   \n",
       "5  6 ERROS para NÃO ter a INDEPENDÊNCIA FINANCEIR...   \n",
       "\n",
       "                            watch8-sentiment-actions  \\\n",
       "0  635 visualizações\\n\\n\\n\\n\\nGostou deste vídeo?...   \n",
       "1  37.305 visualizações\\n\\n\\n\\n\\n\\n\\n\\n2.550\\n\\nG...   \n",
       "2  98 visualizações\\n\\n\\n\\n\\n\\n\\n\\n29\\n\\nGostou d...   \n",
       "3  41 visualizações\\n\\n\\n\\n\\n\\n\\n\\n17\\n\\nGostou d...   \n",
       "5  389 visualizações\\n\\n\\n\\n\\n\\n\\n\\n86\\n\\nGostou ...   \n",
       "\n",
       "                                            og:image  og:image:width  \\\n",
       "0  https://i.ytimg.com/vi/-0HZcKmHXn4/maxresdefau...            1280   \n",
       "1   https://i.ytimg.com/vi/-1kS-ZrfcYQ/hqdefault.jpg             480   \n",
       "2   https://i.ytimg.com/vi/-40s-kunvQM/hqdefault.jpg             480   \n",
       "3  https://i.ytimg.com/vi/-6dz-10LkHc/maxresdefau...            1280   \n",
       "5  https://i.ytimg.com/vi/-CcyxsGoquk/maxresdefau...            1280   \n",
       "\n",
       "                                      og:description  og:video:width  \\\n",
       "0  Um dos nossos primeiros programas que deram vi...          1280.0   \n",
       "1  Previsão primeiro semestre de 2020 profissiona...          1280.0   \n",
       "2  Seja Rica é o novo quadro aqui do canal. Nesse...           640.0   \n",
       "3  Como conseguir sua independência financeira, m...          1280.0   \n",
       "5  Ano novo, vida financeira nova! A partir de ag...          1280.0   \n",
       "\n",
       "   og:video:height                      og:video:tag  \\\n",
       "0            720.0           financasecoisadecrianca   \n",
       "1            720.0    tarot câncer 2020 profissional   \n",
       "2            360.0                              Rico   \n",
       "3            720.0                             pouco   \n",
       "5            720.0  não ter independência financeira   \n",
       "\n",
       "  content_watch-info-tag-list                     channel_link_0  \n",
       "0                    Educação  /channel/UCjE76zhvoDw5hnLtmzFHR-Q  \n",
       "1             Pessoas e blogs  /channel/UCL6feH5A7tjCoNTKAkJ9ITQ  \n",
       "2             Pessoas e blogs  /channel/UChgFe4WPc8Wx4tJVAdd9-rA  \n",
       "3             Pessoas e blogs  /channel/UCUH-FVOIrY6IW2hs66A4IFA  \n",
       "5                    Educação  /channel/UCu8nmn2Na1wcPUxy7dDqG2A  "
      ]
     },
     "execution_count": 6,
     "metadata": {},
     "output_type": "execute_result"
    }
   ],
   "source": [
    "df.head()"
   ]
  },
  {
   "cell_type": "code",
   "execution_count": 5,
   "metadata": {},
   "outputs": [
    {
     "data": {
      "text/plain": [
       "0.0"
      ]
     },
     "execution_count": 5,
     "metadata": {},
     "output_type": "execute_result"
    }
   ],
   "source": [
    "df.duplicated().mean()"
   ]
  },
  {
   "cell_type": "code",
   "execution_count": 7,
   "metadata": {},
   "outputs": [
    {
     "data": {
      "text/plain": [
       "0.0017667844522968198"
      ]
     },
     "execution_count": 7,
     "metadata": {},
     "output_type": "execute_result"
    }
   ],
   "source": [
    "df.duplicated(['watch-title']).mean()"
   ]
  },
  {
   "cell_type": "code",
   "execution_count": 12,
   "metadata": {},
   "outputs": [],
   "source": [
    "df = df[~df.duplicated(['watch-title'], keep=False)]"
   ]
  },
  {
   "cell_type": "code",
   "execution_count": 14,
   "metadata": {},
   "outputs": [
    {
     "data": {
      "text/plain": [
       "0.0"
      ]
     },
     "execution_count": 14,
     "metadata": {},
     "output_type": "execute_result"
    }
   ],
   "source": [
    "df.duplicated(['watch-title']).mean()"
   ]
  },
  {
   "cell_type": "code",
   "execution_count": 13,
   "metadata": {},
   "outputs": [
    {
     "data": {
      "text/plain": [
       "(564, 15)"
      ]
     },
     "execution_count": 13,
     "metadata": {},
     "output_type": "execute_result"
    }
   ],
   "source": [
    "df.shape"
   ]
  },
  {
   "cell_type": "code",
   "execution_count": 16,
   "metadata": {},
   "outputs": [],
   "source": [
    "#criando dataframe com os índices do df_labeled\n",
    "df_limpo = pd.DataFrame(index = df.index)"
   ]
  },
  {
   "cell_type": "code",
   "execution_count": 19,
   "metadata": {},
   "outputs": [],
   "source": [
    "df_limpo['title'] = df['watch-title']"
   ]
  },
  {
   "cell_type": "markdown",
   "metadata": {},
   "source": [
    "## Limpando os dados"
   ]
  },
  {
   "cell_type": "code",
   "execution_count": 24,
   "metadata": {},
   "outputs": [
    {
     "data": {
      "text/plain": [
       "0    Publicado em 30 de jul. de 2019\n",
       "1     Publicado em 3 de dez. de 2019\n",
       "2    Publicado em 30 de mar. de 2017\n",
       "3    Publicado em 19 de mar. de 2019\n",
       "5    Publicado em 21 de jan. de 2020\n",
       "Name: watch-time-text, dtype: object"
      ]
     },
     "execution_count": 24,
     "metadata": {},
     "output_type": "execute_result"
    }
   ],
   "source": [
    "#formato da data de publicação no dataframe com labels:\n",
    "df['watch-time-text'].head()"
   ]
  },
  {
   "cell_type": "code",
   "execution_count": 20,
   "metadata": {},
   "outputs": [],
   "source": [
    "map_mes = {'jan.':'Jan',\n",
    "             'fev.':'Feb',\n",
    "              'mar.':'Mar',\n",
    "              'abr.':'Apr',\n",
    "              'mai.':'May',\n",
    "              'jun.':'Jun',\n",
    "              'jul.':'Jul',\n",
    "              'ago.':'Aug',\n",
    "              'set.':'Sep',\n",
    "              'out.':'Oct',\n",
    "              'nov.':'Nov',\n",
    "              'dez.':'Dec'}"
   ]
  },
  {
   "cell_type": "code",
   "execution_count": 21,
   "metadata": {},
   "outputs": [],
   "source": [
    "def limpa_data (row):\n",
    "    \n",
    "    data_limpa = re.search(r\"(\\d+) de ([a-z]+)\\. de (\\d+)\", row.loc['watch-time-text']).group()\n",
    "    data_limpa = data_limpa.split('de ')\n",
    "    data_limpa = [x.strip() for x in data_limpa]\n",
    "    data_limpa[0] = ['0' + str(data_limpa[0]) if len(data_limpa[0]) == 1 else data_limpa[0]][0]\n",
    "    data_limpa[1] = [v for k, v in map_mes.items() if k == data_limpa[1]][0]\n",
    "    data = '-'.join(data_limpa)\n",
    "\n",
    "    return data"
   ]
  },
  {
   "cell_type": "code",
   "execution_count": 25,
   "metadata": {},
   "outputs": [
    {
     "name": "stderr",
     "output_type": "stream",
     "text": [
      "d:\\solucao completa de ds - mario filho\\projeto\\.env\\lib\\site-packages\\ipykernel_launcher.py:1: SettingWithCopyWarning: \n",
      "A value is trying to be set on a copy of a slice from a DataFrame.\n",
      "Try using .loc[row_indexer,col_indexer] = value instead\n",
      "\n",
      "See the caveats in the documentation: https://pandas.pydata.org/pandas-docs/stable/user_guide/indexing.html#returning-a-view-versus-a-copy\n",
      "  \"\"\"Entry point for launching an IPython kernel.\n"
     ]
    }
   ],
   "source": [
    "df['data'] = df.apply(limpa_data, axis=1)"
   ]
  },
  {
   "cell_type": "code",
   "execution_count": 28,
   "metadata": {},
   "outputs": [],
   "source": [
    "df_limpo['data'] = pd.to_datetime(df['data']).copy()"
   ]
  },
  {
   "cell_type": "code",
   "execution_count": 29,
   "metadata": {},
   "outputs": [
    {
     "data": {
      "text/plain": [
       "0       635 visualizações\n",
       "1    37.305 visualizações\n",
       "2        98 visualizações\n",
       "3        41 visualizações\n",
       "5       389 visualizações\n",
       "Name: watch-view-count, dtype: object"
      ]
     },
     "execution_count": 29,
     "metadata": {},
     "output_type": "execute_result"
    }
   ],
   "source": [
    "#coluna com informação de views\n",
    "df['watch-view-count'].head()"
   ]
  },
  {
   "cell_type": "code",
   "execution_count": 32,
   "metadata": {},
   "outputs": [],
   "source": [
    "#adicionando coluna com view count formatado\n",
    "df_limpo['views'] = df['watch-view-count'].str.extract(r\"(\\d+\\.?\\d*)\", expand=False).str.replace(\".\",\"\").fillna(0).astype(int)"
   ]
  },
  {
   "cell_type": "markdown",
   "metadata": {},
   "source": [
    "## Criando Features"
   ]
  },
  {
   "cell_type": "code",
   "execution_count": 33,
   "metadata": {},
   "outputs": [
    {
     "data": {
      "text/html": [
       "<div>\n",
       "<style scoped>\n",
       "    .dataframe tbody tr th:only-of-type {\n",
       "        vertical-align: middle;\n",
       "    }\n",
       "\n",
       "    .dataframe tbody tr th {\n",
       "        vertical-align: top;\n",
       "    }\n",
       "\n",
       "    .dataframe thead th {\n",
       "        text-align: right;\n",
       "    }\n",
       "</style>\n",
       "<table border=\"1\" class=\"dataframe\">\n",
       "  <thead>\n",
       "    <tr style=\"text-align: right;\">\n",
       "      <th></th>\n",
       "      <th>title</th>\n",
       "      <th>data</th>\n",
       "      <th>views</th>\n",
       "    </tr>\n",
       "  </thead>\n",
       "  <tbody>\n",
       "    <tr>\n",
       "      <th>0</th>\n",
       "      <td>Finanças é Coisa de Criança!</td>\n",
       "      <td>2019-07-30</td>\n",
       "      <td>635</td>\n",
       "    </tr>\n",
       "    <tr>\n",
       "      <th>1</th>\n",
       "      <td>Câncer 2020 - Profissional e Finanças 1° semestre</td>\n",
       "      <td>2019-12-03</td>\n",
       "      <td>37305</td>\n",
       "    </tr>\n",
       "    <tr>\n",
       "      <th>2</th>\n",
       "      <td>Seja Rica: Conquiste sua Independência Financeira</td>\n",
       "      <td>2017-03-30</td>\n",
       "      <td>98</td>\n",
       "    </tr>\n",
       "    <tr>\n",
       "      <th>3</th>\n",
       "      <td>Independência FINANCEIRA</td>\n",
       "      <td>2019-03-19</td>\n",
       "      <td>41</td>\n",
       "    </tr>\n",
       "    <tr>\n",
       "      <th>5</th>\n",
       "      <td>6 ERROS para NÃO ter a INDEPENDÊNCIA FINANCEIR...</td>\n",
       "      <td>2020-01-21</td>\n",
       "      <td>389</td>\n",
       "    </tr>\n",
       "  </tbody>\n",
       "</table>\n",
       "</div>"
      ],
      "text/plain": [
       "                                               title       data  views\n",
       "0                       Finanças é Coisa de Criança! 2019-07-30    635\n",
       "1  Câncer 2020 - Profissional e Finanças 1° semestre 2019-12-03  37305\n",
       "2  Seja Rica: Conquiste sua Independência Financeira 2017-03-30     98\n",
       "3                           Independência FINANCEIRA 2019-03-19     41\n",
       "5  6 ERROS para NÃO ter a INDEPENDÊNCIA FINANCEIR... 2020-01-21    389"
      ]
     },
     "execution_count": 33,
     "metadata": {},
     "output_type": "execute_result"
    }
   ],
   "source": [
    "df_limpo.head()"
   ]
  },
  {
   "cell_type": "code",
   "execution_count": 34,
   "metadata": {},
   "outputs": [],
   "source": [
    "#criando dataframe para as features:\n",
    "features = pd.DataFrame(index=df_limpo.index)\n",
    "#criando série com as labels\n",
    "y = df['y'].copy()"
   ]
  },
  {
   "cell_type": "code",
   "execution_count": 35,
   "metadata": {},
   "outputs": [],
   "source": [
    "#criando coluna com dias que se passaram desde a publicação até a data referência\n",
    "features['dias_publicado'] = (pd.to_datetime(\"2020-05-08\") - df_limpo['data']) / np.timedelta64(1, 'D') #denominador cria um objeto timedelta do numpy em diferença de 1 dia\n",
    "\n",
    "#adicionando a coluna de views ao dataframe features\n",
    "features['views'] = df_limpo['views']\n",
    "\n",
    "#calculando views por dia\n",
    "features['views_por_dia'] = features['views']/features['dias_publicado']\n",
    "\n",
    "# retirando coluna de dias após publicação (para explicação, ver notebook para modelo1)\n",
    "features = features.drop('dias_publicado', axis = 1)"
   ]
  },
  {
   "cell_type": "code",
   "execution_count": 37,
   "metadata": {},
   "outputs": [
    {
     "data": {
      "text/html": [
       "<div>\n",
       "<style scoped>\n",
       "    .dataframe tbody tr th:only-of-type {\n",
       "        vertical-align: middle;\n",
       "    }\n",
       "\n",
       "    .dataframe tbody tr th {\n",
       "        vertical-align: top;\n",
       "    }\n",
       "\n",
       "    .dataframe thead th {\n",
       "        text-align: right;\n",
       "    }\n",
       "</style>\n",
       "<table border=\"1\" class=\"dataframe\">\n",
       "  <thead>\n",
       "    <tr style=\"text-align: right;\">\n",
       "      <th></th>\n",
       "      <th>views</th>\n",
       "      <th>views_por_dia</th>\n",
       "    </tr>\n",
       "  </thead>\n",
       "  <tbody>\n",
       "    <tr>\n",
       "      <th>0</th>\n",
       "      <td>635</td>\n",
       "      <td>2.243816</td>\n",
       "    </tr>\n",
       "    <tr>\n",
       "      <th>1</th>\n",
       "      <td>37305</td>\n",
       "      <td>237.611465</td>\n",
       "    </tr>\n",
       "    <tr>\n",
       "      <th>2</th>\n",
       "      <td>98</td>\n",
       "      <td>0.086344</td>\n",
       "    </tr>\n",
       "    <tr>\n",
       "      <th>3</th>\n",
       "      <td>41</td>\n",
       "      <td>0.098558</td>\n",
       "    </tr>\n",
       "    <tr>\n",
       "      <th>5</th>\n",
       "      <td>389</td>\n",
       "      <td>3.601852</td>\n",
       "    </tr>\n",
       "  </tbody>\n",
       "</table>\n",
       "</div>"
      ],
      "text/plain": [
       "   views  views_por_dia\n",
       "0    635       2.243816\n",
       "1  37305     237.611465\n",
       "2     98       0.086344\n",
       "3     41       0.098558\n",
       "5    389       3.601852"
      ]
     },
     "execution_count": 37,
     "metadata": {},
     "output_type": "execute_result"
    }
   ],
   "source": [
    "features.head()"
   ]
  },
  {
   "cell_type": "code",
   "execution_count": 38,
   "metadata": {},
   "outputs": [
    {
     "data": {
      "text/plain": [
       "((282, 2), (282, 2), (282,), (282,))"
      ]
     },
     "execution_count": 38,
     "metadata": {},
     "output_type": "execute_result"
    }
   ],
   "source": [
    "#criando sets de treino e validação, separando os dados em 50% (quantil 0.5)\n",
    "mask_train = df_limpo.data < df_limpo.data.quantile(0.5)\n",
    "mask_val = df_limpo.data >= df_limpo.data.quantile(0.5)\n",
    "\n",
    "Xtrain, Xval = features[mask_train], features[mask_val]\n",
    "ytrain, yval = y[mask_train], y[mask_val]\n",
    "Xtrain.shape, Xval.shape, ytrain.shape, yval.shape"
   ]
  },
  {
   "cell_type": "code",
   "execution_count": 88,
   "metadata": {},
   "outputs": [],
   "source": [
    "from sklearn.feature_extraction.text import TfidfVectorizer\n",
    "\n",
    "title_train = df_limpo[mask_train]['title'] #coletando títulos do set de treino\n",
    "title_val = df_limpo[mask_val]['title'] #coletando títulos do set de validação\n",
    "\n",
    "title_vec = TfidfVectorizer(min_df = 2, ngram_range=(1,3)) #vetorizador. lembrar que modelos não trabalham com strings\n",
    "#ocorrência mínima do termo em 2 vídeos\n",
    "\n",
    "title_bow_train = title_vec.fit_transform(title_train)\n",
    "title_bow_val = title_vec.transform(title_val) #usamos somente transform para transformar somente baseado nas palavras no dataset passado para ele."
   ]
  },
  {
   "cell_type": "code",
   "execution_count": 89,
   "metadata": {},
   "outputs": [
    {
     "data": {
      "text/plain": [
       "(282, 497)"
      ]
     },
     "execution_count": 89,
     "metadata": {},
     "output_type": "execute_result"
    }
   ],
   "source": [
    "title_bow_train.shape  "
   ]
  },
  {
   "cell_type": "markdown",
   "metadata": {},
   "source": [
    "Mais sobre Tf iDF [aqui](https://scikit-learn.org/stable/modules/feature_extraction.html#text-feature-extraction).\n",
    "O resultado acima indica que foram criadas 497 colunas no title_bow_train. Cada coluna é um vetor para cada palavra do título. O formato será uma matriz esparsa (só armazena valores maiores que zero), do scipy."
   ]
  },
  {
   "cell_type": "code",
   "execution_count": 90,
   "metadata": {},
   "outputs": [
    {
     "data": {
      "text/plain": [
       "<282x497 sparse matrix of type '<class 'numpy.float64'>'\n",
       "\twith 2584 stored elements in Compressed Sparse Row format>"
      ]
     },
     "execution_count": 90,
     "metadata": {},
     "output_type": "execute_result"
    }
   ],
   "source": [
    "title_bow_train"
   ]
  },
  {
   "cell_type": "markdown",
   "metadata": {},
   "source": [
    "A matriz criada para title_bow_train armazenou 1411 valores na mmemória. Se fosse armazenar todos os valores, teríamos:"
   ]
  },
  {
   "cell_type": "markdown",
   "metadata": {},
   "source": [
    "Para juntar as features de texto com as numéricas, deve-se usar a função hstack do scipy.sparse (hstack e vstack permitem lidar com matrizes esparsas com mais eficiência.\n",
    "Vamos juntas as features para poder treinar o novo modelo. Mais sobre scipy sparse [aqui](https://docs.scipy.org/doc/scipy/reference/sparse.html)."
   ]
  },
  {
   "cell_type": "code",
   "execution_count": 91,
   "metadata": {},
   "outputs": [],
   "source": [
    "from scipy.sparse import hstack, vstack"
   ]
  },
  {
   "cell_type": "code",
   "execution_count": 92,
   "metadata": {},
   "outputs": [],
   "source": [
    "Xtrain_wtitle = hstack([Xtrain, title_bow_train]) #aqui, juntamos as features de treino em Xtrain com as geradas para os títulos das features de treino\n",
    "Xval_wtitle = hstack([Xval, title_bow_val]) #ídem para validação"
   ]
  },
  {
   "cell_type": "code",
   "execution_count": 93,
   "metadata": {},
   "outputs": [
    {
     "data": {
      "text/plain": [
       "((282, 499), (282, 499))"
      ]
     },
     "execution_count": 93,
     "metadata": {},
     "output_type": "execute_result"
    }
   ],
   "source": [
    "# o total de colunas será a soma das colunas das features numéricas com as de texto (2 + 211 = 213)\n",
    "Xtrain_wtitle.shape, Xval_wtitle.shape"
   ]
  },
  {
   "cell_type": "code",
   "execution_count": 94,
   "metadata": {},
   "outputs": [],
   "source": [
    "#importando alguns modelos\n",
    "from sklearn.linear_model import LogisticRegression\n",
    "from sklearn.tree import DecisionTreeClassifier\n",
    "from sklearn.model_selection import train_test_split\n",
    "from sklearn.ensemble import RandomForestClassifier"
   ]
  },
  {
   "cell_type": "code",
   "execution_count": 95,
   "metadata": {},
   "outputs": [
    {
     "name": "stdout",
     "output_type": "stream",
     "text": [
      "Wall time: 1.65 s\n"
     ]
    },
    {
     "data": {
      "text/plain": [
       "RandomForestClassifier(class_weight='balanced', n_estimators=1000, n_jobs=8,\n",
       "                       random_state=0)"
      ]
     },
     "execution_count": 95,
     "metadata": {},
     "output_type": "execute_result"
    }
   ],
   "source": [
    "%%time\n",
    "#treinando modelo\n",
    "# 1000 árvores\n",
    "\n",
    "mdl = RandomForestClassifier(n_estimators = 1000, min_samples_leaf=1, random_state = 0, class_weight=\"balanced\", n_jobs=8)\n",
    "mdl.fit(Xtrain_wtitle, ytrain)"
   ]
  },
  {
   "cell_type": "markdown",
   "metadata": {},
   "source": [
    "## Calculando as novas métricas de referência"
   ]
  },
  {
   "cell_type": "code",
   "execution_count": 96,
   "metadata": {},
   "outputs": [],
   "source": [
    "p = mdl.predict_proba(Xval_wtitle)[:, 1]"
   ]
  },
  {
   "cell_type": "code",
   "execution_count": 97,
   "metadata": {},
   "outputs": [],
   "source": [
    "from sklearn.metrics import roc_auc_score, average_precision_score"
   ]
  },
  {
   "cell_type": "code",
   "execution_count": 98,
   "metadata": {},
   "outputs": [
    {
     "data": {
      "text/plain": [
       "0.7094600167650358"
      ]
     },
     "execution_count": 98,
     "metadata": {},
     "output_type": "execute_result"
    }
   ],
   "source": [
    "average_precision_score(yval, p)"
   ]
  },
  {
   "cell_type": "code",
   "execution_count": 99,
   "metadata": {},
   "outputs": [
    {
     "data": {
      "text/plain": [
       "0.8830196235482579"
      ]
     },
     "execution_count": 99,
     "metadata": {},
     "output_type": "execute_result"
    }
   ],
   "source": [
    "roc_auc_score(yval, p)"
   ]
  },
  {
   "cell_type": "code",
   "execution_count": 100,
   "metadata": {},
   "outputs": [],
   "source": [
    "metricas = pd.DataFrame([['Random Forest', average_precision_score(yval, p), roc_auc_score(yval, p) ]], columns = ['modelo', 'avg_pre', 'roc_auc'])"
   ]
  },
  {
   "cell_type": "code",
   "execution_count": 101,
   "metadata": {},
   "outputs": [
    {
     "data": {
      "text/html": [
       "<div>\n",
       "<style scoped>\n",
       "    .dataframe tbody tr th:only-of-type {\n",
       "        vertical-align: middle;\n",
       "    }\n",
       "\n",
       "    .dataframe tbody tr th {\n",
       "        vertical-align: top;\n",
       "    }\n",
       "\n",
       "    .dataframe thead th {\n",
       "        text-align: right;\n",
       "    }\n",
       "</style>\n",
       "<table border=\"1\" class=\"dataframe\">\n",
       "  <thead>\n",
       "    <tr style=\"text-align: right;\">\n",
       "      <th></th>\n",
       "      <th>modelo</th>\n",
       "      <th>avg_pre</th>\n",
       "      <th>roc_auc</th>\n",
       "    </tr>\n",
       "  </thead>\n",
       "  <tbody>\n",
       "    <tr>\n",
       "      <th>0</th>\n",
       "      <td>Random Forest</td>\n",
       "      <td>0.70946</td>\n",
       "      <td>0.88302</td>\n",
       "    </tr>\n",
       "  </tbody>\n",
       "</table>\n",
       "</div>"
      ],
      "text/plain": [
       "          modelo  avg_pre  roc_auc\n",
       "0  Random Forest  0.70946  0.88302"
      ]
     },
     "execution_count": 101,
     "metadata": {},
     "output_type": "execute_result"
    }
   ],
   "source": [
    "metricas"
   ]
  },
  {
   "cell_type": "markdown",
   "metadata": {},
   "source": [
    "## Treinando com LightGBM\n",
    "Geralmente performa melhor que a random forest, mas requer tuning de mais parâmetros"
   ]
  },
  {
   "cell_type": "code",
   "execution_count": 104,
   "metadata": {},
   "outputs": [],
   "source": [
    "from lightgbm import LGBMClassifier"
   ]
  },
  {
   "cell_type": "code",
   "execution_count": 105,
   "metadata": {},
   "outputs": [],
   "source": [
    "mdl2 = LGBMClassifier(randomstate=0, class_weight=\"balanced\", n_jobs=8)"
   ]
  },
  {
   "cell_type": "code",
   "execution_count": 106,
   "metadata": {},
   "outputs": [
    {
     "data": {
      "text/plain": [
       "LGBMClassifier(class_weight='balanced', n_jobs=8, randomstate=0)"
      ]
     },
     "execution_count": 106,
     "metadata": {},
     "output_type": "execute_result"
    }
   ],
   "source": [
    "mdl2.fit(Xtrain_wtitle, ytrain)"
   ]
  },
  {
   "cell_type": "code",
   "execution_count": 110,
   "metadata": {},
   "outputs": [
    {
     "name": "stderr",
     "output_type": "stream",
     "text": [
      "d:\\solucao completa de ds - mario filho\\projeto\\.env\\lib\\site-packages\\lightgbm\\basic.py:546: UserWarning: Converting data to scipy sparse matrix.\n",
      "  warnings.warn('Converting data to scipy sparse matrix.')\n"
     ]
    }
   ],
   "source": [
    "p2 = mdl2.predict_proba(Xval_wtitle)[:, 1]"
   ]
  },
  {
   "cell_type": "code",
   "execution_count": 111,
   "metadata": {},
   "outputs": [
    {
     "data": {
      "text/plain": [
       "0.6631167492370266"
      ]
     },
     "execution_count": 111,
     "metadata": {},
     "output_type": "execute_result"
    }
   ],
   "source": [
    "average_precision_score(yval, p2)"
   ]
  },
  {
   "cell_type": "code",
   "execution_count": 112,
   "metadata": {},
   "outputs": [
    {
     "data": {
      "text/plain": [
       "0.8796155386463756"
      ]
     },
     "execution_count": 112,
     "metadata": {},
     "output_type": "execute_result"
    }
   ],
   "source": [
    "roc_auc_score(yval, p2)"
   ]
  },
  {
   "cell_type": "markdown",
   "metadata": {},
   "source": [
    "## Bayesian optimization\n",
    "Passar algumas combinações de parâmetros para os modelos a fim de encontrar alguma que retorne resultado satisfatório para um espaço de tempo pequeno."
   ]
  },
  {
   "cell_type": "code",
   "execution_count": 114,
   "metadata": {},
   "outputs": [],
   "source": [
    "from skopt import forest_minimize"
   ]
  },
  {
   "cell_type": "code",
   "execution_count": 123,
   "metadata": {},
   "outputs": [],
   "source": [
    "def tune_lgbm(params):\n",
    "    print(params)\n",
    "    lr=params[0]\n",
    "    max_depth=params[1]\n",
    "    min_child_samples=params[2]\n",
    "    subsample=params[3] #pega uma amostra dos dados a cada rodada de treino para diminuir overfitting\n",
    "    colsample_bytree=params[4]\n",
    "    n_estimators=params[5]\n",
    "    \n",
    "    min_df=params[6]\n",
    "    ngram_range=(1, params[7])\n",
    "    \n",
    "    title_vec = TfidfVectorizer(min_df = min_df, ngram_range=ngram_range) \n",
    "    title_bow_train = title_vec.fit_transform(title_train)\n",
    "    title_bow_val = title_vec.transform(title_val) \n",
    "    \n",
    "    Xtrain_wtitle = hstack([Xtrain, title_bow_train]) \n",
    "    Xval_wtitle = hstack([Xval, title_bow_val])\n",
    "    \n",
    "    mdl =LGBMClassifier(learning_rate=lr, num_leaves=2 ** max_depth, max_depth = max_depth, min_child_samples = min_child_samples,\n",
    "                       subsample = subsample, colsample_bytree = colsample_bytree, bagging_freq = 1, n_estimators = n_estimators,\n",
    "                       random_state=0, class_weight = 'balanced', n_jobs = 8)\n",
    "    \n",
    "    mdl.fit(Xtrain_wtitle, ytrain)\n",
    "    \n",
    "    p = mdl.predict_proba(Xval_wtitle)[:, 1]\n",
    "    \n",
    "    print(roc_auc_score(yval, p))\n",
    "    \n",
    "    return -average_precision_score(yval, p) #o forest_minimize vai minizar a métrica. Logo, para maximizar, vamos passar a negativa\n",
    "\n"
   ]
  },
  {
   "cell_type": "code",
   "execution_count": 125,
   "metadata": {},
   "outputs": [],
   "source": [
    "space =[(1e-3, 1e-1, 'log-uniform'), #lr #log-uniform para pegar com mais chances números mais próximos de 1e-3.\n",
    "       (1, 10), #max_depth\n",
    "       (1, 20), #min_child_sample\n",
    "       (0.05, 1.), #subsample\n",
    "       (0.05, 1.), #colsample_bytree\n",
    "       (100, 1000), #n_estimators\n",
    "       (1, 5), #min_df\n",
    "       (1, 5)] #ngram_range\n",
    "\n",
    "\n",
    " "
   ]
  },
  {
   "cell_type": "code",
   "execution_count": 126,
   "metadata": {},
   "outputs": [
    {
     "name": "stdout",
     "output_type": "stream",
     "text": [
      "Iteration No: 1 started. Evaluating function at random point.\n",
      "[0.009944912110647982, 5, 1, 0.4677107511929402, 0.49263223036174764, 272, 3, 1]\n",
      "0.8595915098117741\n",
      "Iteration No: 1 ended. Evaluation done at random point.\n",
      "Time taken: 0.1260\n",
      "Function value obtained: -0.6669\n",
      "Current minimum: -0.6669\n",
      "Iteration No: 2 started. Evaluating function at random point.\n",
      "[0.053887464791860025, 1, 15, 0.7437489153990157, 0.8675167974293533, 549, 3, 4]\n"
     ]
    },
    {
     "name": "stderr",
     "output_type": "stream",
     "text": [
      "d:\\solucao completa de ds - mario filho\\projeto\\.env\\lib\\site-packages\\lightgbm\\basic.py:546: UserWarning: Converting data to scipy sparse matrix.\n",
      "  warnings.warn('Converting data to scipy sparse matrix.')\n",
      "d:\\solucao completa de ds - mario filho\\projeto\\.env\\lib\\site-packages\\lightgbm\\basic.py:546: UserWarning: Converting data to scipy sparse matrix.\n",
      "  warnings.warn('Converting data to scipy sparse matrix.')\n",
      "d:\\solucao completa de ds - mario filho\\projeto\\.env\\lib\\site-packages\\lightgbm\\basic.py:546: UserWarning: Converting data to scipy sparse matrix.\n",
      "  warnings.warn('Converting data to scipy sparse matrix.')\n"
     ]
    },
    {
     "name": "stdout",
     "output_type": "stream",
     "text": [
      "0.8478173808570285\n",
      "Iteration No: 2 ended. Evaluation done at random point.\n",
      "Time taken: 0.0908\n",
      "Function value obtained: -0.6188\n",
      "Current minimum: -0.6669\n",
      "Iteration No: 3 started. Evaluating function at random point.\n",
      "[0.004151454520895999, 6, 20, 0.8682075103820793, 0.9491436163200662, 411, 4, 3]\n",
      "0.8656387665198239\n",
      "Iteration No: 3 ended. Evaluation done at random point.\n",
      "Time taken: 0.1067\n",
      "Function value obtained: -0.6888\n",
      "Current minimum: -0.6888\n",
      "Iteration No: 4 started. Evaluating function at random point.\n",
      "[0.0014099928811969545, 9, 9, 0.6502182010234373, 0.6866210554187129, 828, 5, 2]\n"
     ]
    },
    {
     "name": "stderr",
     "output_type": "stream",
     "text": [
      "d:\\solucao completa de ds - mario filho\\projeto\\.env\\lib\\site-packages\\lightgbm\\basic.py:546: UserWarning: Converting data to scipy sparse matrix.\n",
      "  warnings.warn('Converting data to scipy sparse matrix.')\n",
      "d:\\solucao completa de ds - mario filho\\projeto\\.env\\lib\\site-packages\\lightgbm\\basic.py:546: UserWarning: Converting data to scipy sparse matrix.\n",
      "  warnings.warn('Converting data to scipy sparse matrix.')\n"
     ]
    },
    {
     "name": "stdout",
     "output_type": "stream",
     "text": [
      "0.877693231878254\n",
      "Iteration No: 4 ended. Evaluation done at random point.\n",
      "Time taken: 0.3221\n",
      "Function value obtained: -0.6964\n",
      "Current minimum: -0.6964\n",
      "Iteration No: 5 started. Evaluating function at random point.\n",
      "[0.08530558241838007, 8, 19, 0.2137736299768322, 0.1313765544201984, 961, 4, 1]\n",
      "0.7895474569483381\n",
      "Iteration No: 5 ended. Evaluation done at random point.\n",
      "Time taken: 0.0828\n",
      "Function value obtained: -0.3957\n",
      "Current minimum: -0.6964\n",
      "Iteration No: 6 started. Evaluating function at random point.\n",
      "[0.003567949451535685, 10, 19, 0.7232951768944309, 0.7298538828427115, 939, 4, 3]\n"
     ]
    },
    {
     "name": "stderr",
     "output_type": "stream",
     "text": [
      "d:\\solucao completa de ds - mario filho\\projeto\\.env\\lib\\site-packages\\lightgbm\\basic.py:546: UserWarning: Converting data to scipy sparse matrix.\n",
      "  warnings.warn('Converting data to scipy sparse matrix.')\n"
     ]
    },
    {
     "name": "stdout",
     "output_type": "stream",
     "text": [
      "0.8800560672807369\n",
      "Iteration No: 6 ended. Evaluation done at random point.\n",
      "Time taken: 0.2314\n",
      "Function value obtained: -0.7038\n",
      "Current minimum: -0.7038\n",
      "Iteration No: 7 started. Evaluating function at random point.\n",
      "[0.014828577273549474, 7, 1, 0.18428087097824575, 0.3261556557915816, 274, 1, 2]\n"
     ]
    },
    {
     "name": "stderr",
     "output_type": "stream",
     "text": [
      "d:\\solucao completa de ds - mario filho\\projeto\\.env\\lib\\site-packages\\lightgbm\\basic.py:546: UserWarning: Converting data to scipy sparse matrix.\n",
      "  warnings.warn('Converting data to scipy sparse matrix.')\n",
      "d:\\solucao completa de ds - mario filho\\projeto\\.env\\lib\\site-packages\\lightgbm\\basic.py:546: UserWarning: Converting data to scipy sparse matrix.\n",
      "  warnings.warn('Converting data to scipy sparse matrix.')\n"
     ]
    },
    {
     "name": "stdout",
     "output_type": "stream",
     "text": [
      "0.8732879455346415\n",
      "Iteration No: 7 ended. Evaluation done at random point.\n",
      "Time taken: 0.2204\n",
      "Function value obtained: -0.6462\n",
      "Current minimum: -0.7038\n",
      "Iteration No: 8 started. Evaluating function at random point.\n",
      "[0.0015212976972079912, 3, 12, 0.44234694306528044, 0.399351303640462, 272, 3, 5]\n",
      "0.8824989987985583\n",
      "Iteration No: 8 ended. Evaluation done at random point.\n",
      "Time taken: 0.0828\n",
      "Function value obtained: -0.7017\n",
      "Current minimum: -0.7038\n",
      "Iteration No: 9 started. Evaluating function at random point.\n",
      "[0.01946212855369041, 9, 18, 0.5235636153223084, 0.6728679300083596, 747, 4, 5]\n"
     ]
    },
    {
     "name": "stderr",
     "output_type": "stream",
     "text": [
      "d:\\solucao completa de ds - mario filho\\projeto\\.env\\lib\\site-packages\\lightgbm\\basic.py:546: UserWarning: Converting data to scipy sparse matrix.\n",
      "  warnings.warn('Converting data to scipy sparse matrix.')\n",
      "d:\\solucao completa de ds - mario filho\\projeto\\.env\\lib\\site-packages\\lightgbm\\basic.py:546: UserWarning: Converting data to scipy sparse matrix.\n",
      "  warnings.warn('Converting data to scipy sparse matrix.')\n"
     ]
    },
    {
     "name": "stdout",
     "output_type": "stream",
     "text": [
      "0.8541049259110932\n",
      "Iteration No: 9 ended. Evaluation done at random point.\n",
      "Time taken: 0.1576\n",
      "Function value obtained: -0.6513\n",
      "Current minimum: -0.7038\n",
      "Iteration No: 10 started. Evaluating function at random point.\n",
      "[0.0012116790683302117, 3, 2, 0.06616307483844217, 0.23025600705315752, 677, 2, 5]\n",
      "0.8803364036844213\n",
      "Iteration No: 10 ended. Evaluation done at random point.\n",
      "Time taken: 0.1356\n",
      "Function value obtained: -0.6909\n",
      "Current minimum: -0.7038\n",
      "Iteration No: 11 started. Evaluating function at random point.\n",
      "[0.0053139776214487944, 6, 9, 0.14251441334450304, 0.8175761405215897, 297, 1, 5]\n"
     ]
    },
    {
     "name": "stderr",
     "output_type": "stream",
     "text": [
      "d:\\solucao completa de ds - mario filho\\projeto\\.env\\lib\\site-packages\\lightgbm\\basic.py:546: UserWarning: Converting data to scipy sparse matrix.\n",
      "  warnings.warn('Converting data to scipy sparse matrix.')\n",
      "d:\\solucao completa de ds - mario filho\\projeto\\.env\\lib\\site-packages\\lightgbm\\basic.py:546: UserWarning: Converting data to scipy sparse matrix.\n",
      "  warnings.warn('Converting data to scipy sparse matrix.')\n",
      "d:\\solucao completa de ds - mario filho\\projeto\\.env\\lib\\site-packages\\lightgbm\\basic.py:546: UserWarning: Converting data to scipy sparse matrix.\n",
      "  warnings.warn('Converting data to scipy sparse matrix.')\n"
     ]
    },
    {
     "name": "stdout",
     "output_type": "stream",
     "text": [
      "0.8676812174609532\n",
      "Iteration No: 11 ended. Evaluation done at random point.\n",
      "Time taken: 0.1057\n",
      "Function value obtained: -0.6033\n",
      "Current minimum: -0.7038\n",
      "Iteration No: 12 started. Evaluating function at random point.\n",
      "[0.0068572961982704935, 10, 5, 0.2390386584472456, 0.49053406102209746, 176, 2, 4]\n",
      "0.8762515018021626\n",
      "Iteration No: 12 ended. Evaluation done at random point.\n",
      "Time taken: 0.0957\n",
      "Function value obtained: -0.6925\n",
      "Current minimum: -0.7038\n",
      "Iteration No: 13 started. Evaluating function at random point.\n",
      "[0.00781968225875022, 3, 4, 0.7078936710077383, 0.31818755505678337, 275, 4, 4]\n",
      "0.8909891870244293\n",
      "Iteration No: 13 ended. Evaluation done at random point.\n",
      "Time taken: 0.0748\n",
      "Function value obtained: -0.7197\n",
      "Current minimum: -0.7197\n",
      "Iteration No: 14 started. Evaluating function at random point.\n",
      "[0.017293945600511968, 2, 15, 0.9007557574888567, 0.41026441194439994, 316, 5, 1]\n"
     ]
    },
    {
     "name": "stderr",
     "output_type": "stream",
     "text": [
      "d:\\solucao completa de ds - mario filho\\projeto\\.env\\lib\\site-packages\\lightgbm\\basic.py:546: UserWarning: Converting data to scipy sparse matrix.\n",
      "  warnings.warn('Converting data to scipy sparse matrix.')\n",
      "d:\\solucao completa de ds - mario filho\\projeto\\.env\\lib\\site-packages\\lightgbm\\basic.py:546: UserWarning: Converting data to scipy sparse matrix.\n",
      "  warnings.warn('Converting data to scipy sparse matrix.')\n"
     ]
    },
    {
     "name": "stdout",
     "output_type": "stream",
     "text": [
      "0.8841009211053263\n",
      "Iteration No: 14 ended. Evaluation done at random point.\n",
      "Time taken: 0.0618\n",
      "Function value obtained: -0.6677\n",
      "Current minimum: -0.7197\n",
      "Iteration No: 15 started. Evaluating function at random point.\n",
      "[0.012250750764764855, 8, 6, 0.5976582413192033, 0.2474882432951916, 516, 4, 4]\n",
      "0.8787344813776531\n",
      "Iteration No: 15 ended. Evaluation done at random point.\n",
      "Time taken: 0.1676\n",
      "Function value obtained: -0.6823\n",
      "Current minimum: -0.7197\n",
      "Iteration No: 16 started. Evaluating function at random point.\n",
      "[0.018353598126553926, 4, 3, 0.47305622526323254, 0.1404164811277527, 133, 4, 1]\n"
     ]
    },
    {
     "name": "stderr",
     "output_type": "stream",
     "text": [
      "d:\\solucao completa de ds - mario filho\\projeto\\.env\\lib\\site-packages\\lightgbm\\basic.py:546: UserWarning: Converting data to scipy sparse matrix.\n",
      "  warnings.warn('Converting data to scipy sparse matrix.')\n",
      "d:\\solucao completa de ds - mario filho\\projeto\\.env\\lib\\site-packages\\lightgbm\\basic.py:546: UserWarning: Converting data to scipy sparse matrix.\n",
      "  warnings.warn('Converting data to scipy sparse matrix.')\n",
      "d:\\solucao completa de ds - mario filho\\projeto\\.env\\lib\\site-packages\\lightgbm\\basic.py:546: UserWarning: Converting data to scipy sparse matrix.\n",
      "  warnings.warn('Converting data to scipy sparse matrix.')\n"
     ]
    },
    {
     "name": "stdout",
     "output_type": "stream",
     "text": [
      "0.8851421706047257\n",
      "Iteration No: 16 ended. Evaluation done at random point.\n",
      "Time taken: 0.0429\n",
      "Function value obtained: -0.6770\n",
      "Current minimum: -0.7197\n",
      "Iteration No: 17 started. Evaluating function at random point.\n",
      "[0.0010383234748454694, 9, 19, 0.9256771571832196, 0.9321438677645206, 312, 4, 3]\n",
      "0.842010412494994\n",
      "Iteration No: 17 ended. Evaluation done at random point.\n",
      "Time taken: 0.1007\n",
      "Function value obtained: -0.6654\n",
      "Current minimum: -0.7197\n",
      "Iteration No: 18 started. Evaluating function at random point.\n",
      "[0.004955229758078229, 5, 5, 0.06939551310802591, 0.4193273080472823, 725, 4, 1]\n",
      "0.8639967961553864\n",
      "Iteration No: 18 ended. Evaluation done at random point.\n",
      "Time taken: 0.0838\n",
      "Function value obtained: -0.6076\n",
      "Current minimum: -0.7197\n",
      "Iteration No: 19 started. Evaluating function at random point.\n",
      "[0.0699516121742407, 9, 10, 0.6477856515609233, 0.8594430701440198, 616, 1, 1]\n"
     ]
    },
    {
     "name": "stderr",
     "output_type": "stream",
     "text": [
      "d:\\solucao completa de ds - mario filho\\projeto\\.env\\lib\\site-packages\\lightgbm\\basic.py:546: UserWarning: Converting data to scipy sparse matrix.\n",
      "  warnings.warn('Converting data to scipy sparse matrix.')\n"
     ]
    },
    {
     "name": "stdout",
     "output_type": "stream",
     "text": [
      "0.7927112535042051\n",
      "Iteration No: 19 ended. Evaluation done at random point.\n",
      "Time taken: 0.2354\n",
      "Function value obtained: -0.5649\n",
      "Current minimum: -0.7197\n",
      "Iteration No: 20 started. Evaluating function at random point.\n",
      "[0.0014752743467850462, 5, 4, 0.9747950537021096, 0.982207187458162, 909, 2, 4]\n"
     ]
    },
    {
     "name": "stderr",
     "output_type": "stream",
     "text": [
      "d:\\solucao completa de ds - mario filho\\projeto\\.env\\lib\\site-packages\\lightgbm\\basic.py:546: UserWarning: Converting data to scipy sparse matrix.\n",
      "  warnings.warn('Converting data to scipy sparse matrix.')\n"
     ]
    },
    {
     "name": "stdout",
     "output_type": "stream",
     "text": [
      "0.8394473368041651\n",
      "Iteration No: 20 ended. Evaluation done at random point.\n",
      "Time taken: 0.8722\n",
      "Function value obtained: -0.6180\n",
      "Current minimum: -0.7197\n",
      "Iteration No: 21 started. Searching for the next optimal point.\n",
      "[0.04463841921075493, 3, 7, 0.6392954446072622, 0.316470781258136, 231, 5, 4]\n",
      "0.8786543852623148\n"
     ]
    },
    {
     "name": "stderr",
     "output_type": "stream",
     "text": [
      "d:\\solucao completa de ds - mario filho\\projeto\\.env\\lib\\site-packages\\lightgbm\\basic.py:546: UserWarning: Converting data to scipy sparse matrix.\n",
      "  warnings.warn('Converting data to scipy sparse matrix.')\n"
     ]
    },
    {
     "name": "stdout",
     "output_type": "stream",
     "text": [
      "Iteration No: 21 ended. Search finished for the next optimal point.\n",
      "Time taken: 0.3242\n",
      "Function value obtained: -0.6815\n",
      "Current minimum: -0.7197\n",
      "Iteration No: 22 started. Searching for the next optimal point.\n",
      "[0.001413719322199888, 1, 13, 0.3008830845393987, 0.21506310060113493, 874, 3, 2]\n",
      "0.8782138566279536\n"
     ]
    },
    {
     "name": "stderr",
     "output_type": "stream",
     "text": [
      "d:\\solucao completa de ds - mario filho\\projeto\\.env\\lib\\site-packages\\lightgbm\\basic.py:546: UserWarning: Converting data to scipy sparse matrix.\n",
      "  warnings.warn('Converting data to scipy sparse matrix.')\n"
     ]
    },
    {
     "name": "stdout",
     "output_type": "stream",
     "text": [
      "Iteration No: 22 ended. Search finished for the next optimal point.\n",
      "Time taken: 0.3441\n",
      "Function value obtained: -0.6556\n",
      "Current minimum: -0.7197\n",
      "Iteration No: 23 started. Searching for the next optimal point.\n",
      "[0.08365224785753, 1, 6, 0.8626206783150042, 0.10935883175318586, 484, 4, 4]\n",
      "0.8565478574289147\n"
     ]
    },
    {
     "name": "stderr",
     "output_type": "stream",
     "text": [
      "d:\\solucao completa de ds - mario filho\\projeto\\.env\\lib\\site-packages\\lightgbm\\basic.py:546: UserWarning: Converting data to scipy sparse matrix.\n",
      "  warnings.warn('Converting data to scipy sparse matrix.')\n"
     ]
    },
    {
     "name": "stdout",
     "output_type": "stream",
     "text": [
      "Iteration No: 23 ended. Search finished for the next optimal point.\n",
      "Time taken: 0.3281\n",
      "Function value obtained: -0.6305\n",
      "Current minimum: -0.7197\n",
      "Iteration No: 24 started. Searching for the next optimal point.\n",
      "[0.006987652948656231, 9, 14, 0.8545291143162588, 0.05995010649175797, 978, 4, 2]\n",
      "0.8925911093311976\n"
     ]
    },
    {
     "name": "stderr",
     "output_type": "stream",
     "text": [
      "d:\\solucao completa de ds - mario filho\\projeto\\.env\\lib\\site-packages\\lightgbm\\basic.py:546: UserWarning: Converting data to scipy sparse matrix.\n",
      "  warnings.warn('Converting data to scipy sparse matrix.')\n"
     ]
    },
    {
     "name": "stdout",
     "output_type": "stream",
     "text": [
      "Iteration No: 24 ended. Search finished for the next optimal point.\n",
      "Time taken: 1.5360\n",
      "Function value obtained: -0.6951\n",
      "Current minimum: -0.7197\n",
      "Iteration No: 25 started. Searching for the next optimal point.\n",
      "[0.0042899888799091054, 7, 18, 0.6674755054887594, 0.08057394881562759, 937, 4, 1]\n",
      "0.8876251501802163\n"
     ]
    },
    {
     "name": "stderr",
     "output_type": "stream",
     "text": [
      "d:\\solucao completa de ds - mario filho\\projeto\\.env\\lib\\site-packages\\lightgbm\\basic.py:546: UserWarning: Converting data to scipy sparse matrix.\n",
      "  warnings.warn('Converting data to scipy sparse matrix.')\n"
     ]
    },
    {
     "name": "stdout",
     "output_type": "stream",
     "text": [
      "Iteration No: 25 ended. Search finished for the next optimal point.\n",
      "Time taken: 0.3751\n",
      "Function value obtained: -0.6852\n",
      "Current minimum: -0.7197\n",
      "Iteration No: 26 started. Searching for the next optimal point.\n",
      "[0.00502468029805124, 10, 16, 0.717825686970812, 0.06568821981989109, 971, 5, 1]\n"
     ]
    },
    {
     "name": "stderr",
     "output_type": "stream",
     "text": [
      "d:\\solucao completa de ds - mario filho\\projeto\\.env\\lib\\site-packages\\lightgbm\\basic.py:546: UserWarning: Converting data to scipy sparse matrix.\n",
      "  warnings.warn('Converting data to scipy sparse matrix.')\n"
     ]
    },
    {
     "name": "stdout",
     "output_type": "stream",
     "text": [
      "0.8845014016820184\n",
      "Iteration No: 26 ended. Search finished for the next optimal point.\n",
      "Time taken: 0.4708\n",
      "Function value obtained: -0.6746\n",
      "Current minimum: -0.7197\n",
      "Iteration No: 27 started. Searching for the next optimal point.\n",
      "[0.004735274791753897, 9, 20, 0.2604832728615082, 0.5893961364209508, 923, 4, 2]\n",
      "0.8643972767320784\n"
     ]
    },
    {
     "name": "stderr",
     "output_type": "stream",
     "text": [
      "d:\\solucao completa de ds - mario filho\\projeto\\.env\\lib\\site-packages\\lightgbm\\basic.py:546: UserWarning: Converting data to scipy sparse matrix.\n",
      "  warnings.warn('Converting data to scipy sparse matrix.')\n"
     ]
    },
    {
     "name": "stdout",
     "output_type": "stream",
     "text": [
      "Iteration No: 27 ended. Search finished for the next optimal point.\n",
      "Time taken: 0.3800\n",
      "Function value obtained: -0.6200\n",
      "Current minimum: -0.7197\n",
      "Iteration No: 28 started. Searching for the next optimal point.\n",
      "[0.011863740608111741, 10, 19, 0.9011994751193867, 0.37322207562101206, 862, 4, 1]\n"
     ]
    },
    {
     "name": "stderr",
     "output_type": "stream",
     "text": [
      "d:\\solucao completa de ds - mario filho\\projeto\\.env\\lib\\site-packages\\lightgbm\\basic.py:546: UserWarning: Converting data to scipy sparse matrix.\n",
      "  warnings.warn('Converting data to scipy sparse matrix.')\n"
     ]
    },
    {
     "name": "stdout",
     "output_type": "stream",
     "text": [
      "0.877533039647577\n",
      "Iteration No: 28 ended. Search finished for the next optimal point.\n",
      "Time taken: 0.4667\n",
      "Function value obtained: -0.6828\n",
      "Current minimum: -0.7197\n",
      "Iteration No: 29 started. Searching for the next optimal point.\n",
      "[0.03963947659659261, 6, 20, 0.7507932938995443, 0.1036691404319885, 878, 4, 1]\n",
      "0.8817781337605126\n"
     ]
    },
    {
     "name": "stderr",
     "output_type": "stream",
     "text": [
      "d:\\solucao completa de ds - mario filho\\projeto\\.env\\lib\\site-packages\\lightgbm\\basic.py:546: UserWarning: Converting data to scipy sparse matrix.\n",
      "  warnings.warn('Converting data to scipy sparse matrix.')\n"
     ]
    },
    {
     "name": "stdout",
     "output_type": "stream",
     "text": [
      "Iteration No: 29 ended. Search finished for the next optimal point.\n",
      "Time taken: 0.3969\n",
      "Function value obtained: -0.6753\n",
      "Current minimum: -0.7197\n",
      "Iteration No: 30 started. Searching for the next optimal point.\n",
      "[0.04310051926698631, 9, 7, 0.8140569247414562, 0.24941374542337819, 940, 4, 1]\n"
     ]
    },
    {
     "name": "stderr",
     "output_type": "stream",
     "text": [
      "d:\\solucao completa de ds - mario filho\\projeto\\.env\\lib\\site-packages\\lightgbm\\basic.py:546: UserWarning: Converting data to scipy sparse matrix.\n",
      "  warnings.warn('Converting data to scipy sparse matrix.')\n"
     ]
    },
    {
     "name": "stdout",
     "output_type": "stream",
     "text": [
      "0.846936323588306\n",
      "Iteration No: 30 ended. Search finished for the next optimal point.\n",
      "Time taken: 0.6034\n",
      "Function value obtained: -0.6656\n",
      "Current minimum: -0.7197\n",
      "Iteration No: 31 started. Searching for the next optimal point.\n",
      "[0.07195409116130193, 3, 13, 0.6188976757446268, 0.3133168196271003, 187, 4, 3]\n",
      "0.8706447737284742\n"
     ]
    },
    {
     "name": "stderr",
     "output_type": "stream",
     "text": [
      "d:\\solucao completa de ds - mario filho\\projeto\\.env\\lib\\site-packages\\lightgbm\\basic.py:546: UserWarning: Converting data to scipy sparse matrix.\n",
      "  warnings.warn('Converting data to scipy sparse matrix.')\n"
     ]
    },
    {
     "name": "stdout",
     "output_type": "stream",
     "text": [
      "Iteration No: 31 ended. Search finished for the next optimal point.\n",
      "Time taken: 0.3188\n",
      "Function value obtained: -0.6699\n",
      "Current minimum: -0.7197\n",
      "Iteration No: 32 started. Searching for the next optimal point.\n",
      "[0.046699322039119535, 7, 17, 0.4455500488730257, 0.08543270356166274, 361, 5, 1]\n",
      "0.8667200640768923\n"
     ]
    },
    {
     "name": "stderr",
     "output_type": "stream",
     "text": [
      "d:\\solucao completa de ds - mario filho\\projeto\\.env\\lib\\site-packages\\lightgbm\\basic.py:546: UserWarning: Converting data to scipy sparse matrix.\n",
      "  warnings.warn('Converting data to scipy sparse matrix.')\n"
     ]
    },
    {
     "name": "stdout",
     "output_type": "stream",
     "text": [
      "Iteration No: 32 ended. Search finished for the next optimal point.\n",
      "Time taken: 0.3391\n",
      "Function value obtained: -0.6383\n",
      "Current minimum: -0.7197\n",
      "Iteration No: 33 started. Searching for the next optimal point.\n",
      "[0.007749649642444107, 3, 17, 0.1545486743833779, 0.10213317673315647, 121, 4, 4]\n",
      "0.871405686824189\n"
     ]
    },
    {
     "name": "stderr",
     "output_type": "stream",
     "text": [
      "d:\\solucao completa de ds - mario filho\\projeto\\.env\\lib\\site-packages\\lightgbm\\basic.py:546: UserWarning: Converting data to scipy sparse matrix.\n",
      "  warnings.warn('Converting data to scipy sparse matrix.')\n"
     ]
    },
    {
     "name": "stdout",
     "output_type": "stream",
     "text": [
      "Iteration No: 33 ended. Search finished for the next optimal point.\n",
      "Time taken: 0.3391\n",
      "Function value obtained: -0.5985\n",
      "Current minimum: -0.7197\n",
      "Iteration No: 34 started. Searching for the next optimal point.\n",
      "[0.07174328842562398, 10, 2, 0.6107352722524179, 0.31692746345973233, 949, 5, 5]\n"
     ]
    },
    {
     "name": "stderr",
     "output_type": "stream",
     "text": [
      "d:\\solucao completa de ds - mario filho\\projeto\\.env\\lib\\site-packages\\lightgbm\\basic.py:546: UserWarning: Converting data to scipy sparse matrix.\n",
      "  warnings.warn('Converting data to scipy sparse matrix.')\n"
     ]
    },
    {
     "name": "stdout",
     "output_type": "stream",
     "text": [
      "0.8595114136964357\n",
      "Iteration No: 34 ended. Search finished for the next optimal point.\n",
      "Time taken: 0.7999\n",
      "Function value obtained: -0.6431\n",
      "Current minimum: -0.7197\n",
      "Iteration No: 35 started. Searching for the next optimal point.\n",
      "[0.0424449294754001, 10, 19, 0.2675083383451746, 0.21629780409615357, 944, 2, 1]\n",
      "0.8243892671205448\n"
     ]
    },
    {
     "name": "stderr",
     "output_type": "stream",
     "text": [
      "d:\\solucao completa de ds - mario filho\\projeto\\.env\\lib\\site-packages\\lightgbm\\basic.py:546: UserWarning: Converting data to scipy sparse matrix.\n",
      "  warnings.warn('Converting data to scipy sparse matrix.')\n"
     ]
    },
    {
     "name": "stdout",
     "output_type": "stream",
     "text": [
      "Iteration No: 35 ended. Search finished for the next optimal point.\n",
      "Time taken: 0.3990\n",
      "Function value obtained: -0.5551\n",
      "Current minimum: -0.7197\n",
      "Iteration No: 36 started. Searching for the next optimal point.\n",
      "[0.0010637545374452707, 6, 7, 0.3130607827898761, 0.18963649463443838, 1000, 4, 1]\n",
      "0.8874649579495394\n"
     ]
    },
    {
     "name": "stderr",
     "output_type": "stream",
     "text": [
      "d:\\solucao completa de ds - mario filho\\projeto\\.env\\lib\\site-packages\\lightgbm\\basic.py:546: UserWarning: Converting data to scipy sparse matrix.\n",
      "  warnings.warn('Converting data to scipy sparse matrix.')\n"
     ]
    },
    {
     "name": "stdout",
     "output_type": "stream",
     "text": [
      "Iteration No: 36 ended. Search finished for the next optimal point.\n",
      "Time taken: 0.4473\n",
      "Function value obtained: -0.6833\n",
      "Current minimum: -0.7197\n",
      "Iteration No: 37 started. Searching for the next optimal point.\n",
      "[0.0017252759214782122, 3, 19, 0.2830202657986578, 0.6258042160239858, 992, 3, 1]\n",
      "0.8710452543051662\n"
     ]
    },
    {
     "name": "stderr",
     "output_type": "stream",
     "text": [
      "d:\\solucao completa de ds - mario filho\\projeto\\.env\\lib\\site-packages\\lightgbm\\basic.py:546: UserWarning: Converting data to scipy sparse matrix.\n",
      "  warnings.warn('Converting data to scipy sparse matrix.')\n"
     ]
    },
    {
     "name": "stdout",
     "output_type": "stream",
     "text": [
      "Iteration No: 37 ended. Search finished for the next optimal point.\n",
      "Time taken: 0.3773\n",
      "Function value obtained: -0.5949\n",
      "Current minimum: -0.7197\n",
      "Iteration No: 38 started. Searching for the next optimal point.\n",
      "[0.0829023687329825, 8, 5, 0.18718469664195736, 0.31639025701074547, 436, 3, 4]\n",
      "0.8301161393672406\n"
     ]
    },
    {
     "name": "stderr",
     "output_type": "stream",
     "text": [
      "d:\\solucao completa de ds - mario filho\\projeto\\.env\\lib\\site-packages\\lightgbm\\basic.py:546: UserWarning: Converting data to scipy sparse matrix.\n",
      "  warnings.warn('Converting data to scipy sparse matrix.')\n"
     ]
    },
    {
     "name": "stdout",
     "output_type": "stream",
     "text": [
      "Iteration No: 38 ended. Search finished for the next optimal point.\n",
      "Time taken: 0.4059\n",
      "Function value obtained: -0.5705\n",
      "Current minimum: -0.7197\n",
      "Iteration No: 39 started. Searching for the next optimal point.\n",
      "[0.08887962341155684, 8, 20, 0.8235108190909279, 0.9272745406533897, 161, 5, 1]\n",
      "0.866079295154185\n"
     ]
    },
    {
     "name": "stderr",
     "output_type": "stream",
     "text": [
      "d:\\solucao completa de ds - mario filho\\projeto\\.env\\lib\\site-packages\\lightgbm\\basic.py:546: UserWarning: Converting data to scipy sparse matrix.\n",
      "  warnings.warn('Converting data to scipy sparse matrix.')\n"
     ]
    },
    {
     "name": "stdout",
     "output_type": "stream",
     "text": [
      "Iteration No: 39 ended. Search finished for the next optimal point.\n",
      "Time taken: 0.3483\n",
      "Function value obtained: -0.6755\n",
      "Current minimum: -0.7197\n",
      "Iteration No: 40 started. Searching for the next optimal point.\n",
      "[0.09558823993902113, 3, 9, 0.3264466940222728, 0.0638213107245281, 153, 5, 1]\n",
      "0.8804965959150982\n"
     ]
    },
    {
     "name": "stderr",
     "output_type": "stream",
     "text": [
      "d:\\solucao completa de ds - mario filho\\projeto\\.env\\lib\\site-packages\\lightgbm\\basic.py:546: UserWarning: Converting data to scipy sparse matrix.\n",
      "  warnings.warn('Converting data to scipy sparse matrix.')\n"
     ]
    },
    {
     "name": "stdout",
     "output_type": "stream",
     "text": [
      "Iteration No: 40 ended. Search finished for the next optimal point.\n",
      "Time taken: 0.3136\n",
      "Function value obtained: -0.6532\n",
      "Current minimum: -0.7197\n",
      "Iteration No: 41 started. Searching for the next optimal point.\n",
      "[0.05275358062484218, 2, 2, 0.3796873452913021, 0.3416255709483546, 993, 4, 1]\n",
      "0.8052863436123348\n"
     ]
    },
    {
     "name": "stderr",
     "output_type": "stream",
     "text": [
      "d:\\solucao completa de ds - mario filho\\projeto\\.env\\lib\\site-packages\\lightgbm\\basic.py:546: UserWarning: Converting data to scipy sparse matrix.\n",
      "  warnings.warn('Converting data to scipy sparse matrix.')\n"
     ]
    },
    {
     "name": "stdout",
     "output_type": "stream",
     "text": [
      "Iteration No: 41 ended. Search finished for the next optimal point.\n",
      "Time taken: 0.3909\n",
      "Function value obtained: -0.5237\n",
      "Current minimum: -0.7197\n",
      "Iteration No: 42 started. Searching for the next optimal point.\n",
      "[0.014526818012735192, 10, 19, 0.42050644783232366, 0.1967864996579664, 981, 2, 2]\n",
      "0.8686023227873448\n"
     ]
    },
    {
     "name": "stderr",
     "output_type": "stream",
     "text": [
      "d:\\solucao completa de ds - mario filho\\projeto\\.env\\lib\\site-packages\\lightgbm\\basic.py:546: UserWarning: Converting data to scipy sparse matrix.\n",
      "  warnings.warn('Converting data to scipy sparse matrix.')\n"
     ]
    },
    {
     "name": "stdout",
     "output_type": "stream",
     "text": [
      "Iteration No: 42 ended. Search finished for the next optimal point.\n",
      "Time taken: 0.4668\n",
      "Function value obtained: -0.6429\n",
      "Current minimum: -0.7197\n",
      "Iteration No: 43 started. Searching for the next optimal point.\n",
      "[0.09670217131816568, 7, 15, 0.9367904656032905, 0.441617429880886, 902, 4, 2]\n"
     ]
    },
    {
     "name": "stderr",
     "output_type": "stream",
     "text": [
      "d:\\solucao completa de ds - mario filho\\projeto\\.env\\lib\\site-packages\\lightgbm\\basic.py:546: UserWarning: Converting data to scipy sparse matrix.\n",
      "  warnings.warn('Converting data to scipy sparse matrix.')\n"
     ]
    },
    {
     "name": "stdout",
     "output_type": "stream",
     "text": [
      "0.8633560272326792\n",
      "Iteration No: 43 ended. Search finished for the next optimal point.\n",
      "Time taken: 0.4801\n",
      "Function value obtained: -0.6384\n",
      "Current minimum: -0.7197\n",
      "Iteration No: 44 started. Searching for the next optimal point.\n",
      "[0.025542285721079267, 3, 2, 0.2628618106866002, 0.09028132703503515, 248, 4, 3]\n",
      "0.8820985182218662\n"
     ]
    },
    {
     "name": "stderr",
     "output_type": "stream",
     "text": [
      "d:\\solucao completa de ds - mario filho\\projeto\\.env\\lib\\site-packages\\lightgbm\\basic.py:546: UserWarning: Converting data to scipy sparse matrix.\n",
      "  warnings.warn('Converting data to scipy sparse matrix.')\n"
     ]
    },
    {
     "name": "stdout",
     "output_type": "stream",
     "text": [
      "Iteration No: 44 ended. Search finished for the next optimal point.\n",
      "Time taken: 0.3481\n",
      "Function value obtained: -0.6733\n",
      "Current minimum: -0.7197\n",
      "Iteration No: 45 started. Searching for the next optimal point.\n",
      "[0.025376110477264176, 3, 3, 0.2957616907017612, 0.1556944703577111, 936, 4, 1]\n",
      "0.8645574689627552\n"
     ]
    },
    {
     "name": "stderr",
     "output_type": "stream",
     "text": [
      "d:\\solucao completa de ds - mario filho\\projeto\\.env\\lib\\site-packages\\lightgbm\\basic.py:546: UserWarning: Converting data to scipy sparse matrix.\n",
      "  warnings.warn('Converting data to scipy sparse matrix.')\n"
     ]
    },
    {
     "name": "stdout",
     "output_type": "stream",
     "text": [
      "Iteration No: 45 ended. Search finished for the next optimal point.\n",
      "Time taken: 0.4079\n",
      "Function value obtained: -0.6513\n",
      "Current minimum: -0.7197\n",
      "Iteration No: 46 started. Searching for the next optimal point.\n",
      "[0.027053029192358972, 10, 1, 0.19812498662424605, 0.29660458633864945, 954, 4, 4]\n"
     ]
    },
    {
     "name": "stderr",
     "output_type": "stream",
     "text": [
      "d:\\solucao completa de ds - mario filho\\projeto\\.env\\lib\\site-packages\\lightgbm\\basic.py:546: UserWarning: Converting data to scipy sparse matrix.\n",
      "  warnings.warn('Converting data to scipy sparse matrix.')\n"
     ]
    },
    {
     "name": "stdout",
     "output_type": "stream",
     "text": [
      "0.8732879455346416\n",
      "Iteration No: 46 ended. Search finished for the next optimal point.\n",
      "Time taken: 1.0482\n",
      "Function value obtained: -0.7159\n",
      "Current minimum: -0.7197\n",
      "Iteration No: 47 started. Searching for the next optimal point.\n",
      "[0.033032858881810546, 9, 3, 0.18959392519520124, 0.6040445362642374, 938, 4, 3]\n"
     ]
    },
    {
     "name": "stderr",
     "output_type": "stream",
     "text": [
      "d:\\solucao completa de ds - mario filho\\projeto\\.env\\lib\\site-packages\\lightgbm\\basic.py:546: UserWarning: Converting data to scipy sparse matrix.\n",
      "  warnings.warn('Converting data to scipy sparse matrix.')\n"
     ]
    },
    {
     "name": "stdout",
     "output_type": "stream",
     "text": [
      "0.8320384461353624\n",
      "Iteration No: 47 ended. Search finished for the next optimal point.\n",
      "Time taken: 0.6562\n",
      "Function value obtained: -0.6696\n",
      "Current minimum: -0.7197\n",
      "Iteration No: 48 started. Searching for the next optimal point.\n",
      "[0.07538569567900222, 9, 2, 0.09239960962649817, 0.994323705923869, 967, 5, 2]\n"
     ]
    },
    {
     "name": "stderr",
     "output_type": "stream",
     "text": [
      "d:\\solucao completa de ds - mario filho\\projeto\\.env\\lib\\site-packages\\lightgbm\\basic.py:546: UserWarning: Converting data to scipy sparse matrix.\n",
      "  warnings.warn('Converting data to scipy sparse matrix.')\n"
     ]
    },
    {
     "name": "stdout",
     "output_type": "stream",
     "text": [
      "0.8312374849819784\n",
      "Iteration No: 48 ended. Search finished for the next optimal point.\n",
      "Time taken: 0.6164\n",
      "Function value obtained: -0.5772\n",
      "Current minimum: -0.7197\n",
      "Iteration No: 49 started. Searching for the next optimal point.\n",
      "[0.047859445445345046, 10, 3, 0.19394338654139964, 0.059841131242082624, 890, 3, 5]\n"
     ]
    },
    {
     "name": "stderr",
     "output_type": "stream",
     "text": [
      "d:\\solucao completa de ds - mario filho\\projeto\\.env\\lib\\site-packages\\lightgbm\\basic.py:546: UserWarning: Converting data to scipy sparse matrix.\n",
      "  warnings.warn('Converting data to scipy sparse matrix.')\n"
     ]
    },
    {
     "name": "stdout",
     "output_type": "stream",
     "text": [
      "0.8583099719663596\n",
      "Iteration No: 49 ended. Search finished for the next optimal point.\n",
      "Time taken: 0.5844\n",
      "Function value obtained: -0.6506\n",
      "Current minimum: -0.7197\n",
      "Iteration No: 50 started. Searching for the next optimal point.\n",
      "[0.012984835983539925, 8, 6, 0.2844796605294211, 0.14391092638462988, 992, 5, 4]\n",
      "0.8849018822587104\n"
     ]
    },
    {
     "name": "stderr",
     "output_type": "stream",
     "text": [
      "d:\\solucao completa de ds - mario filho\\projeto\\.env\\lib\\site-packages\\lightgbm\\basic.py:546: UserWarning: Converting data to scipy sparse matrix.\n",
      "  warnings.warn('Converting data to scipy sparse matrix.')\n"
     ]
    },
    {
     "name": "stdout",
     "output_type": "stream",
     "text": [
      "Iteration No: 50 ended. Search finished for the next optimal point.\n",
      "Time taken: 0.5048\n",
      "Function value obtained: -0.7054\n",
      "Current minimum: -0.7197\n"
     ]
    }
   ],
   "source": [
    "res = forest_minimize(tune_lgbm, space, random_state = 160745, n_random_starts = 20, n_calls = 50, verbose = 1)\n",
    "   "
   ]
  },
  {
   "cell_type": "code",
   "execution_count": 128,
   "metadata": {},
   "outputs": [
    {
     "data": {
      "text/plain": [
       "[0.00781968225875022, 3, 4, 0.7078936710077383, 0.31818755505678337, 275, 4, 4]"
      ]
     },
     "execution_count": 128,
     "metadata": {},
     "output_type": "execute_result"
    }
   ],
   "source": [
    "#parâmetros que deram o melhor resultado\n",
    "res.x"
   ]
  },
  {
   "cell_type": "code",
   "execution_count": 129,
   "metadata": {},
   "outputs": [
    {
     "data": {
      "text/plain": [
       "[(0.001, 0.1, 'log-uniform'),\n",
       " (1, 10),\n",
       " (1, 20),\n",
       " (0.05, 1.0),\n",
       " (0.05, 1.0),\n",
       " (100, 1000),\n",
       " (1, 5),\n",
       " (1, 5)]"
      ]
     },
     "execution_count": 129,
     "metadata": {},
     "output_type": "execute_result"
    }
   ],
   "source": [
    "space"
   ]
  },
  {
   "cell_type": "code",
   "execution_count": 131,
   "metadata": {},
   "outputs": [
    {
     "data": {
      "text/plain": [
       "-0.7197493613596355"
      ]
     },
     "execution_count": 131,
     "metadata": {},
     "output_type": "execute_result"
    }
   ],
   "source": [
    "#valor maximizado da average_precision\n",
    "res.fun"
   ]
  },
  {
   "cell_type": "markdown",
   "metadata": {},
   "source": [
    "## Logistic Regression"
   ]
  },
  {
   "cell_type": "code",
   "execution_count": 133,
   "metadata": {},
   "outputs": [],
   "source": [
    "from sklearn.preprocessing import MaxAbsScaler, StandardScaler\n",
    "from scipy.sparse import csr_matrix #converte matrix densa em sparse"
   ]
  },
  {
   "cell_type": "code",
   "execution_count": 134,
   "metadata": {},
   "outputs": [],
   "source": [
    "Xtrain_wtitle2 = csr_matrix(Xtrain_wtitle.copy())\n",
    "Xval_wtitle2 = csr_matrix(Xval_wtitle.copy())"
   ]
  },
  {
   "cell_type": "code",
   "execution_count": 147,
   "metadata": {},
   "outputs": [],
   "source": [
    "scaler = StandardScaler()"
   ]
  },
  {
   "cell_type": "code",
   "execution_count": 138,
   "metadata": {},
   "outputs": [],
   "source": [
    "Xtrain_wtitle2[:, :2] = scaler.fit_transform(Xtrain_wtitle2[:, :2].todense())\n",
    "Xval_wtitle2[:, :2] = scaler.transform(Xval_wtitle2[:, :2].todense())"
   ]
  },
  {
   "cell_type": "code",
   "execution_count": 139,
   "metadata": {},
   "outputs": [
    {
     "data": {
      "text/plain": [
       "(282, 499)"
      ]
     },
     "execution_count": 139,
     "metadata": {},
     "output_type": "execute_result"
    }
   ],
   "source": [
    "Xval_wtitle2.shape"
   ]
  },
  {
   "cell_type": "code",
   "execution_count": 140,
   "metadata": {},
   "outputs": [],
   "source": [
    "mdl3 = LogisticRegression(n_jobs=6, random_state=0)"
   ]
  },
  {
   "cell_type": "code",
   "execution_count": 141,
   "metadata": {},
   "outputs": [
    {
     "data": {
      "text/plain": [
       "LogisticRegression(n_jobs=6, random_state=0)"
      ]
     },
     "execution_count": 141,
     "metadata": {},
     "output_type": "execute_result"
    }
   ],
   "source": [
    "mdl3.fit(Xtrain_wtitle2, ytrain)"
   ]
  },
  {
   "cell_type": "code",
   "execution_count": 178,
   "metadata": {},
   "outputs": [],
   "source": [
    "p3 = mdl3.predict_proba(Xval_wtitle2)[:,1]"
   ]
  },
  {
   "cell_type": "code",
   "execution_count": 179,
   "metadata": {},
   "outputs": [
    {
     "data": {
      "text/plain": [
       "0.5038021736634999"
      ]
     },
     "execution_count": 179,
     "metadata": {},
     "output_type": "execute_result"
    }
   ],
   "source": [
    "average_precision_score(yval, p3)"
   ]
  },
  {
   "cell_type": "code",
   "execution_count": 146,
   "metadata": {},
   "outputs": [],
   "source": [
    "#com MaxAbs\n",
    "scaler2 = MaxAbsScaler()"
   ]
  },
  {
   "cell_type": "code",
   "execution_count": 164,
   "metadata": {},
   "outputs": [],
   "source": [
    "Xtrain_wtitle3 = csr_matrix(Xtrain_wtitle.copy())\n",
    "Xval_wtitle3 = csr_matrix(Xval_wtitle.copy())"
   ]
  },
  {
   "cell_type": "code",
   "execution_count": 165,
   "metadata": {},
   "outputs": [],
   "source": [
    "Xtrain_wtitle3 = scaler2.fit_transform(Xtrain_wtitle3)\n",
    "Xval_wtitle3 = scaler2.transform(Xval_wtitle3)"
   ]
  },
  {
   "cell_type": "code",
   "execution_count": 166,
   "metadata": {},
   "outputs": [
    {
     "data": {
      "text/plain": [
       "LogisticRegression(n_jobs=6, random_state=0)"
      ]
     },
     "execution_count": 166,
     "metadata": {},
     "output_type": "execute_result"
    }
   ],
   "source": [
    "mdl4 = LogisticRegression(n_jobs=6, random_state=0)\n",
    "mdl4.fit(Xtrain_wtitle3, ytrain)"
   ]
  },
  {
   "cell_type": "code",
   "execution_count": 167,
   "metadata": {},
   "outputs": [],
   "source": [
    "p4 = mdl4.predict_proba(Xval_wtitle3)[:,1]"
   ]
  },
  {
   "cell_type": "code",
   "execution_count": 168,
   "metadata": {},
   "outputs": [
    {
     "data": {
      "text/plain": [
       "0.507682253512145"
      ]
     },
     "execution_count": 168,
     "metadata": {},
     "output_type": "execute_result"
    }
   ],
   "source": [
    "average_precision_score(yval, p4)"
   ]
  },
  {
   "cell_type": "code",
   "execution_count": 171,
   "metadata": {},
   "outputs": [
    {
     "data": {
      "text/plain": [
       "0.44543872441768084"
      ]
     },
     "execution_count": 171,
     "metadata": {},
     "output_type": "execute_result"
    }
   ],
   "source": [
    "mdl5 = LogisticRegression(C=10., n_jobs=6, random_state=0)\n",
    "mdl5.fit(Xtrain_wtitle3, ytrain)\n",
    "p5 = mdl5.predict_proba(Xval_wtitle3)[:,1]\n",
    "average_precision_score(yval, p5)"
   ]
  },
  {
   "cell_type": "code",
   "execution_count": 174,
   "metadata": {},
   "outputs": [
    {
     "data": {
      "text/plain": [
       "0.5165408985966196"
      ]
     },
     "execution_count": 174,
     "metadata": {},
     "output_type": "execute_result"
    }
   ],
   "source": [
    "mdl6 = LogisticRegression(C=.5, n_jobs=6, random_state=0)\n",
    "mdl6.fit(Xtrain_wtitle3, ytrain)\n",
    "p6 = mdl6.predict_proba(Xval_wtitle3)[:,1]\n",
    "average_precision_score(yval, p6)"
   ]
  },
  {
   "cell_type": "code",
   "execution_count": 176,
   "metadata": {},
   "outputs": [
    {
     "data": {
      "text/plain": [
       "0.5185412819544385"
      ]
     },
     "execution_count": 176,
     "metadata": {},
     "output_type": "execute_result"
    }
   ],
   "source": [
    "mdl7 = LogisticRegression(C=.25, n_jobs=6, random_state=0)\n",
    "mdl7.fit(Xtrain_wtitle3, ytrain)\n",
    "p7 = mdl7.predict_proba(Xval_wtitle3)[:,1]\n",
    "average_precision_score(yval, p7)"
   ]
  },
  {
   "cell_type": "code",
   "execution_count": 183,
   "metadata": {},
   "outputs": [
    {
     "data": {
      "text/plain": [
       "0.5217553251995134"
      ]
     },
     "execution_count": 183,
     "metadata": {},
     "output_type": "execute_result"
    }
   ],
   "source": [
    "mdl8 = LogisticRegression(C=.1, n_jobs=6, random_state=0)\n",
    "mdl8.fit(Xtrain_wtitle3, ytrain)\n",
    "p8 = mdl8.predict_proba(Xval_wtitle3)[:,1]\n",
    "average_precision_score(yval, p8)"
   ]
  },
  {
   "cell_type": "code",
   "execution_count": null,
   "metadata": {},
   "outputs": [],
   "source": []
  }
 ],
 "metadata": {
  "kernelspec": {
   "display_name": "Python 3",
   "language": "python",
   "name": "python3"
  },
  "language_info": {
   "codemirror_mode": {
    "name": "ipython",
    "version": 3
   },
   "file_extension": ".py",
   "mimetype": "text/x-python",
   "name": "python",
   "nbconvert_exporter": "python",
   "pygments_lexer": "ipython3",
   "version": "3.7.6"
  }
 },
 "nbformat": 4,
 "nbformat_minor": 4
}
