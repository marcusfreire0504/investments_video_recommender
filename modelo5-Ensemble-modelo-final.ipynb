{
 "cells": [
  {
   "cell_type": "markdown",
   "metadata": {},
   "source": [
    "## Modelo 5 - Ensemble de modelos\n",
    "\n",
    "Aqui, será buscada uma combinação dos modelos testados no notebook anterior, a fim de encontrar um modelo satisfatório, não só em termos de métricas mas também para colocar em produção.\n",
    "\n",
    "(arquivo ./datasets/raw_data_with_all_labels.xlsx)"
   ]
  },
  {
   "cell_type": "code",
   "execution_count": 1,
   "metadata": {},
   "outputs": [
    {
     "name": "stdout",
     "output_type": "stream",
     "text": [
      "Populating the interactive namespace from numpy and matplotlib\n"
     ]
    }
   ],
   "source": [
    "#importando pacotes\n",
    "import pandas as pd\n",
    "import numpy as np\n",
    "import re\n",
    "import time\n",
    "\n",
    "import bs4\n",
    "import json\n",
    "\n",
    "import glob\n",
    "import tqdm\n",
    "\n",
    "pd.set_option(\"max.columns\", 100)\n",
    "\n",
    "#https://strftime.org\n",
    "%matplotlib inline\n",
    "%pylab inline"
   ]
  },
  {
   "cell_type": "code",
   "execution_count": 2,
   "metadata": {},
   "outputs": [],
   "source": [
    "df = pd.read_excel('./datasets/raw_data_with_all_labels.xlsx', index_col=0).dropna(subset=[\"y\"])"
   ]
  },
  {
   "cell_type": "code",
   "execution_count": 3,
   "metadata": {},
   "outputs": [
    {
     "data": {
      "text/html": [
       "<div>\n",
       "<style scoped>\n",
       "    .dataframe tbody tr th:only-of-type {\n",
       "        vertical-align: middle;\n",
       "    }\n",
       "\n",
       "    .dataframe tbody tr th {\n",
       "        vertical-align: top;\n",
       "    }\n",
       "\n",
       "    .dataframe thead th {\n",
       "        text-align: right;\n",
       "    }\n",
       "</style>\n",
       "<table border=\"1\" class=\"dataframe\">\n",
       "  <thead>\n",
       "    <tr style=\"text-align: right;\">\n",
       "      <th></th>\n",
       "      <th>watch-title</th>\n",
       "      <th>y</th>\n",
       "      <th>watch-view-count</th>\n",
       "      <th>view</th>\n",
       "      <th>watch-time-text</th>\n",
       "      <th>watch7-headline</th>\n",
       "      <th>watch8-sentiment-actions</th>\n",
       "      <th>og:image</th>\n",
       "      <th>og:image:width</th>\n",
       "      <th>og:description</th>\n",
       "      <th>og:video:width</th>\n",
       "      <th>og:video:height</th>\n",
       "      <th>og:video:tag</th>\n",
       "      <th>content_watch-info-tag-list</th>\n",
       "      <th>channel_link_0</th>\n",
       "    </tr>\n",
       "  </thead>\n",
       "  <tbody>\n",
       "    <tr>\n",
       "      <th>0</th>\n",
       "      <td>Finanças é Coisa de Criança!</td>\n",
       "      <td>0.0</td>\n",
       "      <td>635 visualizações</td>\n",
       "      <td>NaN</td>\n",
       "      <td>Publicado em 30 de jul. de 2019</td>\n",
       "      <td>#intusforma #institucional #educacao\\n\\n\\n\\n  ...</td>\n",
       "      <td>635 visualizações\\n\\n\\n\\n\\nGostou deste vídeo?...</td>\n",
       "      <td>https://i.ytimg.com/vi/-0HZcKmHXn4/maxresdefau...</td>\n",
       "      <td>1280</td>\n",
       "      <td>Um dos nossos primeiros programas que deram vi...</td>\n",
       "      <td>1280.0</td>\n",
       "      <td>720.0</td>\n",
       "      <td>financasecoisadecrianca</td>\n",
       "      <td>Educação</td>\n",
       "      <td>/channel/UCjE76zhvoDw5hnLtmzFHR-Q</td>\n",
       "    </tr>\n",
       "    <tr>\n",
       "      <th>1</th>\n",
       "      <td>Câncer 2020 - Profissional e Finanças 1° semestre</td>\n",
       "      <td>0.0</td>\n",
       "      <td>37.305 visualizações</td>\n",
       "      <td>NaN</td>\n",
       "      <td>Publicado em 3 de dez. de 2019</td>\n",
       "      <td>#tarô #previsão2020 #profissional2020\\n\\n\\n\\n ...</td>\n",
       "      <td>37.305 visualizações\\n\\n\\n\\n\\n\\n\\n\\n2.550\\n\\nG...</td>\n",
       "      <td>https://i.ytimg.com/vi/-1kS-ZrfcYQ/hqdefault.jpg</td>\n",
       "      <td>480</td>\n",
       "      <td>Previsão primeiro semestre de 2020 profissiona...</td>\n",
       "      <td>1280.0</td>\n",
       "      <td>720.0</td>\n",
       "      <td>tarot câncer 2020 profissional</td>\n",
       "      <td>Pessoas e blogs</td>\n",
       "      <td>/channel/UCL6feH5A7tjCoNTKAkJ9ITQ</td>\n",
       "    </tr>\n",
       "    <tr>\n",
       "      <th>2</th>\n",
       "      <td>Seja Rica: Conquiste sua Independência Financeira</td>\n",
       "      <td>0.0</td>\n",
       "      <td>98 visualizações</td>\n",
       "      <td>NaN</td>\n",
       "      <td>Publicado em 30 de mar. de 2017</td>\n",
       "      <td>Seja Rica: Conquiste sua Independência Financeira</td>\n",
       "      <td>98 visualizações\\n\\n\\n\\n\\n\\n\\n\\n29\\n\\nGostou d...</td>\n",
       "      <td>https://i.ytimg.com/vi/-40s-kunvQM/hqdefault.jpg</td>\n",
       "      <td>480</td>\n",
       "      <td>Seja Rica é o novo quadro aqui do canal. Nesse...</td>\n",
       "      <td>640.0</td>\n",
       "      <td>360.0</td>\n",
       "      <td>Rico</td>\n",
       "      <td>Pessoas e blogs</td>\n",
       "      <td>/channel/UChgFe4WPc8Wx4tJVAdd9-rA</td>\n",
       "    </tr>\n",
       "    <tr>\n",
       "      <th>3</th>\n",
       "      <td>Independência FINANCEIRA</td>\n",
       "      <td>0.0</td>\n",
       "      <td>41 visualizações</td>\n",
       "      <td>NaN</td>\n",
       "      <td>Publicado em 19 de mar. de 2019</td>\n",
       "      <td>Independência FINANCEIRA</td>\n",
       "      <td>41 visualizações\\n\\n\\n\\n\\n\\n\\n\\n17\\n\\nGostou d...</td>\n",
       "      <td>https://i.ytimg.com/vi/-6dz-10LkHc/maxresdefau...</td>\n",
       "      <td>1280</td>\n",
       "      <td>Como conseguir sua independência financeira, m...</td>\n",
       "      <td>1280.0</td>\n",
       "      <td>720.0</td>\n",
       "      <td>pouco</td>\n",
       "      <td>Pessoas e blogs</td>\n",
       "      <td>/channel/UCUH-FVOIrY6IW2hs66A4IFA</td>\n",
       "    </tr>\n",
       "    <tr>\n",
       "      <th>5</th>\n",
       "      <td>6 ERROS para NÃO ter a INDEPENDÊNCIA FINANCEIR...</td>\n",
       "      <td>0.0</td>\n",
       "      <td>389 visualizações</td>\n",
       "      <td>NaN</td>\n",
       "      <td>Publicado em 21 de jan. de 2020</td>\n",
       "      <td>6 ERROS para NÃO ter a INDEPENDÊNCIA FINANCEIR...</td>\n",
       "      <td>389 visualizações\\n\\n\\n\\n\\n\\n\\n\\n86\\n\\nGostou ...</td>\n",
       "      <td>https://i.ytimg.com/vi/-CcyxsGoquk/maxresdefau...</td>\n",
       "      <td>1280</td>\n",
       "      <td>Ano novo, vida financeira nova! A partir de ag...</td>\n",
       "      <td>1280.0</td>\n",
       "      <td>720.0</td>\n",
       "      <td>não ter independência financeira</td>\n",
       "      <td>Educação</td>\n",
       "      <td>/channel/UCu8nmn2Na1wcPUxy7dDqG2A</td>\n",
       "    </tr>\n",
       "  </tbody>\n",
       "</table>\n",
       "</div>"
      ],
      "text/plain": [
       "                                         watch-title    y  \\\n",
       "0                       Finanças é Coisa de Criança!  0.0   \n",
       "1  Câncer 2020 - Profissional e Finanças 1° semestre  0.0   \n",
       "2  Seja Rica: Conquiste sua Independência Financeira  0.0   \n",
       "3                           Independência FINANCEIRA  0.0   \n",
       "5  6 ERROS para NÃO ter a INDEPENDÊNCIA FINANCEIR...  0.0   \n",
       "\n",
       "       watch-view-count view                  watch-time-text  \\\n",
       "0     635 visualizações  NaN  Publicado em 30 de jul. de 2019   \n",
       "1  37.305 visualizações  NaN   Publicado em 3 de dez. de 2019   \n",
       "2      98 visualizações  NaN  Publicado em 30 de mar. de 2017   \n",
       "3      41 visualizações  NaN  Publicado em 19 de mar. de 2019   \n",
       "5     389 visualizações  NaN  Publicado em 21 de jan. de 2020   \n",
       "\n",
       "                                     watch7-headline  \\\n",
       "0  #intusforma #institucional #educacao\\n\\n\\n\\n  ...   \n",
       "1  #tarô #previsão2020 #profissional2020\\n\\n\\n\\n ...   \n",
       "2  Seja Rica: Conquiste sua Independência Financeira   \n",
       "3                           Independência FINANCEIRA   \n",
       "5  6 ERROS para NÃO ter a INDEPENDÊNCIA FINANCEIR...   \n",
       "\n",
       "                            watch8-sentiment-actions  \\\n",
       "0  635 visualizações\\n\\n\\n\\n\\nGostou deste vídeo?...   \n",
       "1  37.305 visualizações\\n\\n\\n\\n\\n\\n\\n\\n2.550\\n\\nG...   \n",
       "2  98 visualizações\\n\\n\\n\\n\\n\\n\\n\\n29\\n\\nGostou d...   \n",
       "3  41 visualizações\\n\\n\\n\\n\\n\\n\\n\\n17\\n\\nGostou d...   \n",
       "5  389 visualizações\\n\\n\\n\\n\\n\\n\\n\\n86\\n\\nGostou ...   \n",
       "\n",
       "                                            og:image  og:image:width  \\\n",
       "0  https://i.ytimg.com/vi/-0HZcKmHXn4/maxresdefau...            1280   \n",
       "1   https://i.ytimg.com/vi/-1kS-ZrfcYQ/hqdefault.jpg             480   \n",
       "2   https://i.ytimg.com/vi/-40s-kunvQM/hqdefault.jpg             480   \n",
       "3  https://i.ytimg.com/vi/-6dz-10LkHc/maxresdefau...            1280   \n",
       "5  https://i.ytimg.com/vi/-CcyxsGoquk/maxresdefau...            1280   \n",
       "\n",
       "                                      og:description  og:video:width  \\\n",
       "0  Um dos nossos primeiros programas que deram vi...          1280.0   \n",
       "1  Previsão primeiro semestre de 2020 profissiona...          1280.0   \n",
       "2  Seja Rica é o novo quadro aqui do canal. Nesse...           640.0   \n",
       "3  Como conseguir sua independência financeira, m...          1280.0   \n",
       "5  Ano novo, vida financeira nova! A partir de ag...          1280.0   \n",
       "\n",
       "   og:video:height                      og:video:tag  \\\n",
       "0            720.0           financasecoisadecrianca   \n",
       "1            720.0    tarot câncer 2020 profissional   \n",
       "2            360.0                              Rico   \n",
       "3            720.0                             pouco   \n",
       "5            720.0  não ter independência financeira   \n",
       "\n",
       "  content_watch-info-tag-list                     channel_link_0  \n",
       "0                    Educação  /channel/UCjE76zhvoDw5hnLtmzFHR-Q  \n",
       "1             Pessoas e blogs  /channel/UCL6feH5A7tjCoNTKAkJ9ITQ  \n",
       "2             Pessoas e blogs  /channel/UChgFe4WPc8Wx4tJVAdd9-rA  \n",
       "3             Pessoas e blogs  /channel/UCUH-FVOIrY6IW2hs66A4IFA  \n",
       "5                    Educação  /channel/UCu8nmn2Na1wcPUxy7dDqG2A  "
      ]
     },
     "execution_count": 3,
     "metadata": {},
     "output_type": "execute_result"
    }
   ],
   "source": [
    "df.head()"
   ]
  },
  {
   "cell_type": "code",
   "execution_count": 4,
   "metadata": {},
   "outputs": [
    {
     "data": {
      "text/plain": [
       "0.0"
      ]
     },
     "execution_count": 4,
     "metadata": {},
     "output_type": "execute_result"
    }
   ],
   "source": [
    "df.duplicated().mean()"
   ]
  },
  {
   "cell_type": "code",
   "execution_count": 5,
   "metadata": {},
   "outputs": [
    {
     "data": {
      "text/plain": [
       "0.0017667844522968198"
      ]
     },
     "execution_count": 5,
     "metadata": {},
     "output_type": "execute_result"
    }
   ],
   "source": [
    "df.duplicated(['watch-title']).mean()"
   ]
  },
  {
   "cell_type": "code",
   "execution_count": 6,
   "metadata": {},
   "outputs": [],
   "source": [
    "df = df[~df.duplicated(['watch-title'], keep=False)]"
   ]
  },
  {
   "cell_type": "code",
   "execution_count": 7,
   "metadata": {},
   "outputs": [
    {
     "data": {
      "text/plain": [
       "0.0"
      ]
     },
     "execution_count": 7,
     "metadata": {},
     "output_type": "execute_result"
    }
   ],
   "source": [
    "df.duplicated(['watch-title']).mean()"
   ]
  },
  {
   "cell_type": "code",
   "execution_count": 8,
   "metadata": {},
   "outputs": [
    {
     "data": {
      "text/plain": [
       "(564, 15)"
      ]
     },
     "execution_count": 8,
     "metadata": {},
     "output_type": "execute_result"
    }
   ],
   "source": [
    "df.shape"
   ]
  },
  {
   "cell_type": "code",
   "execution_count": 9,
   "metadata": {},
   "outputs": [],
   "source": [
    "#criando dataframe com os índices do df_labeled\n",
    "df_limpo = pd.DataFrame(index = df.index)"
   ]
  },
  {
   "cell_type": "code",
   "execution_count": 10,
   "metadata": {},
   "outputs": [],
   "source": [
    "df_limpo['title'] = df['watch-title']"
   ]
  },
  {
   "cell_type": "markdown",
   "metadata": {},
   "source": [
    "## Limpando os dados"
   ]
  },
  {
   "cell_type": "code",
   "execution_count": 11,
   "metadata": {},
   "outputs": [
    {
     "data": {
      "text/plain": [
       "0    Publicado em 30 de jul. de 2019\n",
       "1     Publicado em 3 de dez. de 2019\n",
       "2    Publicado em 30 de mar. de 2017\n",
       "3    Publicado em 19 de mar. de 2019\n",
       "5    Publicado em 21 de jan. de 2020\n",
       "Name: watch-time-text, dtype: object"
      ]
     },
     "execution_count": 11,
     "metadata": {},
     "output_type": "execute_result"
    }
   ],
   "source": [
    "#formato da data de publicação no dataframe com labels:\n",
    "df['watch-time-text'].head()"
   ]
  },
  {
   "cell_type": "code",
   "execution_count": 12,
   "metadata": {},
   "outputs": [],
   "source": [
    "map_mes = {'jan.':'Jan',\n",
    "             'fev.':'Feb',\n",
    "              'mar.':'Mar',\n",
    "              'abr.':'Apr',\n",
    "              'mai.':'May',\n",
    "              'jun.':'Jun',\n",
    "              'jul.':'Jul',\n",
    "              'ago.':'Aug',\n",
    "              'set.':'Sep',\n",
    "              'out.':'Oct',\n",
    "              'nov.':'Nov',\n",
    "              'dez.':'Dec'}"
   ]
  },
  {
   "cell_type": "code",
   "execution_count": 13,
   "metadata": {},
   "outputs": [],
   "source": [
    "def limpa_data (row):\n",
    "    \n",
    "    data_limpa = re.search(r\"(\\d+) de ([a-z]+)\\. de (\\d+)\", row.loc['watch-time-text']).group()\n",
    "    data_limpa = data_limpa.split('de ')\n",
    "    data_limpa = [x.strip() for x in data_limpa]\n",
    "    data_limpa[0] = ['0' + str(data_limpa[0]) if len(data_limpa[0]) == 1 else data_limpa[0]][0]\n",
    "    data_limpa[1] = [v for k, v in map_mes.items() if k == data_limpa[1]][0]\n",
    "    data = '-'.join(data_limpa)\n",
    "\n",
    "    return data"
   ]
  },
  {
   "cell_type": "code",
   "execution_count": 14,
   "metadata": {},
   "outputs": [],
   "source": [
    "df['data'] = df.apply(limpa_data, axis=1)"
   ]
  },
  {
   "cell_type": "code",
   "execution_count": 15,
   "metadata": {},
   "outputs": [],
   "source": [
    "df_limpo['data'] = pd.to_datetime(df['data']).copy()"
   ]
  },
  {
   "cell_type": "code",
   "execution_count": 16,
   "metadata": {},
   "outputs": [
    {
     "data": {
      "text/plain": [
       "0       635 visualizações\n",
       "1    37.305 visualizações\n",
       "2        98 visualizações\n",
       "3        41 visualizações\n",
       "5       389 visualizações\n",
       "Name: watch-view-count, dtype: object"
      ]
     },
     "execution_count": 16,
     "metadata": {},
     "output_type": "execute_result"
    }
   ],
   "source": [
    "#coluna com informação de views\n",
    "df['watch-view-count'].head()"
   ]
  },
  {
   "cell_type": "code",
   "execution_count": 17,
   "metadata": {},
   "outputs": [],
   "source": [
    "#adicionando coluna com view count formatado\n",
    "df_limpo['views'] = df['watch-view-count'].str.extract(r\"(\\d+\\.?\\d*)\", expand=False).str.replace(\".\",\"\").fillna(0).astype(int)"
   ]
  },
  {
   "cell_type": "markdown",
   "metadata": {},
   "source": [
    "## Criando Features"
   ]
  },
  {
   "cell_type": "code",
   "execution_count": 18,
   "metadata": {},
   "outputs": [
    {
     "data": {
      "text/html": [
       "<div>\n",
       "<style scoped>\n",
       "    .dataframe tbody tr th:only-of-type {\n",
       "        vertical-align: middle;\n",
       "    }\n",
       "\n",
       "    .dataframe tbody tr th {\n",
       "        vertical-align: top;\n",
       "    }\n",
       "\n",
       "    .dataframe thead th {\n",
       "        text-align: right;\n",
       "    }\n",
       "</style>\n",
       "<table border=\"1\" class=\"dataframe\">\n",
       "  <thead>\n",
       "    <tr style=\"text-align: right;\">\n",
       "      <th></th>\n",
       "      <th>title</th>\n",
       "      <th>data</th>\n",
       "      <th>views</th>\n",
       "    </tr>\n",
       "  </thead>\n",
       "  <tbody>\n",
       "    <tr>\n",
       "      <th>0</th>\n",
       "      <td>Finanças é Coisa de Criança!</td>\n",
       "      <td>2019-07-30</td>\n",
       "      <td>635</td>\n",
       "    </tr>\n",
       "    <tr>\n",
       "      <th>1</th>\n",
       "      <td>Câncer 2020 - Profissional e Finanças 1° semestre</td>\n",
       "      <td>2019-12-03</td>\n",
       "      <td>37305</td>\n",
       "    </tr>\n",
       "    <tr>\n",
       "      <th>2</th>\n",
       "      <td>Seja Rica: Conquiste sua Independência Financeira</td>\n",
       "      <td>2017-03-30</td>\n",
       "      <td>98</td>\n",
       "    </tr>\n",
       "    <tr>\n",
       "      <th>3</th>\n",
       "      <td>Independência FINANCEIRA</td>\n",
       "      <td>2019-03-19</td>\n",
       "      <td>41</td>\n",
       "    </tr>\n",
       "    <tr>\n",
       "      <th>5</th>\n",
       "      <td>6 ERROS para NÃO ter a INDEPENDÊNCIA FINANCEIR...</td>\n",
       "      <td>2020-01-21</td>\n",
       "      <td>389</td>\n",
       "    </tr>\n",
       "  </tbody>\n",
       "</table>\n",
       "</div>"
      ],
      "text/plain": [
       "                                               title       data  views\n",
       "0                       Finanças é Coisa de Criança! 2019-07-30    635\n",
       "1  Câncer 2020 - Profissional e Finanças 1° semestre 2019-12-03  37305\n",
       "2  Seja Rica: Conquiste sua Independência Financeira 2017-03-30     98\n",
       "3                           Independência FINANCEIRA 2019-03-19     41\n",
       "5  6 ERROS para NÃO ter a INDEPENDÊNCIA FINANCEIR... 2020-01-21    389"
      ]
     },
     "execution_count": 18,
     "metadata": {},
     "output_type": "execute_result"
    }
   ],
   "source": [
    "df_limpo.head()"
   ]
  },
  {
   "cell_type": "code",
   "execution_count": 19,
   "metadata": {},
   "outputs": [],
   "source": [
    "#criando dataframe para as features:\n",
    "features = pd.DataFrame(index=df_limpo.index)\n",
    "#criando série com as labels\n",
    "y = df['y'].copy()"
   ]
  },
  {
   "cell_type": "code",
   "execution_count": 20,
   "metadata": {},
   "outputs": [],
   "source": [
    "#criando coluna com dias que se passaram desde a publicação até a data referência\n",
    "features['dias_publicado'] = (pd.to_datetime(\"2020-05-08\") - df_limpo['data']) / np.timedelta64(1, 'D') #denominador cria um objeto timedelta do numpy em diferença de 1 dia\n",
    "\n",
    "#adicionando a coluna de views ao dataframe features\n",
    "features['views'] = df_limpo['views']\n",
    "\n",
    "#calculando views por dia\n",
    "features['views_por_dia'] = features['views']/features['dias_publicado']\n",
    "\n",
    "# retirando coluna de dias após publicação (para explicação, ver notebook para modelo1)\n",
    "features = features.drop('dias_publicado', axis = 1)"
   ]
  },
  {
   "cell_type": "code",
   "execution_count": 21,
   "metadata": {},
   "outputs": [
    {
     "data": {
      "text/html": [
       "<div>\n",
       "<style scoped>\n",
       "    .dataframe tbody tr th:only-of-type {\n",
       "        vertical-align: middle;\n",
       "    }\n",
       "\n",
       "    .dataframe tbody tr th {\n",
       "        vertical-align: top;\n",
       "    }\n",
       "\n",
       "    .dataframe thead th {\n",
       "        text-align: right;\n",
       "    }\n",
       "</style>\n",
       "<table border=\"1\" class=\"dataframe\">\n",
       "  <thead>\n",
       "    <tr style=\"text-align: right;\">\n",
       "      <th></th>\n",
       "      <th>views</th>\n",
       "      <th>views_por_dia</th>\n",
       "    </tr>\n",
       "  </thead>\n",
       "  <tbody>\n",
       "    <tr>\n",
       "      <th>0</th>\n",
       "      <td>635</td>\n",
       "      <td>2.243816</td>\n",
       "    </tr>\n",
       "    <tr>\n",
       "      <th>1</th>\n",
       "      <td>37305</td>\n",
       "      <td>237.611465</td>\n",
       "    </tr>\n",
       "    <tr>\n",
       "      <th>2</th>\n",
       "      <td>98</td>\n",
       "      <td>0.086344</td>\n",
       "    </tr>\n",
       "    <tr>\n",
       "      <th>3</th>\n",
       "      <td>41</td>\n",
       "      <td>0.098558</td>\n",
       "    </tr>\n",
       "    <tr>\n",
       "      <th>5</th>\n",
       "      <td>389</td>\n",
       "      <td>3.601852</td>\n",
       "    </tr>\n",
       "  </tbody>\n",
       "</table>\n",
       "</div>"
      ],
      "text/plain": [
       "   views  views_por_dia\n",
       "0    635       2.243816\n",
       "1  37305     237.611465\n",
       "2     98       0.086344\n",
       "3     41       0.098558\n",
       "5    389       3.601852"
      ]
     },
     "execution_count": 21,
     "metadata": {},
     "output_type": "execute_result"
    }
   ],
   "source": [
    "features.head()"
   ]
  },
  {
   "cell_type": "code",
   "execution_count": 22,
   "metadata": {},
   "outputs": [
    {
     "data": {
      "text/plain": [
       "((282, 2), (282, 2), (282,), (282,))"
      ]
     },
     "execution_count": 22,
     "metadata": {},
     "output_type": "execute_result"
    }
   ],
   "source": [
    "#criando sets de treino e validação, separando os dados em 50% (quantil 0.5)\n",
    "mask_train = df_limpo.data < df_limpo.data.quantile(0.5)\n",
    "mask_val = df_limpo.data >= df_limpo.data.quantile(0.5)\n",
    "\n",
    "Xtrain, Xval = features[mask_train], features[mask_val]\n",
    "ytrain, yval = y[mask_train], y[mask_val]\n",
    "Xtrain.shape, Xval.shape, ytrain.shape, yval.shape"
   ]
  },
  {
   "cell_type": "code",
   "execution_count": 23,
   "metadata": {},
   "outputs": [],
   "source": [
    "from sklearn.feature_extraction.text import TfidfVectorizer\n",
    "\n",
    "title_train = df_limpo[mask_train]['title'] #coletando títulos do set de treino\n",
    "title_val = df_limpo[mask_val]['title'] #coletando títulos do set de validação\n",
    "\n",
    "title_vec = TfidfVectorizer(min_df = 2, ngram_range=(1,3)) #vetorizador. lembrar que modelos não trabalham com strings\n",
    "#ocorrência mínima do termo em 2 vídeos\n",
    "\n",
    "title_bow_train = title_vec.fit_transform(title_train)\n",
    "title_bow_val = title_vec.transform(title_val) #usamos somente transform para transformar somente baseado nas palavras no dataset passado para ele."
   ]
  },
  {
   "cell_type": "code",
   "execution_count": 24,
   "metadata": {},
   "outputs": [
    {
     "data": {
      "text/plain": [
       "(282, 497)"
      ]
     },
     "execution_count": 24,
     "metadata": {},
     "output_type": "execute_result"
    }
   ],
   "source": [
    "title_bow_train.shape  "
   ]
  },
  {
   "cell_type": "markdown",
   "metadata": {},
   "source": [
    "Mais sobre Tf iDF [aqui](https://scikit-learn.org/stable/modules/feature_extraction.html#text-feature-extraction).\n",
    "O resultado acima indica que foram criadas 497 colunas no title_bow_train. Cada coluna é um vetor para cada palavra do título. O formato será uma matriz esparsa (só armazena valores maiores que zero), do scipy."
   ]
  },
  {
   "cell_type": "code",
   "execution_count": 90,
   "metadata": {},
   "outputs": [
    {
     "data": {
      "text/plain": [
       "<282x497 sparse matrix of type '<class 'numpy.float64'>'\n",
       "\twith 2584 stored elements in Compressed Sparse Row format>"
      ]
     },
     "execution_count": 90,
     "metadata": {},
     "output_type": "execute_result"
    }
   ],
   "source": [
    "title_bow_train"
   ]
  },
  {
   "cell_type": "markdown",
   "metadata": {},
   "source": [
    "A matriz criada para title_bow_train armazenou 1411 valores na mmemória. Se fosse armazenar todos os valores, teríamos:"
   ]
  },
  {
   "cell_type": "markdown",
   "metadata": {},
   "source": [
    "Para juntar as features de texto com as numéricas, deve-se usar a função hstack do scipy.sparse (hstack e vstack permitem lidar com matrizes esparsas com mais eficiência.\n",
    "Vamos juntas as features para poder treinar o novo modelo. Mais sobre scipy sparse [aqui](https://docs.scipy.org/doc/scipy/reference/sparse.html)."
   ]
  },
  {
   "cell_type": "code",
   "execution_count": 28,
   "metadata": {},
   "outputs": [],
   "source": [
    "from scipy.sparse import hstack, vstack"
   ]
  },
  {
   "cell_type": "code",
   "execution_count": 29,
   "metadata": {},
   "outputs": [],
   "source": [
    "Xtrain_wtitle = hstack([Xtrain, title_bow_train]) #aqui, juntamos as features de treino em Xtrain com as geradas para os títulos das features de treino\n",
    "Xval_wtitle = hstack([Xval, title_bow_val]) #ídem para validação"
   ]
  },
  {
   "cell_type": "code",
   "execution_count": 30,
   "metadata": {},
   "outputs": [
    {
     "data": {
      "text/plain": [
       "((282, 499), (282, 499))"
      ]
     },
     "execution_count": 30,
     "metadata": {},
     "output_type": "execute_result"
    }
   ],
   "source": [
    "# o total de colunas será a soma das colunas das features numéricas com as de texto (2 + 211 = 213)\n",
    "Xtrain_wtitle.shape, Xval_wtitle.shape"
   ]
  },
  {
   "cell_type": "markdown",
   "metadata": {},
   "source": [
    "## Random Forest"
   ]
  },
  {
   "cell_type": "code",
   "execution_count": 34,
   "metadata": {},
   "outputs": [],
   "source": [
    "#importando alguns modelos\n",
    "from sklearn.linear_model import LogisticRegression\n",
    "from sklearn.tree import DecisionTreeClassifier\n",
    "from sklearn.model_selection import train_test_split\n",
    "from sklearn.ensemble import RandomForestClassifier\n",
    "from sklearn.metrics import roc_auc_score, average_precision_score"
   ]
  },
  {
   "cell_type": "code",
   "execution_count": 51,
   "metadata": {},
   "outputs": [
    {
     "name": "stdout",
     "output_type": "stream",
     "text": [
      "Wall time: 1.27 s\n"
     ]
    },
    {
     "data": {
      "text/plain": [
       "RandomForestClassifier(class_weight='balanced', n_estimators=1000, n_jobs=8,\n",
       "                       random_state=0)"
      ]
     },
     "execution_count": 51,
     "metadata": {},
     "output_type": "execute_result"
    }
   ],
   "source": [
    "%%time\n",
    "#treinando modelo\n",
    "# 1000 árvores\n",
    "\n",
    "mdl_rf = RandomForestClassifier(n_estimators = 1000, min_samples_leaf=1, random_state = 0, class_weight=\"balanced\", n_jobs=8)\n",
    "mdl_rf.fit(Xtrain_wtitle, ytrain)"
   ]
  },
  {
   "cell_type": "code",
   "execution_count": 52,
   "metadata": {},
   "outputs": [],
   "source": [
    "p_rf = mdl_rf.predict_proba(Xval_wtitle)[:, 1]"
   ]
  },
  {
   "cell_type": "code",
   "execution_count": 53,
   "metadata": {},
   "outputs": [
    {
     "data": {
      "text/plain": [
       "(0.7070328313955678, 0.8872246696035242)"
      ]
     },
     "execution_count": 53,
     "metadata": {},
     "output_type": "execute_result"
    }
   ],
   "source": [
    "average_precision_score(yval, p_rf), roc_auc_score(yval, p_rf)"
   ]
  },
  {
   "cell_type": "markdown",
   "metadata": {},
   "source": [
    "## LightGBM\n",
    "utilizando os parâmetros tunados no notebook 4."
   ]
  },
  {
   "cell_type": "code",
   "execution_count": 37,
   "metadata": {},
   "outputs": [],
   "source": [
    "from lightgbm import LGBMClassifier"
   ]
  },
  {
   "cell_type": "code",
   "execution_count": 67,
   "metadata": {},
   "outputs": [
    {
     "name": "stderr",
     "output_type": "stream",
     "text": [
      "d:\\solucao completa de ds - mario filho\\projeto\\.env\\lib\\site-packages\\lightgbm\\basic.py:546: UserWarning: Converting data to scipy sparse matrix.\n",
      "  warnings.warn('Converting data to scipy sparse matrix.')\n"
     ]
    }
   ],
   "source": [
    "#aqui, mudamos o ngram_range para (1,3) para ter o mesmo vetorizados da RF\n",
    "params = [0.00781968225875022, 3, 4, 0.7078936710077383, 0.31818755505678337, 275, 4, 3]\n",
    "\n",
    "lr=params[0]\n",
    "max_depth=params[1]\n",
    "min_child_samples=params[2]\n",
    "subsample=params[3] #pega uma amostra dos dados a cada rodada de treino para diminuir overfitting\n",
    "colsample_bytree=params[4]\n",
    "n_estimators=params[5]\n",
    "\n",
    "min_df=params[6]\n",
    "ngram_range=(1, params[7])\n",
    "\n",
    "title_vec = TfidfVectorizer(min_df = min_df, ngram_range=ngram_range) \n",
    "title_bow_train = title_vec.fit_transform(title_train)\n",
    "title_bow_val = title_vec.transform(title_val) \n",
    "\n",
    "Xtrain_wtitle = hstack([Xtrain, title_bow_train]) \n",
    "Xval_wtitle = hstack([Xval, title_bow_val])\n",
    "\n",
    "mdl_lgbm =LGBMClassifier(learning_rate=lr, num_leaves=2 ** max_depth, max_depth = max_depth, min_child_samples = min_child_samples,\n",
    "                   subsample = subsample, colsample_bytree = colsample_bytree, bagging_freq = 1, n_estimators = n_estimators,\n",
    "                   random_state=0, class_weight = 'balanced', n_jobs = 8)\n",
    "\n",
    "mdl_lgbm.fit(Xtrain_wtitle, ytrain)\n",
    "\n",
    "p_lgbm = mdl_lgbm.predict_proba(Xval_wtitle)[:, 1]\n",
    "    \n"
   ]
  },
  {
   "cell_type": "code",
   "execution_count": 68,
   "metadata": {},
   "outputs": [
    {
     "data": {
      "text/plain": [
       "(0.7274743798668423, 0.893311974369243)"
      ]
     },
     "execution_count": 68,
     "metadata": {},
     "output_type": "execute_result"
    }
   ],
   "source": [
    "average_precision_score(yval, p2), roc_auc_score(yval, p2)"
   ]
  },
  {
   "cell_type": "markdown",
   "metadata": {},
   "source": [
    "## Logistic Regression"
   ]
  },
  {
   "cell_type": "code",
   "execution_count": 43,
   "metadata": {},
   "outputs": [],
   "source": [
    "from sklearn.preprocessing import MaxAbsScaler, StandardScaler\n",
    "from scipy.sparse import csr_matrix #converte matrix densa em sparse"
   ]
  },
  {
   "cell_type": "code",
   "execution_count": 41,
   "metadata": {},
   "outputs": [],
   "source": [
    "from sklearn.pipeline import make_pipeline"
   ]
  },
  {
   "cell_type": "code",
   "execution_count": 44,
   "metadata": {},
   "outputs": [],
   "source": [
    "Xtrain_wtitle2 = csr_matrix(Xtrain_wtitle.copy())\n",
    "Xval_wtitle2 = csr_matrix(Xval_wtitle.copy())"
   ]
  },
  {
   "cell_type": "code",
   "execution_count": 45,
   "metadata": {},
   "outputs": [
    {
     "data": {
      "text/plain": [
       "Pipeline(steps=[('maxabsscaler', MaxAbsScaler()),\n",
       "                ('logisticregression',\n",
       "                 LogisticRegression(C=0.5, n_jobs=6, random_state=0))])"
      ]
     },
     "execution_count": 45,
     "metadata": {},
     "output_type": "execute_result"
    }
   ],
   "source": [
    "lr_pipeline = make_pipeline(MaxAbsScaler(),LogisticRegression(C=0.5, penalty='l2', n_jobs=6, random_state=0))\n",
    "lr_pipeline.fit(Xtrain_wtitle2, ytrain)"
   ]
  },
  {
   "cell_type": "code",
   "execution_count": 46,
   "metadata": {},
   "outputs": [],
   "source": [
    "p_lr = lr_pipeline.predict_proba(Xval_wtitle2)[:,1]"
   ]
  },
  {
   "cell_type": "code",
   "execution_count": 47,
   "metadata": {},
   "outputs": [
    {
     "data": {
      "text/plain": [
       "(0.5079593263614605, 0.8436523828594313)"
      ]
     },
     "execution_count": 47,
     "metadata": {},
     "output_type": "execute_result"
    }
   ],
   "source": [
    "average_precision_score(yval, p_lr), roc_auc_score(yval, p_lr)"
   ]
  },
  {
   "cell_type": "markdown",
   "metadata": {},
   "source": [
    "## Ensemble"
   ]
  },
  {
   "cell_type": "markdown",
   "metadata": {},
   "source": [
    "#### anotando todos os scores de cada modelo\n",
    "(average_precision, roc_auc)  \n",
    "\n",
    "(0.7094600167650358, 0.8830196235482579) - RF  \n",
    "(0.7197493613596355, 0.8909891870244293) - LGBM ngram_range (1,4)\n",
    "(0.7274743798668423, 0.893311974369243) - LGBM ngram_range (1,3)\n",
    "(0.5079593263614605, 0.8436523828594313) - LR"
   ]
  },
  {
   "cell_type": "code",
   "execution_count": 69,
   "metadata": {},
   "outputs": [
    {
     "data": {
      "text/plain": [
       "(0.6980763543070417, 0.8905086103323989)"
      ]
     },
     "execution_count": 69,
     "metadata": {},
     "output_type": "execute_result"
    }
   ],
   "source": [
    "# média simples\n",
    "p = (p_lr + p_rf + p_lgbm)/3\n",
    "average_precision_score(yval, p), roc_auc_score(yval, p)"
   ]
  },
  {
   "cell_type": "code",
   "execution_count": 70,
   "metadata": {},
   "outputs": [
    {
     "data": {
      "text/html": [
       "<div>\n",
       "<style scoped>\n",
       "    .dataframe tbody tr th:only-of-type {\n",
       "        vertical-align: middle;\n",
       "    }\n",
       "\n",
       "    .dataframe tbody tr th {\n",
       "        vertical-align: top;\n",
       "    }\n",
       "\n",
       "    .dataframe thead th {\n",
       "        text-align: right;\n",
       "    }\n",
       "</style>\n",
       "<table border=\"1\" class=\"dataframe\">\n",
       "  <thead>\n",
       "    <tr style=\"text-align: right;\">\n",
       "      <th></th>\n",
       "      <th>LR</th>\n",
       "      <th>RF</th>\n",
       "      <th>LGBM</th>\n",
       "    </tr>\n",
       "  </thead>\n",
       "  <tbody>\n",
       "    <tr>\n",
       "      <th>LR</th>\n",
       "      <td>1.000000</td>\n",
       "      <td>0.830500</td>\n",
       "      <td>0.827342</td>\n",
       "    </tr>\n",
       "    <tr>\n",
       "      <th>RF</th>\n",
       "      <td>0.830500</td>\n",
       "      <td>1.000000</td>\n",
       "      <td>0.964848</td>\n",
       "    </tr>\n",
       "    <tr>\n",
       "      <th>LGBM</th>\n",
       "      <td>0.827342</td>\n",
       "      <td>0.964848</td>\n",
       "      <td>1.000000</td>\n",
       "    </tr>\n",
       "  </tbody>\n",
       "</table>\n",
       "</div>"
      ],
      "text/plain": [
       "            LR        RF      LGBM\n",
       "LR    1.000000  0.830500  0.827342\n",
       "RF    0.830500  1.000000  0.964848\n",
       "LGBM  0.827342  0.964848  1.000000"
      ]
     },
     "execution_count": 70,
     "metadata": {},
     "output_type": "execute_result"
    }
   ],
   "source": [
    "# verificando diferenças entre os modelos (calculando correlação de pearson)\n",
    "pd.DataFrame({\"LR\":p_lr, \"RF\":p_rf, \"LGBM\":p_lgbm}).corr()"
   ]
  },
  {
   "cell_type": "markdown",
   "metadata": {},
   "source": [
    "Acima, podemos ver que a correlação entre LGBM e RF é bem alta (acima de 96%). Isso pode indicar que fazer um ensemble dos modelos não geraria ganho que justifique, diferentemente da solução do Mário Filho dentro do curso."
   ]
  },
  {
   "cell_type": "code",
   "execution_count": 71,
   "metadata": {},
   "outputs": [
    {
     "data": {
      "text/plain": [
       "(0.6980763543070417, 0.8926712054465359)"
      ]
     },
     "execution_count": 71,
     "metadata": {},
     "output_type": "execute_result"
    }
   ],
   "source": [
    "#testando LGBM e RF\n",
    "p2 = 0.5*p_rf + 0.5*p_lgbm\n",
    "average_precision_score(yval, p), roc_auc_score(yval, p2)"
   ]
  },
  {
   "cell_type": "code",
   "execution_count": 76,
   "metadata": {},
   "outputs": [
    {
     "data": {
      "text/plain": [
       "(0.6980763543070417, 0.8929114937925511)"
      ]
     },
     "execution_count": 76,
     "metadata": {},
     "output_type": "execute_result"
    }
   ],
   "source": [
    "#testando LGBM e RF\n",
    "p3 = 0.3*p_rf + 0.7*p_lgbm\n",
    "average_precision_score(yval, p), roc_auc_score(yval, p3) #há um pouco de overfitting por estarmos fazendo em dados valid (o modelo já viu)"
   ]
  },
  {
   "cell_type": "markdown",
   "metadata": {},
   "source": [
    "## Salvando modelos\n",
    "\n",
    "Os testes acima mostraram que nenhuma combinação testada foi capaz de melhorar os scores do LGBM sozinho, motivo pelo qual iremos colocar somente o LGBM em produção."
   ]
  },
  {
   "cell_type": "code",
   "execution_count": 77,
   "metadata": {},
   "outputs": [],
   "source": [
    "import joblib as jb"
   ]
  },
  {
   "cell_type": "code",
   "execution_count": 79,
   "metadata": {},
   "outputs": [
    {
     "data": {
      "text/plain": [
       "['./modelos/title_vectorizer_20200710.pkl.z']"
      ]
     },
     "execution_count": 79,
     "metadata": {},
     "output_type": "execute_result"
    }
   ],
   "source": [
    "jb.dump(mdl_lgbm, \"./modelos/lgbm_20200710.pkl.z\")\n",
    "jb.dump(title_vec, \"./modelos/title_vectorizer_20200710.pkl.z\")"
   ]
  }
 ],
 "metadata": {
  "kernelspec": {
   "display_name": "Python 3",
   "language": "python",
   "name": "python3"
  },
  "language_info": {
   "codemirror_mode": {
    "name": "ipython",
    "version": 3
   },
   "file_extension": ".py",
   "mimetype": "text/x-python",
   "name": "python",
   "nbconvert_exporter": "python",
   "pygments_lexer": "ipython3",
   "version": "3.7.6"
  }
 },
 "nbformat": 4,
 "nbformat_minor": 4
}
