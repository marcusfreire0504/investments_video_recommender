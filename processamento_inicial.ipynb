{
 "cells": [
  {
   "cell_type": "markdown",
   "metadata": {},
   "source": [
    "## Processando os dados brutos  \n",
    "No noteboole coleta_de_dados, foi feita a extração das páginas web contendo links de vídeos para as queries definidas na fase de planejamento. A seguir, será iniciado o processamento dos dados. O objetivo dessa etapa é gerar um conjunto de dados que permita treinar um modelo de Machine Learning capaz de atender ao que foi definido no projeto. Até lá, diversas etapas de processamento serão necessárias, uma vez que precisaremos tratar os dados brutos em vários aspectos. A seguir, faremos o processamento dos dados a fim de criar um arquivo json que contenha:  \n",
    "* link do video\n",
    "* título\n",
    "* nome do canal\n",
    "* query utilizada"
   ]
  },
  {
   "cell_type": "code",
   "execution_count": 33,
   "metadata": {},
   "outputs": [],
   "source": [
    "import bs4\n",
    "import pandas as pd\n",
    "import json"
   ]
  },
  {
   "cell_type": "code",
   "execution_count": 1,
   "metadata": {},
   "outputs": [],
   "source": [
    "# queries:\n",
    "queries=['investimentos','finanças','independência+financeira']"
   ]
  },
  {
   "cell_type": "code",
   "execution_count": 4,
   "metadata": {},
   "outputs": [],
   "source": [
    "# string com caminho para as páginas extraídas\n",
    "path = './paginas_web/{}_{}.html'"
   ]
  },
  {
   "cell_type": "code",
   "execution_count": 75,
   "metadata": {},
   "outputs": [],
   "source": [
    "#criando json\n",
    "for query in queries:\n",
    "    for page in range(1,2):\n",
    "        with open(path.format(query, page), 'r+', encoding='utf8') as inp:\n",
    "            page_html = inp.read()\n",
    "            parsed = bs4.BeautifulSoup(page_html) #o objeto *parsed* contém a página html parseada em tags.\n",
    "            \n",
    "            tags = parsed.findAll('a') # as tags 'a' na página web contém as informações de interesse. O objeto *tags* conterá uma lista com todas as tags encontradas\n",
    "            \n",
    "            for e in tags:\n",
    "                if e.has_attr('aria-describedby'):# a string *aria_describedby* é o parâmetro mais seguro para garantir que a tag contém os dados que queremos (título, canal, etc)\n",
    "                    link = e['href'] #recupera o link para acesso ai video\n",
    "                    title = e['title'] #recupera o título do vídeo\n",
    "                #if e['href'].find('/channel/'): #não foi possível encontrar critério confiável para coletar o nome do canal\n",
    "                    #channel = e['href']\n",
    "                    with open (\"parsed_videos.json\", \"a+\") as output:\n",
    "                        data = dict(link=link, title=title, query=query)\n",
    "                        output.write(\"{}\\n\".format(json.dumps(data)))"
   ]
  },
  {
   "cell_type": "code",
   "execution_count": 76,
   "metadata": {},
   "outputs": [],
   "source": [
    "df = pd.read_json('parsed_videos.json', lines=True)"
   ]
  },
  {
   "cell_type": "code",
   "execution_count": 77,
   "metadata": {},
   "outputs": [
    {
     "data": {
      "text/html": [
       "<div>\n",
       "<style scoped>\n",
       "    .dataframe tbody tr th:only-of-type {\n",
       "        vertical-align: middle;\n",
       "    }\n",
       "\n",
       "    .dataframe tbody tr th {\n",
       "        vertical-align: top;\n",
       "    }\n",
       "\n",
       "    .dataframe thead th {\n",
       "        text-align: right;\n",
       "    }\n",
       "</style>\n",
       "<table border=\"1\" class=\"dataframe\">\n",
       "  <thead>\n",
       "    <tr style=\"text-align: right;\">\n",
       "      <th></th>\n",
       "      <th>link</th>\n",
       "      <th>title</th>\n",
       "      <th>query</th>\n",
       "    </tr>\n",
       "  </thead>\n",
       "  <tbody>\n",
       "    <tr>\n",
       "      <th>0</th>\n",
       "      <td>/watch?v=3XLlu8GC2gg</td>\n",
       "      <td>URGENTE! A TAXA SELIC CAIU PARA 3%! | QUAL O I...</td>\n",
       "      <td>investimentos</td>\n",
       "    </tr>\n",
       "    <tr>\n",
       "      <th>1</th>\n",
       "      <td>/watch?v=-sGOvusS5NI</td>\n",
       "      <td>3 INVESTIMENTOS PRA INICIANTES NA BOLSA DE VAL...</td>\n",
       "      <td>investimentos</td>\n",
       "    </tr>\n",
       "    <tr>\n",
       "      <th>2</th>\n",
       "      <td>/watch?v=uuvGLCQUvFY</td>\n",
       "      <td>Taxa Selic caiu mais uma vez! Onde investir ne...</td>\n",
       "      <td>investimentos</td>\n",
       "    </tr>\n",
       "    <tr>\n",
       "      <th>3</th>\n",
       "      <td>/watch?v=-HJn3vgOx_M</td>\n",
       "      <td>GANHE DINHEIRO EM 2020! TOP 6 investimentos do...</td>\n",
       "      <td>investimentos</td>\n",
       "    </tr>\n",
       "    <tr>\n",
       "      <th>4</th>\n",
       "      <td>/watch?v=dJyJ77GkhBE</td>\n",
       "      <td>O Guia BÁSICO para começar a INVESTIR com POUC...</td>\n",
       "      <td>investimentos</td>\n",
       "    </tr>\n",
       "  </tbody>\n",
       "</table>\n",
       "</div>"
      ],
      "text/plain": [
       "                   link                                              title  \\\n",
       "0  /watch?v=3XLlu8GC2gg  URGENTE! A TAXA SELIC CAIU PARA 3%! | QUAL O I...   \n",
       "1  /watch?v=-sGOvusS5NI  3 INVESTIMENTOS PRA INICIANTES NA BOLSA DE VAL...   \n",
       "2  /watch?v=uuvGLCQUvFY  Taxa Selic caiu mais uma vez! Onde investir ne...   \n",
       "3  /watch?v=-HJn3vgOx_M  GANHE DINHEIRO EM 2020! TOP 6 investimentos do...   \n",
       "4  /watch?v=dJyJ77GkhBE  O Guia BÁSICO para começar a INVESTIR com POUC...   \n",
       "\n",
       "           query  \n",
       "0  investimentos  \n",
       "1  investimentos  \n",
       "2  investimentos  \n",
       "3  investimentos  \n",
       "4  investimentos  "
      ]
     },
     "execution_count": 77,
     "metadata": {},
     "output_type": "execute_result"
    }
   ],
   "source": [
    "df.head()"
   ]
  }
 ],
 "metadata": {
  "kernelspec": {
   "display_name": "Python 3",
   "language": "python",
   "name": "python3"
  },
  "language_info": {
   "codemirror_mode": {
    "name": "ipython",
    "version": 3
   },
   "file_extension": ".py",
   "mimetype": "text/x-python",
   "name": "python",
   "nbconvert_exporter": "python",
   "pygments_lexer": "ipython3",
   "version": "3.7.6"
  }
 },
 "nbformat": 4,
 "nbformat_minor": 4
}
