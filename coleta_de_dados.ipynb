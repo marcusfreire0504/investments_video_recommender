{
 "cells": [
  {
   "cell_type": "markdown",
   "metadata": {},
   "source": [
    "# Coleta de dados do youtube - etapa 1\n",
    "\n",
    "Nesse notebook serão coletadas as páginas do youtube que esperamos conter os dados de interesse (ver Readme). Esse e os próximos notebooks são baseados na abordagem utilizada pelo Mário Filho, no seu curso. A ideia de coletar várias páginas do youtube visa evitar sobrecarga do servidor e/ou bloqueio de ip, o que pode ocorrer (provavelmente não com o youtube) quando estamos coletando dados da web."
   ]
  },
  {
   "cell_type": "code",
   "execution_count": 3,
   "metadata": {},
   "outputs": [],
   "source": [
    "# importando pacotes\n",
    "import pandas as pd\n",
    "import numpy as np\n",
    "import re\n",
    "import time\n",
    "\n",
    "import requests as rq\n",
    "import bs4"
   ]
  },
  {
   "cell_type": "code",
   "execution_count": 17,
   "metadata": {},
   "outputs": [],
   "source": [
    "from tqdm import tqdm"
   ]
  },
  {
   "cell_type": "code",
   "execution_count": 13,
   "metadata": {},
   "outputs": [],
   "source": [
    "#definindo queries\n",
    "queries=['investimentos','finanças','independência+financeira']"
   ]
  },
  {
   "cell_type": "markdown",
   "metadata": {},
   "source": [
    "Aqui, a url de busca irá classificar os vídeos por relevância."
   ]
  },
  {
   "cell_type": "code",
   "execution_count": 6,
   "metadata": {},
   "outputs": [],
   "source": [
    "#denifindo string da url\n",
    "url = 'https://www.youtube.com/results?search_query={query}&sp=CAASAhAB&p={page}'"
   ]
  },
  {
   "cell_type": "code",
   "execution_count": 7,
   "metadata": {},
   "outputs": [],
   "source": [
    "#variável para quantidade de páginas salvas\n",
    "numpages=1"
   ]
  },
  {
   "cell_type": "code",
   "execution_count": 14,
   "metadata": {},
   "outputs": [
    {
     "name": "stdout",
     "output_type": "stream",
     "text": [
      "https://www.youtube.com/results?search_query=investimentos&sp=CAASAhAB&p=0\n",
      "https://www.youtube.com/results?search_query=finanças&sp=CAASAhAB&p=0\n",
      "https://www.youtube.com/results?search_query=independência+financeira&sp=CAASAhAB&p=0\n"
     ]
    }
   ],
   "source": [
    "## coletando páginas web para inspeção inicial\n",
    "for query in queries:\n",
    "    for page in range(numpages):\n",
    "        urll = url.format(query=query, page=page)\n",
    "        print(urll)\n",
    "        response=rq.get(urll) #coletando a página \n",
    "       \n",
    "        #salvando as páginas web na pasta paginas_web\n",
    "        with open('./paginas_web/{}_{}.html'.format(query, page), 'w+', encoding='utf8') as output:\n",
    "            output.write(response.text)\n",
    "        time.sleep(2)\n",
    "        \n",
    "\n",
    "        "
   ]
  },
  {
   "cell_type": "markdown",
   "metadata": {},
   "source": [
    "Após inspeção inicial, pode-se afirmar que as queries definidas na fase de análise do problema são válidas para o propósito pretendido. Num cenário onde poderemos utilizar entre 10 e 20 vídeos de cada página, vamos coletar 100 páginas para cada query, o que irá retornar um número razoável de dados para treinar o modelo inicial."
   ]
  },
  {
   "cell_type": "code",
   "execution_count": 15,
   "metadata": {},
   "outputs": [],
   "source": [
    "# variável com o total de páginas a recuperar para cada query\n",
    "numpages=101"
   ]
  },
  {
   "cell_type": "code",
   "execution_count": 19,
   "metadata": {},
   "outputs": [
    {
     "name": "stderr",
     "output_type": "stream",
     "text": [
      "100%|████████████████████████████████████████████████████████████████████████████████| 100/100 [05:20<00:00,  3.20s/it]\n",
      "100%|████████████████████████████████████████████████████████████████████████████████| 100/100 [05:24<00:00,  3.25s/it]\n",
      "100%|████████████████████████████████████████████████████████████████████████████████| 100/100 [05:28<00:00,  3.28s/it]\n"
     ]
    }
   ],
   "source": [
    "for query in queries:\n",
    "    for page in tqdm(range(1, numpages)):#precisamos começar da página 1. numpages deve ser 101 para obtermos 100 páginas.\n",
    "        urll = url.format(query=query, page=page)\n",
    "        #print(urll)\n",
    "        response=rq.get(urll) #coletando a página \n",
    "       \n",
    "        #salvando as páginas web na pasta paginas_web\n",
    "        with open('./paginas_web/{}_{}.html'.format(query, page), 'w+', encoding='utf8') as output:\n",
    "            output.write(response.text)\n",
    "        time.sleep(2)"
   ]
  },
  {
   "cell_type": "markdown",
   "metadata": {},
   "source": []
  }
 ],
 "metadata": {
  "kernelspec": {
   "display_name": "Python 3",
   "language": "python",
   "name": "python3"
  },
  "language_info": {
   "codemirror_mode": {
    "name": "ipython",
    "version": 3
   },
   "file_extension": ".py",
   "mimetype": "text/x-python",
   "name": "python",
   "nbconvert_exporter": "python",
   "pygments_lexer": "ipython3",
   "version": "3.7.6"
  }
 },
 "nbformat": 4,
 "nbformat_minor": 4
}
